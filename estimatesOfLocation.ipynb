{
 "cells": [
  {
   "cell_type": "code",
   "execution_count": 1,
   "metadata": {
    "collapsed": true
   },
   "outputs": [],
   "source": [
    "alumnos = [29,22,25,18,22,18,19,18,26,28,25,21]"
   ]
  },
  {
   "cell_type": "code",
   "execution_count": 2,
   "outputs": [
    {
     "data": {
      "text/plain": "22.583333333333332"
     },
     "execution_count": 2,
     "metadata": {},
     "output_type": "execute_result"
    }
   ],
   "source": [
    "suma = 0\n",
    "\n",
    "for edad in alumnos:\n",
    "    suma += edad\n",
    "\n",
    "n = len(alumnos)\n",
    "mean = suma / n\n",
    "\n",
    "mean"
   ],
   "metadata": {
    "collapsed": false,
    "pycharm": {
     "name": "#%%\n"
    }
   }
  },
  {
   "cell_type": "markdown",
   "source": [
    "# Trimmed mean"
   ],
   "metadata": {
    "collapsed": false,
    "pycharm": {
     "name": "#%% md\n"
    }
   }
  },
  {
   "cell_type": "code",
   "execution_count": 14,
   "outputs": [],
   "source": [
    "def trimmed_mean(lista,p):\n",
    "    lista_ordenada = sorted(lista)\n",
    "    trimmed_list = lista_ordenada[p:-p]\n",
    "    return sum(trimmed_list)/(len(trimmed_list))\n"
   ],
   "metadata": {
    "collapsed": false,
    "pycharm": {
     "name": "#%%\n"
    }
   }
  },
  {
   "cell_type": "code",
   "execution_count": 15,
   "outputs": [
    {
     "data": {
      "text/plain": "22.25"
     },
     "execution_count": 15,
     "metadata": {},
     "output_type": "execute_result"
    }
   ],
   "source": [
    "resultado = trimmed_mean(alumnos,2)\n",
    "resultado"
   ],
   "metadata": {
    "collapsed": false,
    "pycharm": {
     "name": "#%%\n"
    }
   }
  },
  {
   "cell_type": "markdown",
   "source": [
    "# Weighted mean"
   ],
   "metadata": {
    "collapsed": false,
    "pycharm": {
     "name": "#%% md\n"
    }
   }
  },
  {
   "cell_type": "code",
   "execution_count": 17,
   "outputs": [],
   "source": [
    "def weighted_mean(values,weights):\n",
    "    suma = 0\n",
    "    suma_pesos = 0\n",
    "    for i in range(len(values)):\n",
    "        suma += values[i]*weights[i]\n",
    "        suma_pesos += weights[i]\n",
    "\n",
    "    return suma/suma_pesos"
   ],
   "metadata": {
    "collapsed": false,
    "pycharm": {
     "name": "#%%\n"
    }
   }
  },
  {
   "cell_type": "code",
   "execution_count": 18,
   "outputs": [
    {
     "data": {
      "text/plain": "24.1875"
     },
     "execution_count": 18,
     "metadata": {},
     "output_type": "execute_result"
    }
   ],
   "source": [
    "lista_pesos = [5,1,1,1,1,1,1,1,1,1,1,1]\n",
    "\n",
    "weighted_mean(alumnos,lista_pesos)"
   ],
   "metadata": {
    "collapsed": false,
    "pycharm": {
     "name": "#%%\n"
    }
   }
  },
  {
   "cell_type": "markdown",
   "source": [
    "# Median"
   ],
   "metadata": {
    "collapsed": false,
    "pycharm": {
     "name": "#%% md\n"
    }
   }
  },
  {
   "cell_type": "code",
   "execution_count": 8,
   "outputs": [
    {
     "data": {
      "text/plain": "5.5"
     },
     "execution_count": 8,
     "metadata": {},
     "output_type": "execute_result"
    }
   ],
   "source": [
    "def get_median(data):\n",
    "    ordered_data = sorted(data)\n",
    "    size = len(ordered_data)\n",
    "    # verificamos si es par n\n",
    "    if size%2==0:\n",
    "        pos1 = (size-2)/2\n",
    "        pos2 = size/2\n",
    "        return (ordered_data[int(pos1)]+ordered_data[int(pos2)])/2\n",
    "    else:\n",
    "        pos = (size-1)/2\n",
    "        return ordered_data[int(pos)]\n",
    "\n",
    "lista_ejemplo = [1,2,3,4,5,6,7,8,9,10]\n",
    "\n",
    "get_median(lista_ejemplo)"
   ],
   "metadata": {
    "collapsed": false,
    "pycharm": {
     "name": "#%%\n"
    }
   }
  },
  {
   "cell_type": "code",
   "execution_count": 1,
   "outputs": [],
   "source": [
    "import csv"
   ],
   "metadata": {
    "collapsed": false,
    "pycharm": {
     "name": "#%%\n"
    }
   }
  },
  {
   "cell_type": "markdown",
   "source": [
    "# Weighted median"
   ],
   "metadata": {
    "collapsed": false,
    "pycharm": {
     "name": "#%% md\n"
    }
   }
  },
  {
   "cell_type": "code",
   "execution_count": 7,
   "outputs": [],
   "source": [
    "def orderTwoLists(data,weights):\n",
    "    for i in range(len(data)):\n",
    "        for j in range(i,len(data)):\n",
    "            if data[i]>data[j]:\n",
    "                aux = data[i]\n",
    "                data[i] = data[j]\n",
    "                data[j] = aux\n",
    "\n",
    "                auxW = weights[i]\n",
    "                weights[i] = weights[j]\n",
    "                weights[j] = auxW\n",
    "\n",
    "    return data,weights"
   ],
   "metadata": {
    "collapsed": false,
    "pycharm": {
     "name": "#%%\n"
    }
   }
  },
  {
   "cell_type": "code",
   "execution_count": 8,
   "outputs": [],
   "source": [
    "def weighted_median(data,weights):\n",
    "    possible_wm = []\n",
    "    for i in range(len(weights)):\n",
    "        izq = sum(weights[0:i])\n",
    "        der = sum(weights[i+1:])\n",
    "        if izq<=0.5 and der<=0.5:\n",
    "            possible_wm.append(data[i])\n",
    "\n",
    "    if len(possible_wm)==1:\n",
    "        return possible_wm[0]\n",
    "\n",
    "    return (possible_wm[0]+possible_wm[1])/2"
   ],
   "metadata": {
    "collapsed": false,
    "pycharm": {
     "name": "#%%\n"
    }
   }
  },
  {
   "cell_type": "code",
   "execution_count": 10,
   "outputs": [
    {
     "name": "stdout",
     "output_type": "stream",
     "text": [
      "4\n",
      "2.5\n",
      "2.5\n"
     ]
    }
   ],
   "source": [
    "data,weights = orderTwoLists([1,2,4,3,5],[0.15,0.1,0.3,0.2,0.25])\n",
    "print(weighted_median(data,weights))\n",
    "data,weights = orderTwoLists([1,2,4,3],[0.49,0.01,0.25,0.25])\n",
    "print(weighted_median(data,weights))\n",
    "data,weights = orderTwoLists([1,2,4,3],[0.25,0.25,0.25,0.25])\n",
    "print(weighted_median(data,weights))"
   ],
   "metadata": {
    "collapsed": false,
    "pycharm": {
     "name": "#%%\n"
    }
   }
  },
  {
   "cell_type": "code",
   "execution_count": null,
   "outputs": [],
   "source": [],
   "metadata": {
    "collapsed": false,
    "pycharm": {
     "name": "#%%\n"
    }
   }
  }
 ],
 "metadata": {
  "kernelspec": {
   "display_name": "Python 3",
   "language": "python",
   "name": "python3"
  },
  "language_info": {
   "codemirror_mode": {
    "name": "ipython",
    "version": 2
   },
   "file_extension": ".py",
   "mimetype": "text/x-python",
   "name": "python",
   "nbconvert_exporter": "python",
   "pygments_lexer": "ipython2",
   "version": "2.7.6"
  }
 },
 "nbformat": 4,
 "nbformat_minor": 0
}