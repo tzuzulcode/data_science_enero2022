{
 "cells": [
  {
   "cell_type": "markdown",
   "metadata": {
    "collapsed": true,
    "pycharm": {
     "name": "#%% md\n"
    }
   },
   "source": [
    "# Computation arrays\n",
    "- Utilizar operaciones vectorizadas (vectorized operations)\n",
    "- Funciones universales (ufuncs)"
   ]
  },
  {
   "cell_type": "code",
   "execution_count": 2,
   "outputs": [
    {
     "name": "stdout",
     "output_type": "stream",
     "text": [
      "134 ms ± 3.25 ms per loop (mean ± std. dev. of 7 runs, 10 loops each)\n"
     ]
    }
   ],
   "source": [
    "import numpy as np\n",
    "\n",
    "np.random.seed(0)\n",
    "def compute_reciprocals(values):\n",
    "    output = np.empty(len(values))\n",
    "    for i in range(len(values)):\n",
    "        output[i] = 1 / values[i]\n",
    "\n",
    "    return output\n",
    "\n",
    "values = np.random.randint(1,10,size=5)\n",
    "compute_reciprocals(values)\n",
    "\n",
    "\n",
    "big_array = np.random.randint(1,100,size = 1000)\n",
    "\n",
    "%timeit compute_reciprocals(big_array)"
   ],
   "metadata": {
    "collapsed": false,
    "pycharm": {
     "name": "#%%\n"
    }
   }
  },
  {
   "cell_type": "code",
   "execution_count": 3,
   "outputs": [
    {
     "name": "stdout",
     "output_type": "stream",
     "text": [
      "[0.16666667 1.         0.25       0.25       0.125     ]\n"
     ]
    }
   ],
   "source": [
    "print(1.0/values)"
   ],
   "metadata": {
    "collapsed": false,
    "pycharm": {
     "name": "#%%\n"
    }
   }
  },
  {
   "cell_type": "code",
   "execution_count": 4,
   "outputs": [
    {
     "name": "stdout",
     "output_type": "stream",
     "text": [
      "[0.16666667 1.         0.25       0.25       0.125     ]\n"
     ]
    }
   ],
   "source": [
    "print(compute_reciprocals(values))"
   ],
   "metadata": {
    "collapsed": false,
    "pycharm": {
     "name": "#%%\n"
    }
   }
  },
  {
   "cell_type": "code",
   "execution_count": 5,
   "outputs": [
    {
     "name": "stdout",
     "output_type": "stream",
     "text": [
      "817 µs ± 48.8 µs per loop (mean ± std. dev. of 7 runs, 1000 loops each)\n"
     ]
    }
   ],
   "source": [
    "%timeit (1.0/big_array)"
   ],
   "metadata": {
    "collapsed": false,
    "pycharm": {
     "name": "#%%\n"
    }
   }
  },
  {
   "cell_type": "code",
   "execution_count": 2,
   "outputs": [],
   "source": [
    "import numpy as np"
   ],
   "metadata": {
    "collapsed": false,
    "pycharm": {
     "name": "#%%\n"
    }
   }
  },
  {
   "cell_type": "code",
   "execution_count": 4,
   "outputs": [
    {
     "data": {
      "text/plain": "array([0, 1, 2, 3, 4, 5, 6, 7, 8, 9])"
     },
     "execution_count": 4,
     "metadata": {},
     "output_type": "execute_result"
    }
   ],
   "source": [
    "x = np.arange(10)\n",
    "x"
   ],
   "metadata": {
    "collapsed": false,
    "pycharm": {
     "name": "#%%\n"
    }
   }
  },
  {
   "cell_type": "code",
   "execution_count": 5,
   "outputs": [
    {
     "name": "stdout",
     "output_type": "stream",
     "text": [
      "[ 5  6  7  8  9 10 11 12 13 14]\n",
      "[-5 -4 -3 -2 -1  0  1  2  3  4]\n",
      "[ 0  2  4  6  8 10 12 14 16 18]\n",
      "[0.  0.5 1.  1.5 2.  2.5 3.  3.5 4.  4.5]\n"
     ]
    }
   ],
   "source": [
    "print(x+5)\n",
    "print(x-5)\n",
    "print(x*2)\n",
    "print(x/2)"
   ],
   "metadata": {
    "collapsed": false,
    "pycharm": {
     "name": "#%%\n"
    }
   }
  },
  {
   "cell_type": "code",
   "execution_count": 8,
   "outputs": [
    {
     "name": "stdout",
     "output_type": "stream",
     "text": [
      "[ 0 -1 -2 -3 -4 -5 -6 -7 -8 -9]\n",
      "[ 0  1  4  9 16 25 36 49 64 81]\n",
      "[0 1 0 1 0 1 0 1 0 1]\n"
     ]
    }
   ],
   "source": [
    "print(-x)\n",
    "print(x**2)\n",
    "print(x%2)"
   ],
   "metadata": {
    "collapsed": false,
    "pycharm": {
     "name": "#%%\n"
    }
   }
  },
  {
   "cell_type": "code",
   "execution_count": 9,
   "outputs": [
    {
     "data": {
      "text/plain": "array([ -1.  ,  -2.25,  -4.  ,  -6.25,  -9.  , -12.25, -16.  , -20.25,\n       -25.  , -30.25])"
     },
     "execution_count": 9,
     "metadata": {},
     "output_type": "execute_result"
    }
   ],
   "source": [
    "-(0.5*x+1)**2"
   ],
   "metadata": {
    "collapsed": false,
    "pycharm": {
     "name": "#%%\n"
    }
   }
  },
  {
   "cell_type": "code",
   "execution_count": 11,
   "outputs": [
    {
     "data": {
      "text/plain": "array([ 2,  3,  4,  5,  6,  7,  8,  9, 10, 11])"
     },
     "execution_count": 11,
     "metadata": {},
     "output_type": "execute_result"
    }
   ],
   "source": [
    "# Estas operaciones son equivalentes\n",
    "np.add(x,2)\n",
    "x+2"
   ],
   "metadata": {
    "collapsed": false,
    "pycharm": {
     "name": "#%%\n"
    }
   }
  },
  {
   "cell_type": "code",
   "execution_count": 12,
   "outputs": [
    {
     "data": {
      "text/plain": "array([2, 1, 0, 1, 2])"
     },
     "execution_count": 12,
     "metadata": {},
     "output_type": "execute_result"
    }
   ],
   "source": [
    "datos = np.array([-2,-1,0,1,2])\n",
    "\n",
    "abs(datos)"
   ],
   "metadata": {
    "collapsed": false,
    "pycharm": {
     "name": "#%%\n"
    }
   }
  },
  {
   "cell_type": "code",
   "execution_count": 13,
   "outputs": [
    {
     "data": {
      "text/plain": "array([2, 1, 0, 1, 2])"
     },
     "execution_count": 13,
     "metadata": {},
     "output_type": "execute_result"
    }
   ],
   "source": [
    "np.absolute(datos)"
   ],
   "metadata": {
    "collapsed": false,
    "pycharm": {
     "name": "#%%\n"
    }
   }
  },
  {
   "cell_type": "code",
   "execution_count": 15,
   "outputs": [
    {
     "data": {
      "text/plain": "array([2, 1, 0, 1, 2])"
     },
     "execution_count": 15,
     "metadata": {},
     "output_type": "execute_result"
    }
   ],
   "source": [
    "# Utilizando el alias\n",
    "np.abs(datos)"
   ],
   "metadata": {
    "collapsed": false,
    "pycharm": {
     "name": "#%%\n"
    }
   }
  },
  {
   "cell_type": "code",
   "execution_count": 16,
   "outputs": [
    {
     "data": {
      "text/plain": "array([0.        , 1.57079633, 3.14159265])"
     },
     "execution_count": 16,
     "metadata": {},
     "output_type": "execute_result"
    }
   ],
   "source": [
    "# Funciones trigonométricas\n",
    "theta = np.linspace(0,np.pi,3)\n",
    "theta"
   ],
   "metadata": {
    "collapsed": false,
    "pycharm": {
     "name": "#%%\n"
    }
   }
  },
  {
   "cell_type": "code",
   "execution_count": 18,
   "outputs": [
    {
     "name": "stdout",
     "output_type": "stream",
     "text": [
      "[0.0000000e+00 1.0000000e+00 1.2246468e-16]\n",
      "[ 1.000000e+00  6.123234e-17 -1.000000e+00]\n",
      "[ 0.00000000e+00  1.63312394e+16 -1.22464680e-16]\n"
     ]
    }
   ],
   "source": [
    "print(np.sin(theta))\n",
    "print(np.cos(theta))\n",
    "print(np.tan(theta))"
   ],
   "metadata": {
    "collapsed": false,
    "pycharm": {
     "name": "#%%\n"
    }
   }
  },
  {
   "cell_type": "code",
   "execution_count": 20,
   "outputs": [
    {
     "name": "stdout",
     "output_type": "stream",
     "text": [
      "[ 0. nan nan]\n",
      "[1.57079633        nan        nan]\n",
      "[0.         1.00388482 1.26262726]\n"
     ]
    },
    {
     "name": "stderr",
     "output_type": "stream",
     "text": [
      "/var/folders/sb/30311bq16l911lpqttfpzgdw0000gn/T/ipykernel_68533/662710321.py:1: RuntimeWarning: invalid value encountered in arcsin\n",
      "  print(np.arcsin(theta))\n",
      "/var/folders/sb/30311bq16l911lpqttfpzgdw0000gn/T/ipykernel_68533/662710321.py:2: RuntimeWarning: invalid value encountered in arccos\n",
      "  print(np.arccos(theta))\n"
     ]
    }
   ],
   "source": [
    "print(np.arcsin(theta))\n",
    "print(np.arccos(theta))\n",
    "print(np.arctan(theta))"
   ],
   "metadata": {
    "collapsed": false,
    "pycharm": {
     "name": "#%%\n"
    }
   }
  },
  {
   "cell_type": "code",
   "execution_count": 21,
   "outputs": [
    {
     "name": "stderr",
     "output_type": "stream",
     "text": [
      "/var/folders/sb/30311bq16l911lpqttfpzgdw0000gn/T/ipykernel_68533/1277889159.py:1: RuntimeWarning: divide by zero encountered in log\n",
      "  np.log(x)\n"
     ]
    },
    {
     "data": {
      "text/plain": "array([      -inf, 0.        , 0.69314718, 1.09861229, 1.38629436,\n       1.60943791, 1.79175947, 1.94591015, 2.07944154, 2.19722458])"
     },
     "execution_count": 21,
     "metadata": {},
     "output_type": "execute_result"
    }
   ],
   "source": [
    "np.log(x)"
   ],
   "metadata": {
    "collapsed": false,
    "pycharm": {
     "name": "#%%\n"
    }
   }
  },
  {
   "cell_type": "code",
   "execution_count": 22,
   "outputs": [
    {
     "name": "stderr",
     "output_type": "stream",
     "text": [
      "/var/folders/sb/30311bq16l911lpqttfpzgdw0000gn/T/ipykernel_68533/1114196279.py:1: RuntimeWarning: divide by zero encountered in log10\n",
      "  np.log10(x)\n"
     ]
    },
    {
     "data": {
      "text/plain": "array([      -inf, 0.        , 0.30103   , 0.47712125, 0.60205999,\n       0.69897   , 0.77815125, 0.84509804, 0.90308999, 0.95424251])"
     },
     "execution_count": 22,
     "metadata": {},
     "output_type": "execute_result"
    }
   ],
   "source": [
    "np.log10(x)"
   ],
   "metadata": {
    "collapsed": false,
    "pycharm": {
     "name": "#%%\n"
    }
   }
  },
  {
   "cell_type": "code",
   "execution_count": 23,
   "outputs": [
    {
     "data": {
      "text/plain": "array([0.00000000e+00, 1.71828183e+00, 6.38905610e+00, 1.90855369e+01,\n       5.35981500e+01, 1.47413159e+02, 4.02428793e+02, 1.09563316e+03,\n       2.97995799e+03, 8.10208393e+03])"
     },
     "execution_count": 23,
     "metadata": {},
     "output_type": "execute_result"
    }
   ],
   "source": [
    "np.expm1(x)"
   ],
   "metadata": {
    "collapsed": false,
    "pycharm": {
     "name": "#%%\n"
    }
   }
  },
  {
   "cell_type": "markdown",
   "source": [
    "## Investigar\n",
    "- reduce\n",
    "- accumulate\n",
    "- outer"
   ],
   "metadata": {
    "collapsed": false,
    "pycharm": {
     "name": "#%% md\n"
    }
   }
  },
  {
   "cell_type": "code",
   "execution_count": 24,
   "outputs": [],
   "source": [
    "import pandas as pd"
   ],
   "metadata": {
    "collapsed": false,
    "pycharm": {
     "name": "#%%\n"
    }
   }
  },
  {
   "cell_type": "code",
   "execution_count": 29,
   "outputs": [],
   "source": [
    "data = pd.read_csv('../dataset/covid-variants.csv')"
   ],
   "metadata": {
    "collapsed": false,
    "pycharm": {
     "name": "#%%\n"
    }
   }
  },
  {
   "cell_type": "code",
   "execution_count": 30,
   "outputs": [
    {
     "data": {
      "text/plain": "        location        date         variant  num_sequences  perc_sequences  \\\n0         Angola  2020-07-06           Alpha              0             0.0   \n1         Angola  2020-07-06       B.1.1.277              0             0.0   \n2         Angola  2020-07-06       B.1.1.302              0             0.0   \n3         Angola  2020-07-06       B.1.1.519              0             0.0   \n4         Angola  2020-07-06         B.1.160              0             0.0   \n...          ...         ...             ...            ...             ...   \n100411  Zimbabwe  2021-11-01         Omicron              0             0.0   \n100412  Zimbabwe  2021-11-01   S:677H.Robin1              0             0.0   \n100413  Zimbabwe  2021-11-01  S:677P.Pelican              0             0.0   \n100414  Zimbabwe  2021-11-01          others              0             0.0   \n100415  Zimbabwe  2021-11-01         non_who              0             0.0   \n\n        num_sequences_total  \n0                         3  \n1                         3  \n2                         3  \n3                         3  \n4                         3  \n...                     ...  \n100411                    6  \n100412                    6  \n100413                    6  \n100414                    6  \n100415                    6  \n\n[100416 rows x 6 columns]",
      "text/html": "<div>\n<style scoped>\n    .dataframe tbody tr th:only-of-type {\n        vertical-align: middle;\n    }\n\n    .dataframe tbody tr th {\n        vertical-align: top;\n    }\n\n    .dataframe thead th {\n        text-align: right;\n    }\n</style>\n<table border=\"1\" class=\"dataframe\">\n  <thead>\n    <tr style=\"text-align: right;\">\n      <th></th>\n      <th>location</th>\n      <th>date</th>\n      <th>variant</th>\n      <th>num_sequences</th>\n      <th>perc_sequences</th>\n      <th>num_sequences_total</th>\n    </tr>\n  </thead>\n  <tbody>\n    <tr>\n      <th>0</th>\n      <td>Angola</td>\n      <td>2020-07-06</td>\n      <td>Alpha</td>\n      <td>0</td>\n      <td>0.0</td>\n      <td>3</td>\n    </tr>\n    <tr>\n      <th>1</th>\n      <td>Angola</td>\n      <td>2020-07-06</td>\n      <td>B.1.1.277</td>\n      <td>0</td>\n      <td>0.0</td>\n      <td>3</td>\n    </tr>\n    <tr>\n      <th>2</th>\n      <td>Angola</td>\n      <td>2020-07-06</td>\n      <td>B.1.1.302</td>\n      <td>0</td>\n      <td>0.0</td>\n      <td>3</td>\n    </tr>\n    <tr>\n      <th>3</th>\n      <td>Angola</td>\n      <td>2020-07-06</td>\n      <td>B.1.1.519</td>\n      <td>0</td>\n      <td>0.0</td>\n      <td>3</td>\n    </tr>\n    <tr>\n      <th>4</th>\n      <td>Angola</td>\n      <td>2020-07-06</td>\n      <td>B.1.160</td>\n      <td>0</td>\n      <td>0.0</td>\n      <td>3</td>\n    </tr>\n    <tr>\n      <th>...</th>\n      <td>...</td>\n      <td>...</td>\n      <td>...</td>\n      <td>...</td>\n      <td>...</td>\n      <td>...</td>\n    </tr>\n    <tr>\n      <th>100411</th>\n      <td>Zimbabwe</td>\n      <td>2021-11-01</td>\n      <td>Omicron</td>\n      <td>0</td>\n      <td>0.0</td>\n      <td>6</td>\n    </tr>\n    <tr>\n      <th>100412</th>\n      <td>Zimbabwe</td>\n      <td>2021-11-01</td>\n      <td>S:677H.Robin1</td>\n      <td>0</td>\n      <td>0.0</td>\n      <td>6</td>\n    </tr>\n    <tr>\n      <th>100413</th>\n      <td>Zimbabwe</td>\n      <td>2021-11-01</td>\n      <td>S:677P.Pelican</td>\n      <td>0</td>\n      <td>0.0</td>\n      <td>6</td>\n    </tr>\n    <tr>\n      <th>100414</th>\n      <td>Zimbabwe</td>\n      <td>2021-11-01</td>\n      <td>others</td>\n      <td>0</td>\n      <td>0.0</td>\n      <td>6</td>\n    </tr>\n    <tr>\n      <th>100415</th>\n      <td>Zimbabwe</td>\n      <td>2021-11-01</td>\n      <td>non_who</td>\n      <td>0</td>\n      <td>0.0</td>\n      <td>6</td>\n    </tr>\n  </tbody>\n</table>\n<p>100416 rows × 6 columns</p>\n</div>"
     },
     "execution_count": 30,
     "metadata": {},
     "output_type": "execute_result"
    }
   ],
   "source": [
    "data"
   ],
   "metadata": {
    "collapsed": false,
    "pycharm": {
     "name": "#%%\n"
    }
   }
  },
  {
   "cell_type": "code",
   "execution_count": 31,
   "outputs": [],
   "source": [
    "num_secs = data['num_sequences']"
   ],
   "metadata": {
    "collapsed": false,
    "pycharm": {
     "name": "#%%\n"
    }
   }
  },
  {
   "cell_type": "code",
   "execution_count": 32,
   "outputs": [
    {
     "data": {
      "text/plain": "0         0\n1         0\n2         0\n3         0\n4         0\n         ..\n100411    0\n100412    0\n100413    0\n100414    0\n100415    0\nName: num_sequences, Length: 100416, dtype: int64"
     },
     "execution_count": 32,
     "metadata": {},
     "output_type": "execute_result"
    }
   ],
   "source": [
    "num_secs"
   ],
   "metadata": {
    "collapsed": false,
    "pycharm": {
     "name": "#%%\n"
    }
   }
  },
  {
   "cell_type": "code",
   "execution_count": 34,
   "outputs": [
    {
     "name": "stdout",
     "output_type": "stream",
     "text": [
      "3.39 ms ± 207 µs per loop (mean ± std. dev. of 7 runs, 100 loops each)\n",
      "58 µs ± 983 ns per loop (mean ± std. dev. of 7 runs, 10000 loops each)\n"
     ]
    }
   ],
   "source": [
    "%timeit sum(num_secs)\n",
    "%timeit np.sum(num_secs)"
   ],
   "metadata": {
    "collapsed": false,
    "pycharm": {
     "name": "#%%\n"
    }
   }
  },
  {
   "cell_type": "code",
   "execution_count": 36,
   "outputs": [
    {
     "data": {
      "text/plain": "142280"
     },
     "execution_count": 36,
     "metadata": {},
     "output_type": "execute_result"
    }
   ],
   "source": [
    "maximo = np.max(num_secs)\n",
    "maximo"
   ],
   "metadata": {
    "collapsed": false,
    "pycharm": {
     "name": "#%%\n"
    }
   }
  },
  {
   "cell_type": "code",
   "execution_count": 38,
   "outputs": [
    {
     "data": {
      "text/plain": "0"
     },
     "execution_count": 38,
     "metadata": {},
     "output_type": "execute_result"
    }
   ],
   "source": [
    "minimo = np.min(num_secs)\n",
    "minimo"
   ],
   "metadata": {
    "collapsed": false,
    "pycharm": {
     "name": "#%%\n"
    }
   }
  },
  {
   "cell_type": "code",
   "execution_count": 39,
   "outputs": [
    {
     "data": {
      "text/plain": "0"
     },
     "execution_count": 39,
     "metadata": {},
     "output_type": "execute_result"
    }
   ],
   "source": [
    "num_secs.min()"
   ],
   "metadata": {
    "collapsed": false,
    "pycharm": {
     "name": "#%%\n"
    }
   }
  },
  {
   "cell_type": "code",
   "execution_count": 40,
   "outputs": [
    {
     "data": {
      "text/plain": "142280"
     },
     "execution_count": 40,
     "metadata": {},
     "output_type": "execute_result"
    }
   ],
   "source": [
    "num_secs.max()"
   ],
   "metadata": {
    "collapsed": false,
    "pycharm": {
     "name": "#%%\n"
    }
   }
  },
  {
   "cell_type": "code",
   "execution_count": 43,
   "outputs": [
    {
     "name": "stdout",
     "output_type": "stream",
     "text": [
      "72.17167582855322\n",
      "1669.2538575425174\n",
      "0.0\n",
      "0.0\n",
      "False\n"
     ]
    }
   ],
   "source": [
    "print(np.mean(num_secs))\n",
    "print(np.std(num_secs))\n",
    "print(np.median(num_secs))\n",
    "print(np.percentile(num_secs,1))\n",
    "print(np.all(num_secs))"
   ],
   "metadata": {
    "collapsed": false,
    "pycharm": {
     "name": "#%%\n"
    }
   }
  },
  {
   "cell_type": "code",
   "execution_count": null,
   "outputs": [],
   "source": [],
   "metadata": {
    "collapsed": false,
    "pycharm": {
     "name": "#%%\n"
    }
   }
  }
 ],
 "metadata": {
  "kernelspec": {
   "display_name": "Python 3",
   "language": "python",
   "name": "python3"
  },
  "language_info": {
   "codemirror_mode": {
    "name": "ipython",
    "version": 2
   },
   "file_extension": ".py",
   "mimetype": "text/x-python",
   "name": "python",
   "nbconvert_exporter": "python",
   "pygments_lexer": "ipython2",
   "version": "2.7.6"
  }
 },
 "nbformat": 4,
 "nbformat_minor": 0
}