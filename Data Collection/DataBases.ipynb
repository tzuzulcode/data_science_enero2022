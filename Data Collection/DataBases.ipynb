{
 "cells": [
  {
   "cell_type": "code",
   "execution_count": 1,
   "metadata": {
    "collapsed": true
   },
   "outputs": [
    {
     "name": "stdout",
     "output_type": "stream",
     "text": [
      "Requirement already satisfied: mysql-connector-python in /opt/homebrew/lib/python3.9/site-packages (8.0.28)\r\n",
      "Requirement already satisfied: protobuf>=3.0.0 in /opt/homebrew/lib/python3.9/site-packages (from mysql-connector-python) (3.17.3)\r\n",
      "Requirement already satisfied: six>=1.9 in /opt/homebrew/lib/python3.9/site-packages (from protobuf>=3.0.0->mysql-connector-python) (1.16.0)\r\n",
      "\u001B[33mWARNING: You are using pip version 21.1.3; however, version 22.0.3 is available.\r\n",
      "You should consider upgrading via the '/opt/homebrew/opt/python@3.9/bin/python3.9 -m pip install --upgrade pip' command.\u001B[0m\r\n",
      "Note: you may need to restart the kernel to use updated packages.\n"
     ]
    }
   ],
   "source": [
    "pip install mysql-connector-python"
   ]
  },
  {
   "cell_type": "code",
   "execution_count": 22,
   "outputs": [],
   "source": [
    "import mysql.connector\n",
    "from mysql.connector import Error"
   ],
   "metadata": {
    "collapsed": false,
    "pycharm": {
     "name": "#%%\n"
    }
   }
  },
  {
   "cell_type": "code",
   "execution_count": 47,
   "outputs": [
    {
     "name": "stdout",
     "output_type": "stream",
     "text": [
      "Connection Established\n"
     ]
    },
    {
     "data": {
      "text/plain": "[(1, 'Ruger', 'Female', 'Asian', 'Free lunch', 76.0, 'Ruger_Smith'),\n (2, 'Ruger', 'Female', 'Hispanic', 'Paid lunch', 56.0, 'Ruger_Smith'),\n (3, 'Ruger', 'Female', 'African-American', 'Free lunch', 34.0, 'Ruger_Smith'),\n (4, 'Ruger', 'Female', 'Asian', 'Paid lunch', 59.0, 'Ruger_Smith'),\n (5, 'Ruger', 'Male', 'Hispanic', 'Free lunch', 73.0, 'Ruger_Smith'),\n (6, 'Ruger', 'Male', 'Caucasian', 'Paid lunch', 58.0, 'Ruger_Smith'),\n (7, 'Ruger', 'Female', 'African-American', 'Paid lunch', 62.0, 'Ruger_Smith'),\n (8, 'Ruger', 'Male', 'Hispanic', 'Free lunch', 40.0, 'Ruger_Smith'),\n (9, 'Ruger', 'Female', 'African-American', 'Free lunch', 82.0, 'Ruger_Smith'),\n (10, 'Ruger', 'Male', 'African-American', 'Paid lunch', 78.0, 'Ruger_Smith'),\n (11, 'Ruger', 'Male', 'African-American', 'Paid lunch', 64.0, 'Ruger_Smith'),\n (12, 'Ruger', 'Female', 'Asian', 'Paid lunch', 68.0, 'Ruger_Smith'),\n (13, 'Ruger', 'Male', 'Hispanic', 'Free lunch', 39.0, 'Ruger_Smith'),\n (14, 'Ruger', 'Male', 'Caucasian', 'Free lunch', 48.0, 'Ruger_Smith'),\n (15, 'Ruger', 'Female', 'Caucasian', 'Free lunch', 66.0, 'Ruger_Smith'),\n (16, 'Ruger', 'Male', 'Asian', 'Free lunch', 68.0, 'Ruger_Smith'),\n (17, 'Ruger', 'Female', 'Hispanic', 'Paid lunch', 72.0, 'Ruger_Smith'),\n (18,\n  'Ruger',\n  'Female',\n  'African-American',\n  'Free lunch',\n  60.0,\n  'Ruger_Smith'),\n (19, 'Ruger', 'Male', 'Caucasian', 'Free lunch', 54.0, 'Ruger_Smith'),\n (20, 'Ruger', 'Male', 'Asian', 'Paid lunch', 34.0, 'Ruger_Smith'),\n (21, 'Ruger', 'Female', 'Hispanic', 'Paid lunch', 30.0, 'Ruger_Smith'),\n (22, 'Ruger', 'Male', 'Asian', 'Free lunch', 43.0, 'Ruger_Smith'),\n (23, 'Ruger', 'Female', 'Hispanic', 'Paid lunch', 73.0, 'Ruger_Smith'),\n (24, 'Ruger', 'Male', 'African-American', 'Free lunch', 44.0, 'Ruger_Smith'),\n (25, 'Ruger', 'Male', 'Asian', 'Free lunch', 39.0, 'Ruger_Smith'),\n (26, 'Ruger', 'Male', 'African-American', 'Free lunch', 67.0, 'Ruger_Smith'),\n (27, 'Ruger', 'Female', 'Hispanic', 'Paid lunch', 37.0, 'Ruger_Smith'),\n (28, 'Ruger', 'Male', 'Caucasian', 'Free lunch', 67.0, 'Ruger_Smith'),\n (29, 'Ruger', 'Male', 'Hispanic', 'Paid lunch', 32.0, 'Ruger_Smith'),\n (30, 'Ruger', 'Male', 'Caucasian', 'Paid lunch', 64.0, 'Ruger_Smith'),\n (31, 'Ruger', 'Female', 'Asian', 'Free lunch', 42.0, 'Ruger_Smith'),\n (32, 'Ruger', 'Male', 'Hispanic', 'Free lunch', 58.0, 'Ruger_Smith'),\n (33, 'Ruger', 'Male', 'Asian', 'Paid lunch', 33.0, 'Ruger_Smith'),\n (34, 'Ruger', 'Male', 'Caucasian', 'Free lunch', 47.0, 'Ruger_Smith'),\n (35,\n  'Ruger',\n  'Female',\n  'African-American',\n  'Paid lunch',\n  39.0,\n  'Ruger_Smith'),\n (36, 'Ruger', 'Male', 'Caucasian', 'Paid lunch', 65.0, 'Ruger_Smith'),\n (37, 'Ruger', 'Female', 'Hispanic', 'Free lunch', 36.0, 'Ruger_Smith'),\n (38, 'Ruger', 'Male', 'Caucasian', 'Paid lunch', 50.0, 'Ruger_Smith'),\n (39, 'Ruger', 'Female', 'Caucasian', 'Free lunch', 67.0, 'Ruger_Smith'),\n (40,\n  'Ruger',\n  'Female',\n  'African-American',\n  'Paid lunch',\n  74.0,\n  'Ruger_Smith'),\n (41, 'Ruger', 'Female', 'Asian', 'Free lunch', 75.0, 'Ruger_Smith'),\n (42, 'Ruger', 'Male', 'Hispanic', 'Paid lunch', 69.0, 'Ruger_Smith'),\n (43, 'Ruger', 'Male', 'Hispanic', 'Paid lunch', 74.0, 'Ruger_Smith'),\n (44, 'Ruger', 'Male', 'African-American', 'Free lunch', 32.0, 'Ruger_Smith'),\n (45, 'Ruger', 'Female', 'Hispanic', 'Paid lunch', 52.0, 'Ruger_Smith'),\n (46, 'Ruger', 'Male', 'African-American', 'Paid lunch', 36.0, 'Ruger_Smith'),\n (47, 'Ruger', 'Male', 'Hispanic', 'Paid lunch', 80.0, 'Ruger_Smith'),\n (48, 'Ruger', 'Female', 'Asian', 'Free lunch', 30.0, 'Ruger_Smith'),\n (49, 'Ruger', 'Female', 'Hispanic', 'Free lunch', 51.0, 'Ruger_Smith'),\n (50, 'Ruger', 'Female', 'Hispanic', 'Free lunch', 65.0, 'Ruger_Smith'),\n (51, 'Ruger', 'Female', 'Hispanic', 'Paid lunch', 71.0, 'Ruger_Smith'),\n (52, 'Ruger', 'Male', 'Caucasian', 'Paid lunch', 40.0, 'Ruger_Smith'),\n (53, 'Ruger', 'Male', 'Hispanic', 'Paid lunch', 50.0, 'Ruger_Smith'),\n (54, 'Ruger', 'Female', 'Asian', 'Free lunch', 30.0, 'Ruger_Smith'),\n (55,\n  'Ruger',\n  'Female',\n  'African-American',\n  'Free lunch',\n  57.0,\n  'Ruger_Smith'),\n (56, 'Ruger', 'Male', 'Hispanic', 'Paid lunch', 34.0, 'Ruger_Smith'),\n (57, 'Ruger', 'Male', 'Asian', 'Free lunch', 72.0, 'Ruger_Smith'),\n (58, 'Ruger', 'Male', 'African-American', 'Free lunch', 68.0, 'Ruger_Smith'),\n (59, 'Ruger', 'Male', 'Hispanic', 'Free lunch', 76.0, 'Ruger_Smith'),\n (60, 'Ruger', 'Male', 'Hispanic', 'Paid lunch', 54.0, 'Ruger_Smith'),\n (61,\n  'Ruger',\n  'Female',\n  'African-American',\n  'Free lunch',\n  56.0,\n  'Ruger_Smith'),\n (62, 'Ruger', 'Male', 'Hispanic', 'Paid lunch', 59.0, 'Ruger_Smith'),\n (63, 'Ruger', 'Female', 'Asian', 'Free lunch', 72.0, 'Ruger_Smith'),\n (64, 'Ruger', 'Female', 'Hispanic', 'Free lunch', 77.0, 'Ruger_Smith'),\n (65, 'Ruger', 'Male', 'African-American', 'Paid lunch', 38.0, 'Ruger_Smith'),\n (66, 'Ruger', 'Male', 'Hispanic', 'Paid lunch', 33.0, 'Ruger_Smith'),\n (67, 'Ruger', 'Female', 'Asian', 'Free lunch', 55.0, 'Ruger_Smith'),\n (68, 'Ruger', 'Male', 'African-American', 'Paid lunch', 51.0, 'Ruger_Smith'),\n (69, 'Ruger', 'Female', 'Asian', 'Paid lunch', 69.0, 'Ruger_Smith'),\n (70, 'Ruger', 'Male', 'Asian', 'Paid lunch', 48.0, 'Ruger_Smith'),\n (71,\n  'Ruger',\n  'Female',\n  'African-American',\n  'Paid lunch',\n  52.0,\n  'Ruger_Smith'),\n (72, 'Smith', 'Male', 'Asian', 'Paid lunch', 60.0, 'Ruger_Smith'),\n (73, 'Smith', 'Female', 'Hispanic', 'Paid lunch', 47.0, 'Ruger_Smith'),\n (74, 'Smith', 'Male', 'African-American', 'Free lunch', 62.0, 'Ruger_Smith'),\n (75, 'Smith', 'Male', 'Caucasian', 'Paid lunch', 55.0, 'Ruger_Smith'),\n (76, 'Smith', 'Female', 'Hispanic', 'Paid lunch', 50.0, 'Ruger_Smith'),\n (77, 'Smith', 'Male', 'Hispanic', 'Free lunch', 69.0, 'Ruger_Smith'),\n (78, 'Smith', 'Male', 'African-American', 'Paid lunch', 72.0, 'Ruger_Smith'),\n (79, 'Smith', 'Male', 'African-American', 'Free lunch', 80.0, 'Ruger_Smith'),\n (80, 'Smith', 'Male', 'Asian', 'Free lunch', 85.0, 'Ruger_Smith'),\n (81,\n  'Smith',\n  'Female',\n  'African-American',\n  'Paid lunch',\n  68.0,\n  'Ruger_Smith'),\n (82, 'Smith', 'Male', 'Hispanic', 'Free lunch', 45.0, 'Ruger_Smith'),\n (83, 'Smith', 'Female', 'Hispanic', 'Free lunch', 82.0, 'Ruger_Smith'),\n (84, 'Smith', 'Male', 'Asian', 'Paid lunch', 51.0, 'Ruger_Smith'),\n (85, 'Smith', 'Male', 'Caucasian', 'Free lunch', 49.0, 'Ruger_Smith'),\n (86,\n  'Smith',\n  'Female',\n  'African-American',\n  'Free lunch',\n  72.0,\n  'Ruger_Smith'),\n (87, 'Smith', 'Female', 'Caucasian', 'Paid lunch', 89.0, 'Ruger_Smith'),\n (88, 'Smith', 'Male', 'African-American', 'Paid lunch', 65.0, 'Ruger_Smith'),\n (89, 'Smith', 'Female', 'Asian', 'Paid lunch', 85.0, 'Ruger_Smith'),\n (90, 'Smith', 'Male', 'African-American', 'Paid lunch', 80.0, 'Ruger_Smith'),\n (91, 'Smith', 'Female', 'Caucasian', 'Free lunch', 65.0, 'Ruger_Smith'),\n (92, 'Smith', 'Male', 'Hispanic', 'Free lunch', 91.0, 'Ruger_Smith'),\n (93, 'Smith', 'Female', 'Caucasian', 'Paid lunch', 79.0, 'Ruger_Smith'),\n (94, 'Smith', 'Male', 'Hispanic', 'Free lunch', 79.0, 'Ruger_Smith'),\n (95, 'Smith', 'Male', 'Hispanic', 'Paid lunch', 62.0, 'Ruger_Smith'),\n (96, 'Smith', 'Male', 'Asian', 'Paid lunch', 87.0, 'Ruger_Smith'),\n (97, 'Smith', 'Male', 'African-American', 'Paid lunch', 46.0, 'Ruger_Smith'),\n (98, 'Smith', 'Male', 'Asian', 'Paid lunch', 48.0, 'Ruger_Smith'),\n (99, 'Smith', 'Male', 'Asian', 'Paid lunch', 87.0, 'Ruger_Smith'),\n (100, 'Smith', 'Male', 'Asian', 'Paid lunch', 95.0, 'Ruger_Smith'),\n (101, 'Smith', 'Female', 'Asian', 'Paid lunch', 91.0, 'Ruger_Smith'),\n (102, 'Smith', 'Female', 'Caucasian', 'Paid lunch', 53.0, 'Ruger_Smith'),\n (103, 'Smith', 'Female', 'Caucasian', 'Paid lunch', 83.0, 'Ruger_Smith'),\n (104, 'Smith', 'Male', 'African-American', 'Free lunch', 77.0, 'Ruger_Smith'),\n (105, 'Smith', 'Male', 'African-American', 'Free lunch', 67.0, 'Ruger_Smith'),\n (106, 'Smith', 'Male', 'Caucasian', 'Paid lunch', 52.0, 'Ruger_Smith'),\n (107, 'Smith', 'Male', 'Hispanic', 'Free lunch', 57.0, 'Ruger_Smith'),\n (108, 'Smith', 'Female', 'Hispanic', 'Free lunch', 69.0, 'Ruger_Smith'),\n (109, 'Smith', 'Female', 'Hispanic', 'Free lunch', 92.0, 'Ruger_Smith'),\n (110,\n  'Smith',\n  'Female',\n  'African-American',\n  'Free lunch',\n  68.0,\n  'Ruger_Smith'),\n (111, 'Smith', 'Female', 'Asian', 'Paid lunch', 48.0, 'Ruger_Smith'),\n (112, 'Smith', 'Female', 'Caucasian', 'Paid lunch', 61.0, 'Ruger_Smith'),\n (113, 'Smith', 'Female', 'Asian', 'Free lunch', 57.0, 'Ruger_Smith'),\n (114,\n  'Smith',\n  'Female',\n  'African-American',\n  'Paid lunch',\n  91.0,\n  'Ruger_Smith'),\n (115, 'Smith', 'Female', 'Caucasian', 'Free lunch', 84.0, 'Ruger_Smith'),\n (116, 'Smith', 'Male', 'Hispanic', 'Paid lunch', 71.0, 'Ruger_Smith'),\n (117, 'Smith', 'Male', 'Asian', 'Paid lunch', 64.0, 'Ruger_Smith'),\n (118, 'Smith', 'Female', 'Caucasian', 'Paid lunch', 51.0, 'Ruger_Smith'),\n (119, 'Smith', 'Male', 'African-American', 'Free lunch', 95.0, 'Ruger_Smith'),\n (120, 'Smith', 'Male', 'Asian', 'Paid lunch', 84.0, 'Ruger_Smith'),\n (121, 'Smith', 'Male', 'Hispanic', 'Paid lunch', 79.0, 'Ruger_Smith'),\n (122, 'Smith', 'Female', 'Hispanic', 'Paid lunch', 66.0, 'Ruger_Smith'),\n (123, 'Smith', 'Male', 'Asian', 'Free lunch', 76.0, 'Ruger_Smith'),\n (124, 'Smith', 'Male', 'African-American', 'Free lunch', 87.0, 'Ruger_Smith'),\n (125, 'Smith', 'Male', 'Caucasian', 'Free lunch', 73.0, 'Ruger_Smith'),\n (126, 'Smith', 'Female', 'Hispanic', 'Paid lunch', 74.0, 'Ruger_Smith'),\n (127, 'Smith', 'Male', 'Caucasian', 'Free lunch', 60.0, 'Ruger_Smith'),\n (128, 'Smith', 'Male', 'Asian', 'Paid lunch', 53.0, 'Ruger_Smith'),\n (129, 'Smith', 'Female', 'Caucasian', 'Paid lunch', 60.0, 'Ruger_Smith'),\n (130, 'Smith', 'Male', 'Asian', 'Free lunch', 65.0, 'Ruger_Smith'),\n (131, 'Smith', 'Male', 'Asian', 'Paid lunch', 52.0, 'Ruger_Smith'),\n (132, 'Smith', 'Male', 'African-American', 'Paid lunch', 48.0, 'Ruger_Smith'),\n (133, 'Smith', 'Female', 'Caucasian', 'Paid lunch', 95.0, 'Ruger_Smith'),\n (134, 'Smith', 'Female', 'Asian', 'Paid lunch', 86.0, 'Ruger_Smith'),\n (135, 'Smith', 'Male', 'Hispanic', 'Paid lunch', 82.0, 'Ruger_Smith'),\n (136, 'Smith', 'Male', 'African-American', 'Free lunch', 60.0, 'Ruger_Smith'),\n (137, 'Smith', 'Female', 'Hispanic', 'Paid lunch', 84.0, 'Ruger_Smith'),\n (138, 'Smith', 'Male', 'Asian', 'Paid lunch', 53.0, 'Ruger_Smith'),\n (139, 'Smith', 'Female', 'Asian', 'Paid lunch', 71.0, 'Ruger_Smith'),\n (140, 'Smith', 'Male', 'Hispanic', 'Free lunch', 59.0, 'Ruger_Smith'),\n (141, 'Wesson', 'Male', 'Caucasian', 'Paid lunch', 51.0, 'Wesson'),\n (142, 'Wesson', 'Male', 'Hispanic', 'Free lunch', 71.0, 'Wesson'),\n (143, 'Wesson', 'Male', 'African-American', 'Free lunch', 77.0, 'Wesson'),\n (144, 'Wesson', 'Female', 'Asian', 'Paid lunch', 85.0, 'Wesson'),\n (145, 'Wesson', 'Female', 'Caucasian', 'Paid lunch', 89.0, 'Wesson'),\n (146, 'Wesson', 'Male', 'Asian', 'Free lunch', 62.0, 'Wesson'),\n (147, 'Wesson', 'Male', 'Hispanic', 'Free lunch', 59.0, 'Wesson'),\n (148, 'Wesson', 'Male', 'Asian', 'Free lunch', 61.0, 'Wesson'),\n (149, 'Wesson', 'Male', 'African-American', 'Free lunch', 89.0, 'Wesson'),\n (150, 'Wesson', 'Male', 'African-American', 'Paid lunch', 61.0, 'Wesson'),\n (151, 'Wesson', 'Male', 'African-American', 'Free lunch', 93.0, 'Wesson'),\n (152, 'Wesson', 'Male', 'Caucasian', 'Free lunch', 70.0, 'Wesson'),\n (153, 'Wesson', 'Female', 'Caucasian', 'Free lunch', 61.0, 'Wesson'),\n (154, 'Wesson', 'Male', 'African-American', 'Paid lunch', 46.0, 'Wesson'),\n (155, 'Wesson', 'Female', 'Hispanic', 'Free lunch', 52.0, 'Wesson'),\n (156, 'Wesson', 'Female', 'Asian', 'Free lunch', 82.0, 'Wesson'),\n (157, 'Wesson', 'Male', 'Caucasian', 'Free lunch', 59.0, 'Wesson'),\n (158, 'Wesson', 'Female', 'Hispanic', 'Paid lunch', 78.0, 'Wesson'),\n (159, 'Wesson', 'Male', 'African-American', 'Free lunch', 73.0, 'Wesson'),\n (160, 'Wesson', 'Female', 'Asian', 'Free lunch', 93.0, 'Wesson'),\n (161, 'Wesson', 'Female', 'Hispanic', 'Free lunch', 88.0, 'Wesson'),\n (162, 'Wesson', 'Male', 'Caucasian', 'Free lunch', 63.0, 'Wesson'),\n (163, 'Wesson', 'Male', 'Asian', 'Free lunch', 79.0, 'Wesson'),\n (164, 'Wesson', 'Male', 'Hispanic', 'Paid lunch', 57.0, 'Wesson'),\n (165, 'Wesson', 'Female', 'Caucasian', 'Paid lunch', 91.0, 'Wesson'),\n (166, 'Wesson', 'Female', 'Hispanic', 'Free lunch', 76.0, 'Wesson'),\n (167, 'Wesson', 'Male', 'Caucasian', 'Free lunch', 68.0, 'Wesson'),\n (168, 'Wesson', 'Male', 'African-American', 'Paid lunch', 85.0, 'Wesson'),\n (169, 'Wesson', 'Female', 'Hispanic', 'Free lunch', 53.0, 'Wesson'),\n (170, 'Wesson', 'Male', 'African-American', 'Paid lunch', 48.0, 'Wesson'),\n (171, 'Wesson', 'Male', 'Hispanic', 'Free lunch', 53.0, 'Wesson'),\n (172, 'Wesson', 'Male', 'Asian', 'Free lunch', 66.0, 'Wesson'),\n (173, 'Wesson', 'Female', 'Hispanic', 'Paid lunch', 83.0, 'Wesson'),\n (174, 'Wesson', 'Female', 'Asian', 'Free lunch', 65.0, 'Wesson'),\n (175, 'Wesson', 'Female', 'Hispanic', 'Free lunch', 58.0, 'Wesson'),\n (176, 'Wesson', 'Male', 'Hispanic', 'Paid lunch', 67.0, 'Wesson'),\n (177, 'Wesson', 'Male', 'Hispanic', 'Paid lunch', 57.0, 'Wesson'),\n (178, 'Wesson', 'Female', 'Asian', 'Free lunch', 82.0, 'Wesson'),\n (179, 'Wesson', 'Female', 'Caucasian', 'Paid lunch', 58.0, 'Wesson'),\n (180, 'Wesson', 'Female', 'African-American', 'Free lunch', 87.0, 'Wesson'),\n (181, 'Wesson', 'Female', 'Hispanic', 'Free lunch', 68.0, 'Wesson'),\n (182, 'Wesson', 'Female', 'Asian', 'Free lunch', 70.0, 'Wesson'),\n (183, 'Wesson', 'Female', 'African-American', 'Free lunch', 63.0, 'Wesson'),\n (184, 'Wesson', 'Male', 'Asian', 'Free lunch', 52.0, 'Wesson'),\n (185, 'Wesson', 'Male', 'Hispanic', 'Free lunch', 72.0, 'Wesson'),\n (186, 'Wesson', 'Female', 'African-American', 'Free lunch', 83.0, 'Wesson'),\n (187, 'Wesson', 'Male', 'Caucasian', 'Free lunch', 45.0, 'Wesson'),\n (188, 'Wesson', 'Male', 'Hispanic', 'Paid lunch', 81.0, 'Wesson'),\n (189, 'Wesson', 'Female', 'African-American', 'Paid lunch', 65.0, 'Wesson'),\n (190, 'Wesson', 'Male', 'African-American', 'Free lunch', 89.0, 'Wesson'),\n (191, 'Wesson', 'Female', 'Caucasian', 'Paid lunch', 64.0, 'Wesson'),\n (192, 'Wesson', 'Female', 'Asian', 'Paid lunch', 85.0, 'Wesson'),\n (193, 'Wesson', 'Male', 'Caucasian', 'Paid lunch', 90.0, 'Wesson'),\n (194, 'Wesson', 'Female', 'Hispanic', 'Free lunch', 64.0, 'Wesson'),\n (195, 'Wesson', 'Female', 'Caucasian', 'Paid lunch', 68.0, 'Wesson'),\n (196, 'Wesson', 'Female', 'Hispanic', 'Paid lunch', 84.0, 'Wesson'),\n (197, 'Wesson', 'Female', 'African-American', 'Free lunch', 83.0, 'Wesson'),\n (198, 'Wesson', 'Female', 'Asian', 'Paid lunch', 93.0, 'Wesson'),\n (199, 'Wesson', 'Male', 'Caucasian', 'Paid lunch', 47.0, 'Wesson'),\n (200, 'Wesson', 'Female', 'Hispanic', 'Free lunch', 83.0, 'Wesson'),\n (201, 'Wesson', 'Female', 'Asian', 'Free lunch', 53.0, 'Wesson'),\n (202, 'Wesson', 'Male', 'Caucasian', 'Paid lunch', 79.0, 'Wesson'),\n (203, 'Wesson', 'Male', 'Asian', 'Free lunch', 87.0, 'Wesson'),\n (204, 'Wesson', 'Male', 'African-American', 'Paid lunch', 89.0, 'Wesson'),\n (205, 'Wesson', 'Female', 'Asian', 'Paid lunch', 56.0, 'Wesson'),\n (206, 'Wesson', 'Female', 'Hispanic', 'Paid lunch', 83.0, 'Wesson'),\n (207, 'Wesson', 'Male', 'Caucasian', 'Paid lunch', 45.0, 'Wesson'),\n (208, 'Wesson', 'Male', 'Caucasian', 'Paid lunch', 75.0, 'Wesson'),\n (209, 'Wesson', 'Female', 'Caucasian', 'Free lunch', 58.0, 'Wesson'),\n (210, 'Wesson', 'Female', 'African-American', 'Free lunch', 72.0, 'Wesson'),\n (211, 'Wesson', 'Male', 'Caucasian', 'Paid lunch', 79.0, 'Wesson'),\n (212, 'Wesson', 'Male', 'African-American', 'Paid lunch', 56.0, 'Wesson'),\n (213, 'Wesson', 'Male', 'Hispanic', 'Free lunch', 94.0, 'Wesson'),\n (214, 'Wesson', 'Male', 'Hispanic', 'Paid lunch', 91.0, 'Wesson'),\n (215, 'Wesson', 'Female', 'African-American', 'Paid lunch', 53.0, 'Wesson'),\n (216, 'Wesson', 'Male', 'Hispanic', 'Paid lunch', 57.0, 'Wesson')]"
     },
     "execution_count": 47,
     "metadata": {},
     "output_type": "execute_result"
    }
   ],
   "source": [
    "def connection(host_name,user_name,password,db_name):\n",
    "    try:\n",
    "        connection = mysql.connector.connect(\n",
    "            host=host_name,\n",
    "            user=user_name,\n",
    "            passwd=password,\n",
    "            database=db_name\n",
    "        )\n",
    "        print(\"Connection Established\")\n",
    "        return connection\n",
    "    except Error as error:\n",
    "        print(\"No se pudo conectar:\",error)\n",
    "\n",
    "conn = connection(\"localhost\",\"tzuzul\",\"12345\",\"DataScienceEnero2022\")\n",
    "cursor = conn.cursor()\n",
    "cursor.execute(\"SELECT * FROM students\")\n",
    "data = cursor.fetchall()\n",
    "description = cursor.description\n",
    "data"
   ],
   "metadata": {
    "collapsed": false,
    "pycharm": {
     "name": "#%%\n"
    }
   }
  },
  {
   "cell_type": "code",
   "execution_count": 38,
   "outputs": [
    {
     "name": "stdout",
     "output_type": "stream",
     "text": [
      "Connection Established\n"
     ]
    }
   ],
   "source": [],
   "metadata": {
    "collapsed": false,
    "pycharm": {
     "name": "#%%\n"
    }
   }
  },
  {
   "cell_type": "code",
   "execution_count": 3,
   "outputs": [
    {
     "name": "stdout",
     "output_type": "stream",
     "text": [
      "Collecting pyreadstat\r\n",
      "  Downloading pyreadstat-1.1.4.tar.gz (2.1 MB)\r\n",
      "\u001B[K     |████████████████████████████████| 2.1 MB 1.0 MB/s eta 0:00:01\r\n",
      "\u001B[31m    ERROR: Command errored out with exit status 1:\r\n",
      "     command: /opt/homebrew/opt/python@3.9/bin/python3.9 -c 'import io, os, sys, setuptools, tokenize; sys.argv[0] = '\"'\"'/private/var/folders/sb/30311bq16l911lpqttfpzgdw0000gn/T/pip-install-zjw88d7n/pyreadstat_84b64cad1eef475db01b1b33415dd0b3/setup.py'\"'\"'; __file__='\"'\"'/private/var/folders/sb/30311bq16l911lpqttfpzgdw0000gn/T/pip-install-zjw88d7n/pyreadstat_84b64cad1eef475db01b1b33415dd0b3/setup.py'\"'\"';f = getattr(tokenize, '\"'\"'open'\"'\"', open)(__file__) if os.path.exists(__file__) else io.StringIO('\"'\"'from setuptools import setup; setup()'\"'\"');code = f.read().replace('\"'\"'\\r\\n'\"'\"', '\"'\"'\\n'\"'\"');f.close();exec(compile(code, __file__, '\"'\"'exec'\"'\"'))' egg_info --egg-base /private/var/folders/sb/30311bq16l911lpqttfpzgdw0000gn/T/pip-pip-egg-info-xwi2ud1y\r\n",
      "         cwd: /private/var/folders/sb/30311bq16l911lpqttfpzgdw0000gn/T/pip-install-zjw88d7n/pyreadstat_84b64cad1eef475db01b1b33415dd0b3/\r\n",
      "    Complete output (5 lines):\r\n",
      "    Traceback (most recent call last):\r\n",
      "      File \"<string>\", line 1, in <module>\r\n",
      "      File \"/private/var/folders/sb/30311bq16l911lpqttfpzgdw0000gn/T/pip-install-zjw88d7n/pyreadstat_84b64cad1eef475db01b1b33415dd0b3/setup.py\", line 21, in <module>\r\n",
      "        import Cython\r\n",
      "    ModuleNotFoundError: No module named 'Cython'\r\n",
      "    ----------------------------------------\u001B[0m\r\n",
      "\u001B[33mWARNING: Discarding https://files.pythonhosted.org/packages/06/52/ec4b8b826fceaa35767fdb5b883cbbd7848e4413bcb38cbbe7c4069b566f/pyreadstat-1.1.4.tar.gz#sha256=4f321628423d37c554fac8752e1a1e37eb2216b4cb732bde9577d5c9b9c740b9 (from https://pypi.org/simple/pyreadstat/). Command errored out with exit status 1: python setup.py egg_info Check the logs for full command output.\u001B[0m\r\n",
      "\u001B[?25h  Downloading pyreadstat-1.1.3.tar.gz (2.1 MB)\r\n",
      "\u001B[K     |████████████████████████████████| 2.1 MB 102.7 MB/s eta 0:00:01\r\n",
      "\u001B[?25hRequirement already satisfied: pandas>0.24.0 in /opt/homebrew/lib/python3.9/site-packages (from pyreadstat) (1.4.0)\r\n",
      "Requirement already satisfied: python-dateutil>=2.8.1 in /opt/homebrew/lib/python3.9/site-packages (from pandas>0.24.0->pyreadstat) (2.8.1)\r\n",
      "Requirement already satisfied: pytz>=2020.1 in /opt/homebrew/lib/python3.9/site-packages (from pandas>0.24.0->pyreadstat) (2021.3)\r\n",
      "Requirement already satisfied: numpy>=1.20.0 in /opt/homebrew/lib/python3.9/site-packages (from pandas>0.24.0->pyreadstat) (1.21.2)\r\n",
      "Requirement already satisfied: six>=1.5 in /opt/homebrew/lib/python3.9/site-packages (from python-dateutil>=2.8.1->pandas>0.24.0->pyreadstat) (1.16.0)\r\n",
      "Building wheels for collected packages: pyreadstat\r\n",
      "  Building wheel for pyreadstat (setup.py) ... \u001B[?25ldone\r\n",
      "\u001B[?25h  Created wheel for pyreadstat: filename=pyreadstat-1.1.3-cp39-cp39-macosx_11_0_arm64.whl size=501333 sha256=3980d277f8c11dee8479766e7246d7e247a9d2a0688771bb584197539a01f519\r\n",
      "  Stored in directory: /Users/tzuzul/Library/Caches/pip/wheels/a5/6e/db/4147e1e595b6eeaf7aaea1ceded6593068d26767651619d55f\r\n",
      "Successfully built pyreadstat\r\n",
      "Installing collected packages: pyreadstat\r\n",
      "Successfully installed pyreadstat-1.1.3\r\n",
      "\u001B[33mWARNING: You are using pip version 21.1.3; however, version 22.0.3 is available.\r\n",
      "You should consider upgrading via the '/opt/homebrew/opt/python@3.9/bin/python3.9 -m pip install --upgrade pip' command.\u001B[0m\r\n",
      "Note: you may need to restart the kernel to use updated packages.\n"
     ]
    }
   ],
   "source": [
    "pip install pyreadstat"
   ],
   "metadata": {
    "collapsed": false,
    "pycharm": {
     "name": "#%%\n"
    }
   }
  },
  {
   "cell_type": "code",
   "execution_count": 1,
   "outputs": [],
   "source": [
    "import pandas as pd"
   ],
   "metadata": {
    "collapsed": false,
    "pycharm": {
     "name": "#%%\n"
    }
   }
  },
  {
   "cell_type": "code",
   "execution_count": 4,
   "outputs": [],
   "source": [
    "df = pd.read_spss(\"../dataset/studentsData.sav\")"
   ],
   "metadata": {
    "collapsed": false,
    "pycharm": {
     "name": "#%%\n"
    }
   }
  },
  {
   "cell_type": "code",
   "execution_count": 5,
   "outputs": [
    {
     "data": {
      "text/plain": "     Student Teacher  Gender            Ethnic    Freeredu  Score       wesson\n0        1.0   Ruger  Female             Asian  Free lunch   76.0  Ruger_Smith\n1        2.0   Ruger  Female          Hispanic  Paid lunch   56.0  Ruger_Smith\n2        3.0   Ruger  Female  African-American  Free lunch   34.0  Ruger_Smith\n3        4.0   Ruger  Female             Asian  Paid lunch   59.0  Ruger_Smith\n4        5.0   Ruger    Male          Hispanic  Free lunch   73.0  Ruger_Smith\n..       ...     ...     ...               ...         ...    ...          ...\n212    213.0  Wesson    Male          Hispanic  Free lunch   94.0       Wesson\n213    214.0  Wesson    Male          Hispanic  Paid lunch   91.0       Wesson\n214    215.0  Wesson  Female  African-American  Paid lunch   53.0       Wesson\n215    216.0  Wesson    Male          Hispanic  Paid lunch   57.0       Wesson\n216      NaN     NaN     NaN               NaN         NaN    NaN  Ruger_Smith\n\n[217 rows x 7 columns]",
      "text/html": "<div>\n<style scoped>\n    .dataframe tbody tr th:only-of-type {\n        vertical-align: middle;\n    }\n\n    .dataframe tbody tr th {\n        vertical-align: top;\n    }\n\n    .dataframe thead th {\n        text-align: right;\n    }\n</style>\n<table border=\"1\" class=\"dataframe\">\n  <thead>\n    <tr style=\"text-align: right;\">\n      <th></th>\n      <th>Student</th>\n      <th>Teacher</th>\n      <th>Gender</th>\n      <th>Ethnic</th>\n      <th>Freeredu</th>\n      <th>Score</th>\n      <th>wesson</th>\n    </tr>\n  </thead>\n  <tbody>\n    <tr>\n      <th>0</th>\n      <td>1.0</td>\n      <td>Ruger</td>\n      <td>Female</td>\n      <td>Asian</td>\n      <td>Free lunch</td>\n      <td>76.0</td>\n      <td>Ruger_Smith</td>\n    </tr>\n    <tr>\n      <th>1</th>\n      <td>2.0</td>\n      <td>Ruger</td>\n      <td>Female</td>\n      <td>Hispanic</td>\n      <td>Paid lunch</td>\n      <td>56.0</td>\n      <td>Ruger_Smith</td>\n    </tr>\n    <tr>\n      <th>2</th>\n      <td>3.0</td>\n      <td>Ruger</td>\n      <td>Female</td>\n      <td>African-American</td>\n      <td>Free lunch</td>\n      <td>34.0</td>\n      <td>Ruger_Smith</td>\n    </tr>\n    <tr>\n      <th>3</th>\n      <td>4.0</td>\n      <td>Ruger</td>\n      <td>Female</td>\n      <td>Asian</td>\n      <td>Paid lunch</td>\n      <td>59.0</td>\n      <td>Ruger_Smith</td>\n    </tr>\n    <tr>\n      <th>4</th>\n      <td>5.0</td>\n      <td>Ruger</td>\n      <td>Male</td>\n      <td>Hispanic</td>\n      <td>Free lunch</td>\n      <td>73.0</td>\n      <td>Ruger_Smith</td>\n    </tr>\n    <tr>\n      <th>...</th>\n      <td>...</td>\n      <td>...</td>\n      <td>...</td>\n      <td>...</td>\n      <td>...</td>\n      <td>...</td>\n      <td>...</td>\n    </tr>\n    <tr>\n      <th>212</th>\n      <td>213.0</td>\n      <td>Wesson</td>\n      <td>Male</td>\n      <td>Hispanic</td>\n      <td>Free lunch</td>\n      <td>94.0</td>\n      <td>Wesson</td>\n    </tr>\n    <tr>\n      <th>213</th>\n      <td>214.0</td>\n      <td>Wesson</td>\n      <td>Male</td>\n      <td>Hispanic</td>\n      <td>Paid lunch</td>\n      <td>91.0</td>\n      <td>Wesson</td>\n    </tr>\n    <tr>\n      <th>214</th>\n      <td>215.0</td>\n      <td>Wesson</td>\n      <td>Female</td>\n      <td>African-American</td>\n      <td>Paid lunch</td>\n      <td>53.0</td>\n      <td>Wesson</td>\n    </tr>\n    <tr>\n      <th>215</th>\n      <td>216.0</td>\n      <td>Wesson</td>\n      <td>Male</td>\n      <td>Hispanic</td>\n      <td>Paid lunch</td>\n      <td>57.0</td>\n      <td>Wesson</td>\n    </tr>\n    <tr>\n      <th>216</th>\n      <td>NaN</td>\n      <td>NaN</td>\n      <td>NaN</td>\n      <td>NaN</td>\n      <td>NaN</td>\n      <td>NaN</td>\n      <td>Ruger_Smith</td>\n    </tr>\n  </tbody>\n</table>\n<p>217 rows × 7 columns</p>\n</div>"
     },
     "execution_count": 5,
     "metadata": {},
     "output_type": "execute_result"
    }
   ],
   "source": [
    "df"
   ],
   "metadata": {
    "collapsed": false,
    "pycharm": {
     "name": "#%%\n"
    }
   }
  },
  {
   "cell_type": "code",
   "execution_count": 10,
   "outputs": [],
   "source": [
    "df.to_csv(\"studentsData.csv\",index=False)"
   ],
   "metadata": {
    "collapsed": false,
    "pycharm": {
     "name": "#%%\n"
    }
   }
  },
  {
   "cell_type": "code",
   "execution_count": 11,
   "outputs": [],
   "source": [
    "csv = pd.read_csv(\"studentsData.csv\")"
   ],
   "metadata": {
    "collapsed": false,
    "pycharm": {
     "name": "#%%\n"
    }
   }
  },
  {
   "cell_type": "code",
   "execution_count": 12,
   "outputs": [
    {
     "data": {
      "text/plain": "     Student Teacher  Gender            Ethnic    Freeredu  Score       wesson\n0        1.0   Ruger  Female             Asian  Free lunch   76.0  Ruger_Smith\n1        2.0   Ruger  Female          Hispanic  Paid lunch   56.0  Ruger_Smith\n2        3.0   Ruger  Female  African-American  Free lunch   34.0  Ruger_Smith\n3        4.0   Ruger  Female             Asian  Paid lunch   59.0  Ruger_Smith\n4        5.0   Ruger    Male          Hispanic  Free lunch   73.0  Ruger_Smith\n..       ...     ...     ...               ...         ...    ...          ...\n212    213.0  Wesson    Male          Hispanic  Free lunch   94.0       Wesson\n213    214.0  Wesson    Male          Hispanic  Paid lunch   91.0       Wesson\n214    215.0  Wesson  Female  African-American  Paid lunch   53.0       Wesson\n215    216.0  Wesson    Male          Hispanic  Paid lunch   57.0       Wesson\n216      NaN     NaN     NaN               NaN         NaN    NaN  Ruger_Smith\n\n[217 rows x 7 columns]",
      "text/html": "<div>\n<style scoped>\n    .dataframe tbody tr th:only-of-type {\n        vertical-align: middle;\n    }\n\n    .dataframe tbody tr th {\n        vertical-align: top;\n    }\n\n    .dataframe thead th {\n        text-align: right;\n    }\n</style>\n<table border=\"1\" class=\"dataframe\">\n  <thead>\n    <tr style=\"text-align: right;\">\n      <th></th>\n      <th>Student</th>\n      <th>Teacher</th>\n      <th>Gender</th>\n      <th>Ethnic</th>\n      <th>Freeredu</th>\n      <th>Score</th>\n      <th>wesson</th>\n    </tr>\n  </thead>\n  <tbody>\n    <tr>\n      <th>0</th>\n      <td>1.0</td>\n      <td>Ruger</td>\n      <td>Female</td>\n      <td>Asian</td>\n      <td>Free lunch</td>\n      <td>76.0</td>\n      <td>Ruger_Smith</td>\n    </tr>\n    <tr>\n      <th>1</th>\n      <td>2.0</td>\n      <td>Ruger</td>\n      <td>Female</td>\n      <td>Hispanic</td>\n      <td>Paid lunch</td>\n      <td>56.0</td>\n      <td>Ruger_Smith</td>\n    </tr>\n    <tr>\n      <th>2</th>\n      <td>3.0</td>\n      <td>Ruger</td>\n      <td>Female</td>\n      <td>African-American</td>\n      <td>Free lunch</td>\n      <td>34.0</td>\n      <td>Ruger_Smith</td>\n    </tr>\n    <tr>\n      <th>3</th>\n      <td>4.0</td>\n      <td>Ruger</td>\n      <td>Female</td>\n      <td>Asian</td>\n      <td>Paid lunch</td>\n      <td>59.0</td>\n      <td>Ruger_Smith</td>\n    </tr>\n    <tr>\n      <th>4</th>\n      <td>5.0</td>\n      <td>Ruger</td>\n      <td>Male</td>\n      <td>Hispanic</td>\n      <td>Free lunch</td>\n      <td>73.0</td>\n      <td>Ruger_Smith</td>\n    </tr>\n    <tr>\n      <th>...</th>\n      <td>...</td>\n      <td>...</td>\n      <td>...</td>\n      <td>...</td>\n      <td>...</td>\n      <td>...</td>\n      <td>...</td>\n    </tr>\n    <tr>\n      <th>212</th>\n      <td>213.0</td>\n      <td>Wesson</td>\n      <td>Male</td>\n      <td>Hispanic</td>\n      <td>Free lunch</td>\n      <td>94.0</td>\n      <td>Wesson</td>\n    </tr>\n    <tr>\n      <th>213</th>\n      <td>214.0</td>\n      <td>Wesson</td>\n      <td>Male</td>\n      <td>Hispanic</td>\n      <td>Paid lunch</td>\n      <td>91.0</td>\n      <td>Wesson</td>\n    </tr>\n    <tr>\n      <th>214</th>\n      <td>215.0</td>\n      <td>Wesson</td>\n      <td>Female</td>\n      <td>African-American</td>\n      <td>Paid lunch</td>\n      <td>53.0</td>\n      <td>Wesson</td>\n    </tr>\n    <tr>\n      <th>215</th>\n      <td>216.0</td>\n      <td>Wesson</td>\n      <td>Male</td>\n      <td>Hispanic</td>\n      <td>Paid lunch</td>\n      <td>57.0</td>\n      <td>Wesson</td>\n    </tr>\n    <tr>\n      <th>216</th>\n      <td>NaN</td>\n      <td>NaN</td>\n      <td>NaN</td>\n      <td>NaN</td>\n      <td>NaN</td>\n      <td>NaN</td>\n      <td>Ruger_Smith</td>\n    </tr>\n  </tbody>\n</table>\n<p>217 rows × 7 columns</p>\n</div>"
     },
     "execution_count": 12,
     "metadata": {},
     "output_type": "execute_result"
    }
   ],
   "source": [
    "csv"
   ],
   "metadata": {
    "collapsed": false,
    "pycharm": {
     "name": "#%%\n"
    }
   }
  },
  {
   "cell_type": "code",
   "execution_count": 45,
   "outputs": [
    {
     "data": {
      "text/plain": "[(1, 'Ruger', 'Female', 'Asian', 'Free lunch', 76.0, 'Ruger_Smith'),\n (2, 'Ruger', 'Female', 'Hispanic', 'Paid lunch', 56.0, 'Ruger_Smith'),\n (3, 'Ruger', 'Female', 'African-American', 'Free lunch', 34.0, 'Ruger_Smith'),\n (4, 'Ruger', 'Female', 'Asian', 'Paid lunch', 59.0, 'Ruger_Smith'),\n (5, 'Ruger', 'Male', 'Hispanic', 'Free lunch', 73.0, 'Ruger_Smith'),\n (6, 'Ruger', 'Male', 'Caucasian', 'Paid lunch', 58.0, 'Ruger_Smith'),\n (7, 'Ruger', 'Female', 'African-American', 'Paid lunch', 62.0, 'Ruger_Smith'),\n (8, 'Ruger', 'Male', 'Hispanic', 'Free lunch', 40.0, 'Ruger_Smith'),\n (9, 'Ruger', 'Female', 'African-American', 'Free lunch', 82.0, 'Ruger_Smith'),\n (10, 'Ruger', 'Male', 'African-American', 'Paid lunch', 78.0, 'Ruger_Smith'),\n (11, 'Ruger', 'Male', 'African-American', 'Paid lunch', 64.0, 'Ruger_Smith'),\n (12, 'Ruger', 'Female', 'Asian', 'Paid lunch', 68.0, 'Ruger_Smith'),\n (13, 'Ruger', 'Male', 'Hispanic', 'Free lunch', 39.0, 'Ruger_Smith'),\n (14, 'Ruger', 'Male', 'Caucasian', 'Free lunch', 48.0, 'Ruger_Smith'),\n (15, 'Ruger', 'Female', 'Caucasian', 'Free lunch', 66.0, 'Ruger_Smith'),\n (16, 'Ruger', 'Male', 'Asian', 'Free lunch', 68.0, 'Ruger_Smith'),\n (17, 'Ruger', 'Female', 'Hispanic', 'Paid lunch', 72.0, 'Ruger_Smith'),\n (18,\n  'Ruger',\n  'Female',\n  'African-American',\n  'Free lunch',\n  60.0,\n  'Ruger_Smith'),\n (19, 'Ruger', 'Male', 'Caucasian', 'Free lunch', 54.0, 'Ruger_Smith'),\n (20, 'Ruger', 'Male', 'Asian', 'Paid lunch', 34.0, 'Ruger_Smith'),\n (21, 'Ruger', 'Female', 'Hispanic', 'Paid lunch', 30.0, 'Ruger_Smith'),\n (22, 'Ruger', 'Male', 'Asian', 'Free lunch', 43.0, 'Ruger_Smith'),\n (23, 'Ruger', 'Female', 'Hispanic', 'Paid lunch', 73.0, 'Ruger_Smith'),\n (24, 'Ruger', 'Male', 'African-American', 'Free lunch', 44.0, 'Ruger_Smith'),\n (25, 'Ruger', 'Male', 'Asian', 'Free lunch', 39.0, 'Ruger_Smith'),\n (26, 'Ruger', 'Male', 'African-American', 'Free lunch', 67.0, 'Ruger_Smith'),\n (27, 'Ruger', 'Female', 'Hispanic', 'Paid lunch', 37.0, 'Ruger_Smith'),\n (28, 'Ruger', 'Male', 'Caucasian', 'Free lunch', 67.0, 'Ruger_Smith'),\n (29, 'Ruger', 'Male', 'Hispanic', 'Paid lunch', 32.0, 'Ruger_Smith'),\n (30, 'Ruger', 'Male', 'Caucasian', 'Paid lunch', 64.0, 'Ruger_Smith'),\n (31, 'Ruger', 'Female', 'Asian', 'Free lunch', 42.0, 'Ruger_Smith'),\n (32, 'Ruger', 'Male', 'Hispanic', 'Free lunch', 58.0, 'Ruger_Smith'),\n (33, 'Ruger', 'Male', 'Asian', 'Paid lunch', 33.0, 'Ruger_Smith'),\n (34, 'Ruger', 'Male', 'Caucasian', 'Free lunch', 47.0, 'Ruger_Smith'),\n (35,\n  'Ruger',\n  'Female',\n  'African-American',\n  'Paid lunch',\n  39.0,\n  'Ruger_Smith'),\n (36, 'Ruger', 'Male', 'Caucasian', 'Paid lunch', 65.0, 'Ruger_Smith'),\n (37, 'Ruger', 'Female', 'Hispanic', 'Free lunch', 36.0, 'Ruger_Smith'),\n (38, 'Ruger', 'Male', 'Caucasian', 'Paid lunch', 50.0, 'Ruger_Smith'),\n (39, 'Ruger', 'Female', 'Caucasian', 'Free lunch', 67.0, 'Ruger_Smith'),\n (40,\n  'Ruger',\n  'Female',\n  'African-American',\n  'Paid lunch',\n  74.0,\n  'Ruger_Smith'),\n (41, 'Ruger', 'Female', 'Asian', 'Free lunch', 75.0, 'Ruger_Smith'),\n (42, 'Ruger', 'Male', 'Hispanic', 'Paid lunch', 69.0, 'Ruger_Smith'),\n (43, 'Ruger', 'Male', 'Hispanic', 'Paid lunch', 74.0, 'Ruger_Smith'),\n (44, 'Ruger', 'Male', 'African-American', 'Free lunch', 32.0, 'Ruger_Smith'),\n (45, 'Ruger', 'Female', 'Hispanic', 'Paid lunch', 52.0, 'Ruger_Smith'),\n (46, 'Ruger', 'Male', 'African-American', 'Paid lunch', 36.0, 'Ruger_Smith'),\n (47, 'Ruger', 'Male', 'Hispanic', 'Paid lunch', 80.0, 'Ruger_Smith'),\n (48, 'Ruger', 'Female', 'Asian', 'Free lunch', 30.0, 'Ruger_Smith'),\n (49, 'Ruger', 'Female', 'Hispanic', 'Free lunch', 51.0, 'Ruger_Smith'),\n (50, 'Ruger', 'Female', 'Hispanic', 'Free lunch', 65.0, 'Ruger_Smith'),\n (51, 'Ruger', 'Female', 'Hispanic', 'Paid lunch', 71.0, 'Ruger_Smith'),\n (52, 'Ruger', 'Male', 'Caucasian', 'Paid lunch', 40.0, 'Ruger_Smith'),\n (53, 'Ruger', 'Male', 'Hispanic', 'Paid lunch', 50.0, 'Ruger_Smith'),\n (54, 'Ruger', 'Female', 'Asian', 'Free lunch', 30.0, 'Ruger_Smith'),\n (55,\n  'Ruger',\n  'Female',\n  'African-American',\n  'Free lunch',\n  57.0,\n  'Ruger_Smith'),\n (56, 'Ruger', 'Male', 'Hispanic', 'Paid lunch', 34.0, 'Ruger_Smith'),\n (57, 'Ruger', 'Male', 'Asian', 'Free lunch', 72.0, 'Ruger_Smith'),\n (58, 'Ruger', 'Male', 'African-American', 'Free lunch', 68.0, 'Ruger_Smith'),\n (59, 'Ruger', 'Male', 'Hispanic', 'Free lunch', 76.0, 'Ruger_Smith'),\n (60, 'Ruger', 'Male', 'Hispanic', 'Paid lunch', 54.0, 'Ruger_Smith'),\n (61,\n  'Ruger',\n  'Female',\n  'African-American',\n  'Free lunch',\n  56.0,\n  'Ruger_Smith'),\n (62, 'Ruger', 'Male', 'Hispanic', 'Paid lunch', 59.0, 'Ruger_Smith'),\n (63, 'Ruger', 'Female', 'Asian', 'Free lunch', 72.0, 'Ruger_Smith'),\n (64, 'Ruger', 'Female', 'Hispanic', 'Free lunch', 77.0, 'Ruger_Smith'),\n (65, 'Ruger', 'Male', 'African-American', 'Paid lunch', 38.0, 'Ruger_Smith'),\n (66, 'Ruger', 'Male', 'Hispanic', 'Paid lunch', 33.0, 'Ruger_Smith'),\n (67, 'Ruger', 'Female', 'Asian', 'Free lunch', 55.0, 'Ruger_Smith'),\n (68, 'Ruger', 'Male', 'African-American', 'Paid lunch', 51.0, 'Ruger_Smith'),\n (69, 'Ruger', 'Female', 'Asian', 'Paid lunch', 69.0, 'Ruger_Smith'),\n (70, 'Ruger', 'Male', 'Asian', 'Paid lunch', 48.0, 'Ruger_Smith'),\n (71,\n  'Ruger',\n  'Female',\n  'African-American',\n  'Paid lunch',\n  52.0,\n  'Ruger_Smith'),\n (72, 'Smith', 'Male', 'Asian', 'Paid lunch', 60.0, 'Ruger_Smith'),\n (73, 'Smith', 'Female', 'Hispanic', 'Paid lunch', 47.0, 'Ruger_Smith'),\n (74, 'Smith', 'Male', 'African-American', 'Free lunch', 62.0, 'Ruger_Smith'),\n (75, 'Smith', 'Male', 'Caucasian', 'Paid lunch', 55.0, 'Ruger_Smith'),\n (76, 'Smith', 'Female', 'Hispanic', 'Paid lunch', 50.0, 'Ruger_Smith'),\n (77, 'Smith', 'Male', 'Hispanic', 'Free lunch', 69.0, 'Ruger_Smith'),\n (78, 'Smith', 'Male', 'African-American', 'Paid lunch', 72.0, 'Ruger_Smith'),\n (79, 'Smith', 'Male', 'African-American', 'Free lunch', 80.0, 'Ruger_Smith'),\n (80, 'Smith', 'Male', 'Asian', 'Free lunch', 85.0, 'Ruger_Smith'),\n (81,\n  'Smith',\n  'Female',\n  'African-American',\n  'Paid lunch',\n  68.0,\n  'Ruger_Smith'),\n (82, 'Smith', 'Male', 'Hispanic', 'Free lunch', 45.0, 'Ruger_Smith'),\n (83, 'Smith', 'Female', 'Hispanic', 'Free lunch', 82.0, 'Ruger_Smith'),\n (84, 'Smith', 'Male', 'Asian', 'Paid lunch', 51.0, 'Ruger_Smith'),\n (85, 'Smith', 'Male', 'Caucasian', 'Free lunch', 49.0, 'Ruger_Smith'),\n (86,\n  'Smith',\n  'Female',\n  'African-American',\n  'Free lunch',\n  72.0,\n  'Ruger_Smith'),\n (87, 'Smith', 'Female', 'Caucasian', 'Paid lunch', 89.0, 'Ruger_Smith'),\n (88, 'Smith', 'Male', 'African-American', 'Paid lunch', 65.0, 'Ruger_Smith'),\n (89, 'Smith', 'Female', 'Asian', 'Paid lunch', 85.0, 'Ruger_Smith'),\n (90, 'Smith', 'Male', 'African-American', 'Paid lunch', 80.0, 'Ruger_Smith'),\n (91, 'Smith', 'Female', 'Caucasian', 'Free lunch', 65.0, 'Ruger_Smith'),\n (92, 'Smith', 'Male', 'Hispanic', 'Free lunch', 91.0, 'Ruger_Smith'),\n (93, 'Smith', 'Female', 'Caucasian', 'Paid lunch', 79.0, 'Ruger_Smith'),\n (94, 'Smith', 'Male', 'Hispanic', 'Free lunch', 79.0, 'Ruger_Smith'),\n (95, 'Smith', 'Male', 'Hispanic', 'Paid lunch', 62.0, 'Ruger_Smith'),\n (96, 'Smith', 'Male', 'Asian', 'Paid lunch', 87.0, 'Ruger_Smith'),\n (97, 'Smith', 'Male', 'African-American', 'Paid lunch', 46.0, 'Ruger_Smith'),\n (98, 'Smith', 'Male', 'Asian', 'Paid lunch', 48.0, 'Ruger_Smith'),\n (99, 'Smith', 'Male', 'Asian', 'Paid lunch', 87.0, 'Ruger_Smith'),\n (100, 'Smith', 'Male', 'Asian', 'Paid lunch', 95.0, 'Ruger_Smith'),\n (101, 'Smith', 'Female', 'Asian', 'Paid lunch', 91.0, 'Ruger_Smith'),\n (102, 'Smith', 'Female', 'Caucasian', 'Paid lunch', 53.0, 'Ruger_Smith'),\n (103, 'Smith', 'Female', 'Caucasian', 'Paid lunch', 83.0, 'Ruger_Smith'),\n (104, 'Smith', 'Male', 'African-American', 'Free lunch', 77.0, 'Ruger_Smith'),\n (105, 'Smith', 'Male', 'African-American', 'Free lunch', 67.0, 'Ruger_Smith'),\n (106, 'Smith', 'Male', 'Caucasian', 'Paid lunch', 52.0, 'Ruger_Smith'),\n (107, 'Smith', 'Male', 'Hispanic', 'Free lunch', 57.0, 'Ruger_Smith'),\n (108, 'Smith', 'Female', 'Hispanic', 'Free lunch', 69.0, 'Ruger_Smith'),\n (109, 'Smith', 'Female', 'Hispanic', 'Free lunch', 92.0, 'Ruger_Smith'),\n (110,\n  'Smith',\n  'Female',\n  'African-American',\n  'Free lunch',\n  68.0,\n  'Ruger_Smith'),\n (111, 'Smith', 'Female', 'Asian', 'Paid lunch', 48.0, 'Ruger_Smith'),\n (112, 'Smith', 'Female', 'Caucasian', 'Paid lunch', 61.0, 'Ruger_Smith'),\n (113, 'Smith', 'Female', 'Asian', 'Free lunch', 57.0, 'Ruger_Smith'),\n (114,\n  'Smith',\n  'Female',\n  'African-American',\n  'Paid lunch',\n  91.0,\n  'Ruger_Smith'),\n (115, 'Smith', 'Female', 'Caucasian', 'Free lunch', 84.0, 'Ruger_Smith'),\n (116, 'Smith', 'Male', 'Hispanic', 'Paid lunch', 71.0, 'Ruger_Smith'),\n (117, 'Smith', 'Male', 'Asian', 'Paid lunch', 64.0, 'Ruger_Smith'),\n (118, 'Smith', 'Female', 'Caucasian', 'Paid lunch', 51.0, 'Ruger_Smith'),\n (119, 'Smith', 'Male', 'African-American', 'Free lunch', 95.0, 'Ruger_Smith'),\n (120, 'Smith', 'Male', 'Asian', 'Paid lunch', 84.0, 'Ruger_Smith'),\n (121, 'Smith', 'Male', 'Hispanic', 'Paid lunch', 79.0, 'Ruger_Smith'),\n (122, 'Smith', 'Female', 'Hispanic', 'Paid lunch', 66.0, 'Ruger_Smith'),\n (123, 'Smith', 'Male', 'Asian', 'Free lunch', 76.0, 'Ruger_Smith'),\n (124, 'Smith', 'Male', 'African-American', 'Free lunch', 87.0, 'Ruger_Smith'),\n (125, 'Smith', 'Male', 'Caucasian', 'Free lunch', 73.0, 'Ruger_Smith'),\n (126, 'Smith', 'Female', 'Hispanic', 'Paid lunch', 74.0, 'Ruger_Smith'),\n (127, 'Smith', 'Male', 'Caucasian', 'Free lunch', 60.0, 'Ruger_Smith'),\n (128, 'Smith', 'Male', 'Asian', 'Paid lunch', 53.0, 'Ruger_Smith'),\n (129, 'Smith', 'Female', 'Caucasian', 'Paid lunch', 60.0, 'Ruger_Smith'),\n (130, 'Smith', 'Male', 'Asian', 'Free lunch', 65.0, 'Ruger_Smith'),\n (131, 'Smith', 'Male', 'Asian', 'Paid lunch', 52.0, 'Ruger_Smith'),\n (132, 'Smith', 'Male', 'African-American', 'Paid lunch', 48.0, 'Ruger_Smith'),\n (133, 'Smith', 'Female', 'Caucasian', 'Paid lunch', 95.0, 'Ruger_Smith'),\n (134, 'Smith', 'Female', 'Asian', 'Paid lunch', 86.0, 'Ruger_Smith'),\n (135, 'Smith', 'Male', 'Hispanic', 'Paid lunch', 82.0, 'Ruger_Smith'),\n (136, 'Smith', 'Male', 'African-American', 'Free lunch', 60.0, 'Ruger_Smith'),\n (137, 'Smith', 'Female', 'Hispanic', 'Paid lunch', 84.0, 'Ruger_Smith'),\n (138, 'Smith', 'Male', 'Asian', 'Paid lunch', 53.0, 'Ruger_Smith'),\n (139, 'Smith', 'Female', 'Asian', 'Paid lunch', 71.0, 'Ruger_Smith'),\n (140, 'Smith', 'Male', 'Hispanic', 'Free lunch', 59.0, 'Ruger_Smith'),\n (141, 'Wesson', 'Male', 'Caucasian', 'Paid lunch', 51.0, 'Wesson'),\n (142, 'Wesson', 'Male', 'Hispanic', 'Free lunch', 71.0, 'Wesson'),\n (143, 'Wesson', 'Male', 'African-American', 'Free lunch', 77.0, 'Wesson'),\n (144, 'Wesson', 'Female', 'Asian', 'Paid lunch', 85.0, 'Wesson'),\n (145, 'Wesson', 'Female', 'Caucasian', 'Paid lunch', 89.0, 'Wesson'),\n (146, 'Wesson', 'Male', 'Asian', 'Free lunch', 62.0, 'Wesson'),\n (147, 'Wesson', 'Male', 'Hispanic', 'Free lunch', 59.0, 'Wesson'),\n (148, 'Wesson', 'Male', 'Asian', 'Free lunch', 61.0, 'Wesson'),\n (149, 'Wesson', 'Male', 'African-American', 'Free lunch', 89.0, 'Wesson'),\n (150, 'Wesson', 'Male', 'African-American', 'Paid lunch', 61.0, 'Wesson'),\n (151, 'Wesson', 'Male', 'African-American', 'Free lunch', 93.0, 'Wesson'),\n (152, 'Wesson', 'Male', 'Caucasian', 'Free lunch', 70.0, 'Wesson'),\n (153, 'Wesson', 'Female', 'Caucasian', 'Free lunch', 61.0, 'Wesson'),\n (154, 'Wesson', 'Male', 'African-American', 'Paid lunch', 46.0, 'Wesson'),\n (155, 'Wesson', 'Female', 'Hispanic', 'Free lunch', 52.0, 'Wesson'),\n (156, 'Wesson', 'Female', 'Asian', 'Free lunch', 82.0, 'Wesson'),\n (157, 'Wesson', 'Male', 'Caucasian', 'Free lunch', 59.0, 'Wesson'),\n (158, 'Wesson', 'Female', 'Hispanic', 'Paid lunch', 78.0, 'Wesson'),\n (159, 'Wesson', 'Male', 'African-American', 'Free lunch', 73.0, 'Wesson'),\n (160, 'Wesson', 'Female', 'Asian', 'Free lunch', 93.0, 'Wesson'),\n (161, 'Wesson', 'Female', 'Hispanic', 'Free lunch', 88.0, 'Wesson'),\n (162, 'Wesson', 'Male', 'Caucasian', 'Free lunch', 63.0, 'Wesson'),\n (163, 'Wesson', 'Male', 'Asian', 'Free lunch', 79.0, 'Wesson'),\n (164, 'Wesson', 'Male', 'Hispanic', 'Paid lunch', 57.0, 'Wesson'),\n (165, 'Wesson', 'Female', 'Caucasian', 'Paid lunch', 91.0, 'Wesson'),\n (166, 'Wesson', 'Female', 'Hispanic', 'Free lunch', 76.0, 'Wesson'),\n (167, 'Wesson', 'Male', 'Caucasian', 'Free lunch', 68.0, 'Wesson'),\n (168, 'Wesson', 'Male', 'African-American', 'Paid lunch', 85.0, 'Wesson'),\n (169, 'Wesson', 'Female', 'Hispanic', 'Free lunch', 53.0, 'Wesson'),\n (170, 'Wesson', 'Male', 'African-American', 'Paid lunch', 48.0, 'Wesson'),\n (171, 'Wesson', 'Male', 'Hispanic', 'Free lunch', 53.0, 'Wesson'),\n (172, 'Wesson', 'Male', 'Asian', 'Free lunch', 66.0, 'Wesson'),\n (173, 'Wesson', 'Female', 'Hispanic', 'Paid lunch', 83.0, 'Wesson'),\n (174, 'Wesson', 'Female', 'Asian', 'Free lunch', 65.0, 'Wesson'),\n (175, 'Wesson', 'Female', 'Hispanic', 'Free lunch', 58.0, 'Wesson'),\n (176, 'Wesson', 'Male', 'Hispanic', 'Paid lunch', 67.0, 'Wesson'),\n (177, 'Wesson', 'Male', 'Hispanic', 'Paid lunch', 57.0, 'Wesson'),\n (178, 'Wesson', 'Female', 'Asian', 'Free lunch', 82.0, 'Wesson'),\n (179, 'Wesson', 'Female', 'Caucasian', 'Paid lunch', 58.0, 'Wesson'),\n (180, 'Wesson', 'Female', 'African-American', 'Free lunch', 87.0, 'Wesson'),\n (181, 'Wesson', 'Female', 'Hispanic', 'Free lunch', 68.0, 'Wesson'),\n (182, 'Wesson', 'Female', 'Asian', 'Free lunch', 70.0, 'Wesson'),\n (183, 'Wesson', 'Female', 'African-American', 'Free lunch', 63.0, 'Wesson'),\n (184, 'Wesson', 'Male', 'Asian', 'Free lunch', 52.0, 'Wesson'),\n (185, 'Wesson', 'Male', 'Hispanic', 'Free lunch', 72.0, 'Wesson'),\n (186, 'Wesson', 'Female', 'African-American', 'Free lunch', 83.0, 'Wesson'),\n (187, 'Wesson', 'Male', 'Caucasian', 'Free lunch', 45.0, 'Wesson'),\n (188, 'Wesson', 'Male', 'Hispanic', 'Paid lunch', 81.0, 'Wesson'),\n (189, 'Wesson', 'Female', 'African-American', 'Paid lunch', 65.0, 'Wesson'),\n (190, 'Wesson', 'Male', 'African-American', 'Free lunch', 89.0, 'Wesson'),\n (191, 'Wesson', 'Female', 'Caucasian', 'Paid lunch', 64.0, 'Wesson'),\n (192, 'Wesson', 'Female', 'Asian', 'Paid lunch', 85.0, 'Wesson'),\n (193, 'Wesson', 'Male', 'Caucasian', 'Paid lunch', 90.0, 'Wesson'),\n (194, 'Wesson', 'Female', 'Hispanic', 'Free lunch', 64.0, 'Wesson'),\n (195, 'Wesson', 'Female', 'Caucasian', 'Paid lunch', 68.0, 'Wesson'),\n (196, 'Wesson', 'Female', 'Hispanic', 'Paid lunch', 84.0, 'Wesson'),\n (197, 'Wesson', 'Female', 'African-American', 'Free lunch', 83.0, 'Wesson'),\n (198, 'Wesson', 'Female', 'Asian', 'Paid lunch', 93.0, 'Wesson'),\n (199, 'Wesson', 'Male', 'Caucasian', 'Paid lunch', 47.0, 'Wesson'),\n (200, 'Wesson', 'Female', 'Hispanic', 'Free lunch', 83.0, 'Wesson'),\n (201, 'Wesson', 'Female', 'Asian', 'Free lunch', 53.0, 'Wesson'),\n (202, 'Wesson', 'Male', 'Caucasian', 'Paid lunch', 79.0, 'Wesson'),\n (203, 'Wesson', 'Male', 'Asian', 'Free lunch', 87.0, 'Wesson'),\n (204, 'Wesson', 'Male', 'African-American', 'Paid lunch', 89.0, 'Wesson'),\n (205, 'Wesson', 'Female', 'Asian', 'Paid lunch', 56.0, 'Wesson'),\n (206, 'Wesson', 'Female', 'Hispanic', 'Paid lunch', 83.0, 'Wesson'),\n (207, 'Wesson', 'Male', 'Caucasian', 'Paid lunch', 45.0, 'Wesson'),\n (208, 'Wesson', 'Male', 'Caucasian', 'Paid lunch', 75.0, 'Wesson'),\n (209, 'Wesson', 'Female', 'Caucasian', 'Free lunch', 58.0, 'Wesson'),\n (210, 'Wesson', 'Female', 'African-American', 'Free lunch', 72.0, 'Wesson'),\n (211, 'Wesson', 'Male', 'Caucasian', 'Paid lunch', 79.0, 'Wesson'),\n (212, 'Wesson', 'Male', 'African-American', 'Paid lunch', 56.0, 'Wesson'),\n (213, 'Wesson', 'Male', 'Hispanic', 'Free lunch', 94.0, 'Wesson'),\n (214, 'Wesson', 'Male', 'Hispanic', 'Paid lunch', 91.0, 'Wesson'),\n (215, 'Wesson', 'Female', 'African-American', 'Paid lunch', 53.0, 'Wesson'),\n (216, 'Wesson', 'Male', 'Hispanic', 'Paid lunch', 57.0, 'Wesson')]"
     },
     "execution_count": 45,
     "metadata": {},
     "output_type": "execute_result"
    }
   ],
   "source": [
    "data"
   ],
   "metadata": {
    "collapsed": false,
    "pycharm": {
     "name": "#%%\n"
    }
   }
  },
  {
   "cell_type": "code",
   "execution_count": 49,
   "outputs": [
    {
     "data": {
      "text/plain": "     Student Teacher  Gender            Ethnic    Freeredu  Score       wesson\n0          1   Ruger  Female             Asian  Free lunch   76.0  Ruger_Smith\n1          2   Ruger  Female          Hispanic  Paid lunch   56.0  Ruger_Smith\n2          3   Ruger  Female  African-American  Free lunch   34.0  Ruger_Smith\n3          4   Ruger  Female             Asian  Paid lunch   59.0  Ruger_Smith\n4          5   Ruger    Male          Hispanic  Free lunch   73.0  Ruger_Smith\n..       ...     ...     ...               ...         ...    ...          ...\n211      212  Wesson    Male  African-American  Paid lunch   56.0       Wesson\n212      213  Wesson    Male          Hispanic  Free lunch   94.0       Wesson\n213      214  Wesson    Male          Hispanic  Paid lunch   91.0       Wesson\n214      215  Wesson  Female  African-American  Paid lunch   53.0       Wesson\n215      216  Wesson    Male          Hispanic  Paid lunch   57.0       Wesson\n\n[216 rows x 7 columns]",
      "text/html": "<div>\n<style scoped>\n    .dataframe tbody tr th:only-of-type {\n        vertical-align: middle;\n    }\n\n    .dataframe tbody tr th {\n        vertical-align: top;\n    }\n\n    .dataframe thead th {\n        text-align: right;\n    }\n</style>\n<table border=\"1\" class=\"dataframe\">\n  <thead>\n    <tr style=\"text-align: right;\">\n      <th></th>\n      <th>Student</th>\n      <th>Teacher</th>\n      <th>Gender</th>\n      <th>Ethnic</th>\n      <th>Freeredu</th>\n      <th>Score</th>\n      <th>wesson</th>\n    </tr>\n  </thead>\n  <tbody>\n    <tr>\n      <th>0</th>\n      <td>1</td>\n      <td>Ruger</td>\n      <td>Female</td>\n      <td>Asian</td>\n      <td>Free lunch</td>\n      <td>76.0</td>\n      <td>Ruger_Smith</td>\n    </tr>\n    <tr>\n      <th>1</th>\n      <td>2</td>\n      <td>Ruger</td>\n      <td>Female</td>\n      <td>Hispanic</td>\n      <td>Paid lunch</td>\n      <td>56.0</td>\n      <td>Ruger_Smith</td>\n    </tr>\n    <tr>\n      <th>2</th>\n      <td>3</td>\n      <td>Ruger</td>\n      <td>Female</td>\n      <td>African-American</td>\n      <td>Free lunch</td>\n      <td>34.0</td>\n      <td>Ruger_Smith</td>\n    </tr>\n    <tr>\n      <th>3</th>\n      <td>4</td>\n      <td>Ruger</td>\n      <td>Female</td>\n      <td>Asian</td>\n      <td>Paid lunch</td>\n      <td>59.0</td>\n      <td>Ruger_Smith</td>\n    </tr>\n    <tr>\n      <th>4</th>\n      <td>5</td>\n      <td>Ruger</td>\n      <td>Male</td>\n      <td>Hispanic</td>\n      <td>Free lunch</td>\n      <td>73.0</td>\n      <td>Ruger_Smith</td>\n    </tr>\n    <tr>\n      <th>...</th>\n      <td>...</td>\n      <td>...</td>\n      <td>...</td>\n      <td>...</td>\n      <td>...</td>\n      <td>...</td>\n      <td>...</td>\n    </tr>\n    <tr>\n      <th>211</th>\n      <td>212</td>\n      <td>Wesson</td>\n      <td>Male</td>\n      <td>African-American</td>\n      <td>Paid lunch</td>\n      <td>56.0</td>\n      <td>Wesson</td>\n    </tr>\n    <tr>\n      <th>212</th>\n      <td>213</td>\n      <td>Wesson</td>\n      <td>Male</td>\n      <td>Hispanic</td>\n      <td>Free lunch</td>\n      <td>94.0</td>\n      <td>Wesson</td>\n    </tr>\n    <tr>\n      <th>213</th>\n      <td>214</td>\n      <td>Wesson</td>\n      <td>Male</td>\n      <td>Hispanic</td>\n      <td>Paid lunch</td>\n      <td>91.0</td>\n      <td>Wesson</td>\n    </tr>\n    <tr>\n      <th>214</th>\n      <td>215</td>\n      <td>Wesson</td>\n      <td>Female</td>\n      <td>African-American</td>\n      <td>Paid lunch</td>\n      <td>53.0</td>\n      <td>Wesson</td>\n    </tr>\n    <tr>\n      <th>215</th>\n      <td>216</td>\n      <td>Wesson</td>\n      <td>Male</td>\n      <td>Hispanic</td>\n      <td>Paid lunch</td>\n      <td>57.0</td>\n      <td>Wesson</td>\n    </tr>\n  </tbody>\n</table>\n<p>216 rows × 7 columns</p>\n</div>"
     },
     "execution_count": 49,
     "metadata": {},
     "output_type": "execute_result"
    }
   ],
   "source": [
    "column_names = [element[0] for element in description]\n",
    "dataframe = pd.DataFrame(data,columns=column_names)\n",
    "dataframe"
   ],
   "metadata": {
    "collapsed": false,
    "pycharm": {
     "name": "#%%\n"
    }
   }
  },
  {
   "cell_type": "code",
   "execution_count": 48,
   "outputs": [
    {
     "data": {
      "text/plain": "[('Student', 8, None, None, None, None, 1, 0, 63),\n ('Teacher', 252, None, None, None, None, 1, 16, 45),\n ('Gender', 252, None, None, None, None, 1, 16, 45),\n ('Ethnic', 252, None, None, None, None, 1, 16, 45),\n ('Freeredu', 252, None, None, None, None, 1, 16, 45),\n ('Score', 5, None, None, None, None, 1, 0, 63),\n ('wesson', 252, None, None, None, None, 1, 16, 45)]"
     },
     "execution_count": 48,
     "metadata": {},
     "output_type": "execute_result"
    }
   ],
   "source": [],
   "metadata": {
    "collapsed": false,
    "pycharm": {
     "name": "#%%\n"
    }
   }
  },
  {
   "cell_type": "code",
   "execution_count": 51,
   "outputs": [
    {
     "data": {
      "text/plain": "     Student Teacher  Gender            Ethnic    Freeredu  Score       wesson\n0        1.0   Ruger  Female             Asian  Free lunch   76.0  Ruger_Smith\n1        2.0   Ruger  Female          Hispanic  Paid lunch   56.0  Ruger_Smith\n2        3.0   Ruger  Female  African-American  Free lunch   34.0  Ruger_Smith\n3        4.0   Ruger  Female             Asian  Paid lunch   59.0  Ruger_Smith\n4        5.0   Ruger    Male          Hispanic  Free lunch   73.0  Ruger_Smith\n..       ...     ...     ...               ...         ...    ...          ...\n211    212.0  Wesson    Male  African-American  Paid lunch   56.0       Wesson\n212    213.0  Wesson    Male          Hispanic  Free lunch   94.0       Wesson\n213    214.0  Wesson    Male          Hispanic  Paid lunch   91.0       Wesson\n214    215.0  Wesson  Female  African-American  Paid lunch   53.0       Wesson\n215    216.0  Wesson    Male          Hispanic  Paid lunch   57.0       Wesson\n\n[433 rows x 7 columns]",
      "text/html": "<div>\n<style scoped>\n    .dataframe tbody tr th:only-of-type {\n        vertical-align: middle;\n    }\n\n    .dataframe tbody tr th {\n        vertical-align: top;\n    }\n\n    .dataframe thead th {\n        text-align: right;\n    }\n</style>\n<table border=\"1\" class=\"dataframe\">\n  <thead>\n    <tr style=\"text-align: right;\">\n      <th></th>\n      <th>Student</th>\n      <th>Teacher</th>\n      <th>Gender</th>\n      <th>Ethnic</th>\n      <th>Freeredu</th>\n      <th>Score</th>\n      <th>wesson</th>\n    </tr>\n  </thead>\n  <tbody>\n    <tr>\n      <th>0</th>\n      <td>1.0</td>\n      <td>Ruger</td>\n      <td>Female</td>\n      <td>Asian</td>\n      <td>Free lunch</td>\n      <td>76.0</td>\n      <td>Ruger_Smith</td>\n    </tr>\n    <tr>\n      <th>1</th>\n      <td>2.0</td>\n      <td>Ruger</td>\n      <td>Female</td>\n      <td>Hispanic</td>\n      <td>Paid lunch</td>\n      <td>56.0</td>\n      <td>Ruger_Smith</td>\n    </tr>\n    <tr>\n      <th>2</th>\n      <td>3.0</td>\n      <td>Ruger</td>\n      <td>Female</td>\n      <td>African-American</td>\n      <td>Free lunch</td>\n      <td>34.0</td>\n      <td>Ruger_Smith</td>\n    </tr>\n    <tr>\n      <th>3</th>\n      <td>4.0</td>\n      <td>Ruger</td>\n      <td>Female</td>\n      <td>Asian</td>\n      <td>Paid lunch</td>\n      <td>59.0</td>\n      <td>Ruger_Smith</td>\n    </tr>\n    <tr>\n      <th>4</th>\n      <td>5.0</td>\n      <td>Ruger</td>\n      <td>Male</td>\n      <td>Hispanic</td>\n      <td>Free lunch</td>\n      <td>73.0</td>\n      <td>Ruger_Smith</td>\n    </tr>\n    <tr>\n      <th>...</th>\n      <td>...</td>\n      <td>...</td>\n      <td>...</td>\n      <td>...</td>\n      <td>...</td>\n      <td>...</td>\n      <td>...</td>\n    </tr>\n    <tr>\n      <th>211</th>\n      <td>212.0</td>\n      <td>Wesson</td>\n      <td>Male</td>\n      <td>African-American</td>\n      <td>Paid lunch</td>\n      <td>56.0</td>\n      <td>Wesson</td>\n    </tr>\n    <tr>\n      <th>212</th>\n      <td>213.0</td>\n      <td>Wesson</td>\n      <td>Male</td>\n      <td>Hispanic</td>\n      <td>Free lunch</td>\n      <td>94.0</td>\n      <td>Wesson</td>\n    </tr>\n    <tr>\n      <th>213</th>\n      <td>214.0</td>\n      <td>Wesson</td>\n      <td>Male</td>\n      <td>Hispanic</td>\n      <td>Paid lunch</td>\n      <td>91.0</td>\n      <td>Wesson</td>\n    </tr>\n    <tr>\n      <th>214</th>\n      <td>215.0</td>\n      <td>Wesson</td>\n      <td>Female</td>\n      <td>African-American</td>\n      <td>Paid lunch</td>\n      <td>53.0</td>\n      <td>Wesson</td>\n    </tr>\n    <tr>\n      <th>215</th>\n      <td>216.0</td>\n      <td>Wesson</td>\n      <td>Male</td>\n      <td>Hispanic</td>\n      <td>Paid lunch</td>\n      <td>57.0</td>\n      <td>Wesson</td>\n    </tr>\n  </tbody>\n</table>\n<p>433 rows × 7 columns</p>\n</div>"
     },
     "execution_count": 51,
     "metadata": {},
     "output_type": "execute_result"
    }
   ],
   "source": [
    "full_data = pd.concat([csv,dataframe])\n",
    "full_data"
   ],
   "metadata": {
    "collapsed": false,
    "pycharm": {
     "name": "#%%\n"
    }
   }
  },
  {
   "cell_type": "code",
   "execution_count": 54,
   "outputs": [],
   "source": [
    "over70Students = full_data[full_data['Score']>70]"
   ],
   "metadata": {
    "collapsed": false,
    "pycharm": {
     "name": "#%%\n"
    }
   }
  },
  {
   "cell_type": "code",
   "execution_count": 56,
   "outputs": [
    {
     "data": {
      "text/plain": "Student     170\nTeacher     170\nGender      170\nEthnic      170\nFreeredu    170\nScore       170\nwesson      170\ndtype: int64"
     },
     "execution_count": 56,
     "metadata": {},
     "output_type": "execute_result"
    }
   ],
   "source": [
    "over70Students.count()"
   ],
   "metadata": {
    "collapsed": false,
    "pycharm": {
     "name": "#%%\n"
    }
   }
  },
  {
   "cell_type": "code",
   "execution_count": 57,
   "outputs": [],
   "source": [
    "femaleStudents = full_data[full_data['Gender']==\"Female\"]"
   ],
   "metadata": {
    "collapsed": false,
    "pycharm": {
     "name": "#%%\n"
    }
   }
  },
  {
   "cell_type": "code",
   "execution_count": 58,
   "outputs": [
    {
     "data": {
      "text/plain": "     Student Teacher  Gender            Ethnic    Freeredu  Score       wesson\n0        1.0   Ruger  Female             Asian  Free lunch   76.0  Ruger_Smith\n1        2.0   Ruger  Female          Hispanic  Paid lunch   56.0  Ruger_Smith\n2        3.0   Ruger  Female  African-American  Free lunch   34.0  Ruger_Smith\n3        4.0   Ruger  Female             Asian  Paid lunch   59.0  Ruger_Smith\n6        7.0   Ruger  Female  African-American  Paid lunch   62.0  Ruger_Smith\n..       ...     ...     ...               ...         ...    ...          ...\n204    205.0  Wesson  Female             Asian  Paid lunch   56.0       Wesson\n205    206.0  Wesson  Female          Hispanic  Paid lunch   83.0       Wesson\n208    209.0  Wesson  Female         Caucasian  Free lunch   58.0       Wesson\n209    210.0  Wesson  Female  African-American  Free lunch   72.0       Wesson\n214    215.0  Wesson  Female  African-American  Paid lunch   53.0       Wesson\n\n[192 rows x 7 columns]",
      "text/html": "<div>\n<style scoped>\n    .dataframe tbody tr th:only-of-type {\n        vertical-align: middle;\n    }\n\n    .dataframe tbody tr th {\n        vertical-align: top;\n    }\n\n    .dataframe thead th {\n        text-align: right;\n    }\n</style>\n<table border=\"1\" class=\"dataframe\">\n  <thead>\n    <tr style=\"text-align: right;\">\n      <th></th>\n      <th>Student</th>\n      <th>Teacher</th>\n      <th>Gender</th>\n      <th>Ethnic</th>\n      <th>Freeredu</th>\n      <th>Score</th>\n      <th>wesson</th>\n    </tr>\n  </thead>\n  <tbody>\n    <tr>\n      <th>0</th>\n      <td>1.0</td>\n      <td>Ruger</td>\n      <td>Female</td>\n      <td>Asian</td>\n      <td>Free lunch</td>\n      <td>76.0</td>\n      <td>Ruger_Smith</td>\n    </tr>\n    <tr>\n      <th>1</th>\n      <td>2.0</td>\n      <td>Ruger</td>\n      <td>Female</td>\n      <td>Hispanic</td>\n      <td>Paid lunch</td>\n      <td>56.0</td>\n      <td>Ruger_Smith</td>\n    </tr>\n    <tr>\n      <th>2</th>\n      <td>3.0</td>\n      <td>Ruger</td>\n      <td>Female</td>\n      <td>African-American</td>\n      <td>Free lunch</td>\n      <td>34.0</td>\n      <td>Ruger_Smith</td>\n    </tr>\n    <tr>\n      <th>3</th>\n      <td>4.0</td>\n      <td>Ruger</td>\n      <td>Female</td>\n      <td>Asian</td>\n      <td>Paid lunch</td>\n      <td>59.0</td>\n      <td>Ruger_Smith</td>\n    </tr>\n    <tr>\n      <th>6</th>\n      <td>7.0</td>\n      <td>Ruger</td>\n      <td>Female</td>\n      <td>African-American</td>\n      <td>Paid lunch</td>\n      <td>62.0</td>\n      <td>Ruger_Smith</td>\n    </tr>\n    <tr>\n      <th>...</th>\n      <td>...</td>\n      <td>...</td>\n      <td>...</td>\n      <td>...</td>\n      <td>...</td>\n      <td>...</td>\n      <td>...</td>\n    </tr>\n    <tr>\n      <th>204</th>\n      <td>205.0</td>\n      <td>Wesson</td>\n      <td>Female</td>\n      <td>Asian</td>\n      <td>Paid lunch</td>\n      <td>56.0</td>\n      <td>Wesson</td>\n    </tr>\n    <tr>\n      <th>205</th>\n      <td>206.0</td>\n      <td>Wesson</td>\n      <td>Female</td>\n      <td>Hispanic</td>\n      <td>Paid lunch</td>\n      <td>83.0</td>\n      <td>Wesson</td>\n    </tr>\n    <tr>\n      <th>208</th>\n      <td>209.0</td>\n      <td>Wesson</td>\n      <td>Female</td>\n      <td>Caucasian</td>\n      <td>Free lunch</td>\n      <td>58.0</td>\n      <td>Wesson</td>\n    </tr>\n    <tr>\n      <th>209</th>\n      <td>210.0</td>\n      <td>Wesson</td>\n      <td>Female</td>\n      <td>African-American</td>\n      <td>Free lunch</td>\n      <td>72.0</td>\n      <td>Wesson</td>\n    </tr>\n    <tr>\n      <th>214</th>\n      <td>215.0</td>\n      <td>Wesson</td>\n      <td>Female</td>\n      <td>African-American</td>\n      <td>Paid lunch</td>\n      <td>53.0</td>\n      <td>Wesson</td>\n    </tr>\n  </tbody>\n</table>\n<p>192 rows × 7 columns</p>\n</div>"
     },
     "execution_count": 58,
     "metadata": {},
     "output_type": "execute_result"
    }
   ],
   "source": [
    "femaleStudents"
   ],
   "metadata": {
    "collapsed": false,
    "pycharm": {
     "name": "#%%\n"
    }
   }
  },
  {
   "cell_type": "code",
   "execution_count": 65,
   "outputs": [],
   "source": [
    "femaleStudentsOver70 = full_data.loc[(full_data['Gender']==\"Female\") & (full_data['Score']>70)]"
   ],
   "metadata": {
    "collapsed": false,
    "pycharm": {
     "name": "#%%\n"
    }
   }
  },
  {
   "cell_type": "code",
   "execution_count": 66,
   "outputs": [
    {
     "data": {
      "text/plain": "     Student Teacher  Gender            Ethnic    Freeredu  Score       wesson\n0        1.0   Ruger  Female             Asian  Free lunch   76.0  Ruger_Smith\n8        9.0   Ruger  Female  African-American  Free lunch   82.0  Ruger_Smith\n16      17.0   Ruger  Female          Hispanic  Paid lunch   72.0  Ruger_Smith\n22      23.0   Ruger  Female          Hispanic  Paid lunch   73.0  Ruger_Smith\n39      40.0   Ruger  Female  African-American  Paid lunch   74.0  Ruger_Smith\n..       ...     ...     ...               ...         ...    ...          ...\n196    197.0  Wesson  Female  African-American  Free lunch   83.0       Wesson\n197    198.0  Wesson  Female             Asian  Paid lunch   93.0       Wesson\n199    200.0  Wesson  Female          Hispanic  Free lunch   83.0       Wesson\n205    206.0  Wesson  Female          Hispanic  Paid lunch   83.0       Wesson\n209    210.0  Wesson  Female  African-American  Free lunch   72.0       Wesson\n\n[86 rows x 7 columns]",
      "text/html": "<div>\n<style scoped>\n    .dataframe tbody tr th:only-of-type {\n        vertical-align: middle;\n    }\n\n    .dataframe tbody tr th {\n        vertical-align: top;\n    }\n\n    .dataframe thead th {\n        text-align: right;\n    }\n</style>\n<table border=\"1\" class=\"dataframe\">\n  <thead>\n    <tr style=\"text-align: right;\">\n      <th></th>\n      <th>Student</th>\n      <th>Teacher</th>\n      <th>Gender</th>\n      <th>Ethnic</th>\n      <th>Freeredu</th>\n      <th>Score</th>\n      <th>wesson</th>\n    </tr>\n  </thead>\n  <tbody>\n    <tr>\n      <th>0</th>\n      <td>1.0</td>\n      <td>Ruger</td>\n      <td>Female</td>\n      <td>Asian</td>\n      <td>Free lunch</td>\n      <td>76.0</td>\n      <td>Ruger_Smith</td>\n    </tr>\n    <tr>\n      <th>8</th>\n      <td>9.0</td>\n      <td>Ruger</td>\n      <td>Female</td>\n      <td>African-American</td>\n      <td>Free lunch</td>\n      <td>82.0</td>\n      <td>Ruger_Smith</td>\n    </tr>\n    <tr>\n      <th>16</th>\n      <td>17.0</td>\n      <td>Ruger</td>\n      <td>Female</td>\n      <td>Hispanic</td>\n      <td>Paid lunch</td>\n      <td>72.0</td>\n      <td>Ruger_Smith</td>\n    </tr>\n    <tr>\n      <th>22</th>\n      <td>23.0</td>\n      <td>Ruger</td>\n      <td>Female</td>\n      <td>Hispanic</td>\n      <td>Paid lunch</td>\n      <td>73.0</td>\n      <td>Ruger_Smith</td>\n    </tr>\n    <tr>\n      <th>39</th>\n      <td>40.0</td>\n      <td>Ruger</td>\n      <td>Female</td>\n      <td>African-American</td>\n      <td>Paid lunch</td>\n      <td>74.0</td>\n      <td>Ruger_Smith</td>\n    </tr>\n    <tr>\n      <th>...</th>\n      <td>...</td>\n      <td>...</td>\n      <td>...</td>\n      <td>...</td>\n      <td>...</td>\n      <td>...</td>\n      <td>...</td>\n    </tr>\n    <tr>\n      <th>196</th>\n      <td>197.0</td>\n      <td>Wesson</td>\n      <td>Female</td>\n      <td>African-American</td>\n      <td>Free lunch</td>\n      <td>83.0</td>\n      <td>Wesson</td>\n    </tr>\n    <tr>\n      <th>197</th>\n      <td>198.0</td>\n      <td>Wesson</td>\n      <td>Female</td>\n      <td>Asian</td>\n      <td>Paid lunch</td>\n      <td>93.0</td>\n      <td>Wesson</td>\n    </tr>\n    <tr>\n      <th>199</th>\n      <td>200.0</td>\n      <td>Wesson</td>\n      <td>Female</td>\n      <td>Hispanic</td>\n      <td>Free lunch</td>\n      <td>83.0</td>\n      <td>Wesson</td>\n    </tr>\n    <tr>\n      <th>205</th>\n      <td>206.0</td>\n      <td>Wesson</td>\n      <td>Female</td>\n      <td>Hispanic</td>\n      <td>Paid lunch</td>\n      <td>83.0</td>\n      <td>Wesson</td>\n    </tr>\n    <tr>\n      <th>209</th>\n      <td>210.0</td>\n      <td>Wesson</td>\n      <td>Female</td>\n      <td>African-American</td>\n      <td>Free lunch</td>\n      <td>72.0</td>\n      <td>Wesson</td>\n    </tr>\n  </tbody>\n</table>\n<p>86 rows × 7 columns</p>\n</div>"
     },
     "execution_count": 66,
     "metadata": {},
     "output_type": "execute_result"
    }
   ],
   "source": [
    "femaleStudentsOver70"
   ],
   "metadata": {
    "collapsed": false,
    "pycharm": {
     "name": "#%%\n"
    }
   }
  },
  {
   "cell_type": "code",
   "execution_count": null,
   "outputs": [],
   "source": [],
   "metadata": {
    "collapsed": false,
    "pycharm": {
     "name": "#%%\n"
    }
   }
  }
 ],
 "metadata": {
  "kernelspec": {
   "display_name": "Python 3",
   "language": "python",
   "name": "python3"
  },
  "language_info": {
   "codemirror_mode": {
    "name": "ipython",
    "version": 2
   },
   "file_extension": ".py",
   "mimetype": "text/x-python",
   "name": "python",
   "nbconvert_exporter": "python",
   "pygments_lexer": "ipython2",
   "version": "2.7.6"
  }
 },
 "nbformat": 4,
 "nbformat_minor": 0
}