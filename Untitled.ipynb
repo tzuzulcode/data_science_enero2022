{
 "cells": [
  {
   "cell_type": "code",
   "execution_count": 1,
   "id": "ba47d20b",
   "metadata": {},
   "outputs": [],
   "source": [
    "numeros = [1, 2, 3, 4, 5, 6, 7, 8, 9,10,11,12,13,14,15]\n",
    "lista_de_listas = [[1, 2, 3], [4, 5, 6], [7, 8, 9]]  # Matriz"
   ]
  },
  {
   "cell_type": "code",
   "execution_count": 2,
   "id": "d0e65071",
   "metadata": {},
   "outputs": [],
   "source": [
    "numeros_al_reves = numeros[::-1]"
   ]
  },
  {
   "cell_type": "code",
   "execution_count": 5,
   "id": "2a7fe4d3",
   "metadata": {},
   "outputs": [
    {
     "data": {
      "text/plain": [
       "[15, 14, 13, 12, 11, 10, 9, 8, 7, 6, 5, 4, 3, 2, 1]"
      ]
     },
     "execution_count": 5,
     "metadata": {},
     "output_type": "execute_result"
    }
   ],
   "source": [
    "numeros_al_reves"
   ]
  },
  {
   "cell_type": "code",
   "execution_count": 8,
   "id": "4e8d6d62",
   "metadata": {},
   "outputs": [
    {
     "name": "stdout",
     "output_type": "stream",
     "text": [
      "[4, 7, 10]\n"
     ]
    }
   ],
   "source": [
    "tres_en_tres = numeros[3:10:3]\n",
    "print(tres_en_tres)"
   ]
  },
  {
   "cell_type": "code",
   "execution_count": 9,
   "id": "1b85c78f",
   "metadata": {},
   "outputs": [
    {
     "data": {
      "text/plain": [
       "True"
      ]
     },
     "execution_count": 9,
     "metadata": {},
     "output_type": "execute_result"
    }
   ],
   "source": [
    "4 in tres_en_tres"
   ]
  },
  {
   "cell_type": "code",
   "execution_count": 15,
   "id": "68535d31",
   "metadata": {},
   "outputs": [],
   "source": [
    "x,y,_ = tres_en_tres"
   ]
  },
  {
   "cell_type": "code",
   "execution_count": 16,
   "id": "f9f32dff",
   "metadata": {},
   "outputs": [
    {
     "name": "stdout",
     "output_type": "stream",
     "text": [
      "4 7 10\n"
     ]
    }
   ],
   "source": [
    "print(x,y,z)"
   ]
  },
  {
   "cell_type": "markdown",
   "id": "1f1a81c8",
   "metadata": {},
   "source": [
    "# Utilizando tuplas (tuples)"
   ]
  },
  {
   "cell_type": "markdown",
   "id": "85ccdb0c",
   "metadata": {},
   "source": [
    "### Diferencias con las listas\n",
    "Ejemplos:"
   ]
  },
  {
   "cell_type": "code",
   "execution_count": 17,
   "id": "896ddd41",
   "metadata": {},
   "outputs": [],
   "source": [
    "tupla = (1, 2, 3, 4, 5, 6, 7, 8, 9,10,11,12,13,14,15)"
   ]
  },
  {
   "cell_type": "code",
   "execution_count": 25,
   "id": "8be2dc50",
   "metadata": {},
   "outputs": [
    {
     "data": {
      "text/plain": [
       "(1, 2, 3, 4, 5, 6, 7, 8, 9, 10, 11, 12, 13, 14, 15)"
      ]
     },
     "execution_count": 25,
     "metadata": {},
     "output_type": "execute_result"
    }
   ],
   "source": [
    "tupla"
   ]
  },
  {
   "cell_type": "code",
   "execution_count": 18,
   "id": "c9a657a1",
   "metadata": {},
   "outputs": [],
   "source": [
    "numeros[0] = 15"
   ]
  },
  {
   "cell_type": "code",
   "execution_count": 19,
   "id": "ed7669b0",
   "metadata": {},
   "outputs": [
    {
     "data": {
      "text/plain": [
       "[15, 2, 3, 4, 5, 6, 7, 8, 9, 10, 11, 12, 13, 14, 15]"
      ]
     },
     "execution_count": 19,
     "metadata": {},
     "output_type": "execute_result"
    }
   ],
   "source": [
    "numeros"
   ]
  },
  {
   "cell_type": "code",
   "execution_count": 20,
   "id": "3b260eb5",
   "metadata": {},
   "outputs": [
    {
     "ename": "TypeError",
     "evalue": "'tuple' object does not support item assignment",
     "output_type": "error",
     "traceback": [
      "\u001b[0;31m---------------------------------------------------------------------------\u001b[0m",
      "\u001b[0;31mTypeError\u001b[0m                                 Traceback (most recent call last)",
      "\u001b[0;32m/var/folders/sb/30311bq16l911lpqttfpzgdw0000gn/T/ipykernel_1968/372694301.py\u001b[0m in \u001b[0;36m<module>\u001b[0;34m\u001b[0m\n\u001b[0;32m----> 1\u001b[0;31m \u001b[0mtupla\u001b[0m\u001b[0;34m[\u001b[0m\u001b[0;36m0\u001b[0m\u001b[0;34m]\u001b[0m \u001b[0;34m=\u001b[0m \u001b[0;36m15\u001b[0m\u001b[0;34m\u001b[0m\u001b[0;34m\u001b[0m\u001b[0m\n\u001b[0m",
      "\u001b[0;31mTypeError\u001b[0m: 'tuple' object does not support item assignment"
     ]
    }
   ],
   "source": [
    "tupla[0] = 15"
   ]
  },
  {
   "cell_type": "code",
   "execution_count": 23,
   "id": "8440621d",
   "metadata": {},
   "outputs": [],
   "source": [
    "def suma_multiplicacion(x,y):\n",
    "    suma = x + y\n",
    "    multiplicacion = x * y\n",
    "    return suma,multiplicacion"
   ]
  },
  {
   "cell_type": "code",
   "execution_count": 28,
   "id": "f2b992b3",
   "metadata": {},
   "outputs": [],
   "source": [
    "suma,multiplicacion = suma_multiplicacion(5,10)"
   ]
  },
  {
   "cell_type": "code",
   "execution_count": 29,
   "id": "c108cde7",
   "metadata": {},
   "outputs": [
    {
     "name": "stdout",
     "output_type": "stream",
     "text": [
      "15 50\n"
     ]
    }
   ],
   "source": [
    "print(suma,multiplicacion)"
   ]
  },
  {
   "cell_type": "code",
   "execution_count": 30,
   "id": "bff19325",
   "metadata": {},
   "outputs": [],
   "source": [
    "tupla_sin_parentesis = 1,2,3,4,5"
   ]
  },
  {
   "cell_type": "code",
   "execution_count": 31,
   "id": "72f7d42b",
   "metadata": {},
   "outputs": [
    {
     "data": {
      "text/plain": [
       "(1, 2, 3, 4, 5)"
      ]
     },
     "execution_count": 31,
     "metadata": {},
     "output_type": "execute_result"
    }
   ],
   "source": [
    "tupla_sin_parentesis"
   ]
  },
  {
   "cell_type": "markdown",
   "id": "d5006189",
   "metadata": {},
   "source": [
    "# Diccionarios"
   ]
  },
  {
   "cell_type": "code",
   "execution_count": 32,
   "id": "292cffac",
   "metadata": {},
   "outputs": [],
   "source": [
    "grades = {\"Carla\":8,\"Matias\":8,\"Adrian\":5}"
   ]
  },
  {
   "cell_type": "code",
   "execution_count": 33,
   "id": "1605594d",
   "metadata": {},
   "outputs": [],
   "source": [
    "matias_grade = grades[\"Matias\"]"
   ]
  },
  {
   "cell_type": "code",
   "execution_count": 34,
   "id": "f4a531bc",
   "metadata": {},
   "outputs": [
    {
     "data": {
      "text/plain": [
       "8"
      ]
     },
     "execution_count": 34,
     "metadata": {},
     "output_type": "execute_result"
    }
   ],
   "source": [
    "matias_grade"
   ]
  },
  {
   "cell_type": "code",
   "execution_count": 35,
   "id": "25ef4001",
   "metadata": {
    "scrolled": true
   },
   "outputs": [
    {
     "ename": "KeyError",
     "evalue": "'Salvador'",
     "output_type": "error",
     "traceback": [
      "\u001b[0;31m---------------------------------------------------------------------------\u001b[0m",
      "\u001b[0;31mKeyError\u001b[0m                                  Traceback (most recent call last)",
      "\u001b[0;32m/var/folders/sb/30311bq16l911lpqttfpzgdw0000gn/T/ipykernel_1968/1067071742.py\u001b[0m in \u001b[0;36m<module>\u001b[0;34m\u001b[0m\n\u001b[0;32m----> 1\u001b[0;31m \u001b[0mgrades\u001b[0m\u001b[0;34m[\u001b[0m\u001b[0;34m\"Salvador\"\u001b[0m\u001b[0;34m]\u001b[0m\u001b[0;34m\u001b[0m\u001b[0;34m\u001b[0m\u001b[0m\n\u001b[0m",
      "\u001b[0;31mKeyError\u001b[0m: 'Salvador'"
     ]
    }
   ],
   "source": [
    "grades[\"Salvador\"]"
   ]
  },
  {
   "cell_type": "code",
   "execution_count": 36,
   "id": "6938dd24",
   "metadata": {},
   "outputs": [],
   "source": [
    "grades[\"Salvador\"] = 10"
   ]
  },
  {
   "cell_type": "code",
   "execution_count": 37,
   "id": "0e639154",
   "metadata": {},
   "outputs": [
    {
     "data": {
      "text/plain": [
       "{'Carla': 8, 'Matias': 8, 'Adrian': 5, 'Salvador': 10}"
      ]
     },
     "execution_count": 37,
     "metadata": {},
     "output_type": "execute_result"
    }
   ],
   "source": [
    "grades"
   ]
  },
  {
   "cell_type": "code",
   "execution_count": 38,
   "id": "7a888be5",
   "metadata": {},
   "outputs": [],
   "source": [
    "grades[\"Adrian\"] = 9"
   ]
  },
  {
   "cell_type": "code",
   "execution_count": 39,
   "id": "91d920a3",
   "metadata": {},
   "outputs": [
    {
     "data": {
      "text/plain": [
       "{'Carla': 8, 'Matias': 8, 'Adrian': 9, 'Salvador': 10}"
      ]
     },
     "execution_count": 39,
     "metadata": {},
     "output_type": "execute_result"
    }
   ],
   "source": [
    "grades"
   ]
  },
  {
   "cell_type": "code",
   "execution_count": 4,
   "id": "fc4b32de",
   "metadata": {},
   "outputs": [
    {
     "data": {
      "text/plain": [
       "[-4, -2, 1, 3]"
      ]
     },
     "execution_count": 4,
     "metadata": {},
     "output_type": "execute_result"
    }
   ],
   "source": [
    "x = [-4,1,-2,3]\n",
    "y = sorted(x)\n",
    "y"
   ]
  },
  {
   "cell_type": "code",
   "execution_count": 2,
   "id": "ae650469",
   "metadata": {},
   "outputs": [
    {
     "data": {
      "text/plain": [
       "[4, 1, 2, 3]"
      ]
     },
     "execution_count": 2,
     "metadata": {},
     "output_type": "execute_result"
    }
   ],
   "source": [
    "x"
   ]
  },
  {
   "cell_type": "code",
   "execution_count": 3,
   "id": "d9795ea0",
   "metadata": {},
   "outputs": [
    {
     "data": {
      "text/plain": [
       "[1, 2, 3, 4]"
      ]
     },
     "execution_count": 3,
     "metadata": {},
     "output_type": "execute_result"
    }
   ],
   "source": [
    "x.sort()\n",
    "x"
   ]
  },
  {
   "cell_type": "code",
   "execution_count": 7,
   "id": "1702cf67",
   "metadata": {},
   "outputs": [],
   "source": [
    "y = sorted(x,reverse=True)"
   ]
  },
  {
   "cell_type": "code",
   "execution_count": 8,
   "id": "f2d6c50d",
   "metadata": {},
   "outputs": [
    {
     "data": {
      "text/plain": [
       "[3, 1, -2, -4]"
      ]
     },
     "execution_count": 8,
     "metadata": {},
     "output_type": "execute_result"
    }
   ],
   "source": [
    "y"
   ]
  },
  {
   "cell_type": "markdown",
   "id": "216fd30a",
   "metadata": {},
   "source": [
    "# List comprehensions"
   ]
  },
  {
   "cell_type": "code",
   "execution_count": 13,
   "id": "fac124d2",
   "metadata": {},
   "outputs": [],
   "source": [
    "numeros_pares = [x for x in range(10) if x % 2 == 0]"
   ]
  },
  {
   "cell_type": "code",
   "execution_count": 14,
   "id": "d42e3b42",
   "metadata": {},
   "outputs": [
    {
     "data": {
      "text/plain": [
       "[0, 2, 4, 6, 8]"
      ]
     },
     "execution_count": 14,
     "metadata": {},
     "output_type": "execute_result"
    }
   ],
   "source": [
    "numeros_pares"
   ]
  },
  {
   "cell_type": "code",
   "execution_count": 10,
   "id": "3fe8ac23",
   "metadata": {},
   "outputs": [
    {
     "name": "stdout",
     "output_type": "stream",
     "text": [
      "0\n",
      "1\n",
      "2\n",
      "3\n",
      "4\n"
     ]
    }
   ],
   "source": [
    "for x in range(5):\n",
    "    print(x)"
   ]
  },
  {
   "cell_type": "code",
   "execution_count": 15,
   "id": "59ac15f1",
   "metadata": {},
   "outputs": [
    {
     "data": {
      "text/plain": [
       "[0, 1, 4, 9, 16, 25, 36, 49, 64, 81]"
      ]
     },
     "execution_count": 15,
     "metadata": {},
     "output_type": "execute_result"
    }
   ],
   "source": [
    "squares = [x*x for x in range(10)]\n",
    "squares"
   ]
  },
  {
   "cell_type": "code",
   "execution_count": 19,
   "id": "7c1ceaf4",
   "metadata": {},
   "outputs": [
    {
     "data": {
      "text/plain": [
       "{0: 0, 2: 4, 4: 16, 6: 36, 8: 64}"
      ]
     },
     "execution_count": 19,
     "metadata": {},
     "output_type": "execute_result"
    }
   ],
   "source": [
    "even_squares = {x: x * x for x in numeros_pares}\n",
    "even_squares"
   ]
  },
  {
   "cell_type": "code",
   "execution_count": 20,
   "id": "ce413ebe",
   "metadata": {},
   "outputs": [
    {
     "data": {
      "text/plain": [
       "[(0, 0), (0, 1), (1, 0), (1, 1)]"
      ]
     },
     "execution_count": 20,
     "metadata": {},
     "output_type": "execute_result"
    }
   ],
   "source": [
    "pairs = [(x,y) for x in range(2) for y in range(2)]\n",
    "pairs"
   ]
  },
  {
   "cell_type": "code",
   "execution_count": null,
   "id": "3bf59aa7",
   "metadata": {},
   "outputs": [],
   "source": []
  }
 ],
 "metadata": {
  "kernelspec": {
   "display_name": "Python 3 (ipykernel)",
   "language": "python",
   "name": "python3"
  },
  "language_info": {
   "codemirror_mode": {
    "name": "ipython",
    "version": 3
   },
   "file_extension": ".py",
   "mimetype": "text/x-python",
   "name": "python",
   "nbconvert_exporter": "python",
   "pygments_lexer": "ipython3",
   "version": "3.9.5"
  }
 },
 "nbformat": 4,
 "nbformat_minor": 5
}
