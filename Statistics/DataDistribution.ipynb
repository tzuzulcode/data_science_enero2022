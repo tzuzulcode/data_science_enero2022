{
 "cells": [
  {
   "cell_type": "markdown",
   "metadata": {
    "collapsed": true,
    "pycharm": {
     "name": "#%% md\n"
    }
   },
   "source": [
    "# Box plot"
   ]
  },
  {
   "cell_type": "code",
   "execution_count": 1,
   "outputs": [],
   "source": [
    "import pandas as pd\n",
    "import numpy as np"
   ],
   "metadata": {
    "collapsed": false,
    "pycharm": {
     "name": "#%%\n"
    }
   }
  },
  {
   "cell_type": "code",
   "execution_count": 3,
   "outputs": [
    {
     "data": {
      "text/plain": "   Number        State  Population  Murder rate Abbreviation\n0       1      Alabama     4779736          5.7           AL\n1       2       Alaska      710231          5.6           AK\n2       3      Arizona     6392017          4.7           AZ\n3       4     Arkansas     2915918          5.6           AR\n4       5   California    37253956          4.4           CA\n5       6     Colorado     5029196          2.8           CO\n6       7  Connecticut     3574097          2.4           CT\n7       8     Delaware      897934          5.8           DE",
      "text/html": "<div>\n<style scoped>\n    .dataframe tbody tr th:only-of-type {\n        vertical-align: middle;\n    }\n\n    .dataframe tbody tr th {\n        vertical-align: top;\n    }\n\n    .dataframe thead th {\n        text-align: right;\n    }\n</style>\n<table border=\"1\" class=\"dataframe\">\n  <thead>\n    <tr style=\"text-align: right;\">\n      <th></th>\n      <th>Number</th>\n      <th>State</th>\n      <th>Population</th>\n      <th>Murder rate</th>\n      <th>Abbreviation</th>\n    </tr>\n  </thead>\n  <tbody>\n    <tr>\n      <th>0</th>\n      <td>1</td>\n      <td>Alabama</td>\n      <td>4779736</td>\n      <td>5.7</td>\n      <td>AL</td>\n    </tr>\n    <tr>\n      <th>1</th>\n      <td>2</td>\n      <td>Alaska</td>\n      <td>710231</td>\n      <td>5.6</td>\n      <td>AK</td>\n    </tr>\n    <tr>\n      <th>2</th>\n      <td>3</td>\n      <td>Arizona</td>\n      <td>6392017</td>\n      <td>4.7</td>\n      <td>AZ</td>\n    </tr>\n    <tr>\n      <th>3</th>\n      <td>4</td>\n      <td>Arkansas</td>\n      <td>2915918</td>\n      <td>5.6</td>\n      <td>AR</td>\n    </tr>\n    <tr>\n      <th>4</th>\n      <td>5</td>\n      <td>California</td>\n      <td>37253956</td>\n      <td>4.4</td>\n      <td>CA</td>\n    </tr>\n    <tr>\n      <th>5</th>\n      <td>6</td>\n      <td>Colorado</td>\n      <td>5029196</td>\n      <td>2.8</td>\n      <td>CO</td>\n    </tr>\n    <tr>\n      <th>6</th>\n      <td>7</td>\n      <td>Connecticut</td>\n      <td>3574097</td>\n      <td>2.4</td>\n      <td>CT</td>\n    </tr>\n    <tr>\n      <th>7</th>\n      <td>8</td>\n      <td>Delaware</td>\n      <td>897934</td>\n      <td>5.8</td>\n      <td>DE</td>\n    </tr>\n  </tbody>\n</table>\n</div>"
     },
     "execution_count": 3,
     "metadata": {},
     "output_type": "execute_result"
    }
   ],
   "source": [
    "data = pd.read_csv(\"../datos.csv\")\n",
    "data"
   ],
   "metadata": {
    "collapsed": false,
    "pycharm": {
     "name": "#%%\n"
    }
   }
  },
  {
   "cell_type": "code",
   "execution_count": 5,
   "outputs": [
    {
     "data": {
      "text/plain": "0.05    2.540\n0.25    4.000\n0.50    5.150\n0.75    5.625\n0.95    5.765\nName: Murder rate, dtype: float64"
     },
     "execution_count": 5,
     "metadata": {},
     "output_type": "execute_result"
    }
   ],
   "source": [
    "data[\"Murder rate\"].quantile([0.05,0.25,0.5,0.75,0.95])"
   ],
   "metadata": {
    "collapsed": false,
    "pycharm": {
     "name": "#%%\n"
    }
   }
  },
  {
   "cell_type": "markdown",
   "source": [
    "Box plots introducidos por Tukey-1977, basados en percentiles\n",
    "- Linea en el medio de la caja es la mediana\n",
    "- La caja nos indica el rango entre el 25 percentil y el 75 percentil\n",
    "- Los whiskers indican los rangos entre el 5 percentil y el 95 percentil\n",
    "- Los outliers son los circulos fuera del plot\n",
    "- Los bigotes(whiskers) no pueden ir más alla¿á del 1.5 IQR"
   ],
   "metadata": {
    "collapsed": false,
    "pycharm": {
     "name": "#%% md\n"
    }
   }
  },
  {
   "cell_type": "code",
   "execution_count": 6,
   "outputs": [
    {
     "data": {
      "text/plain": "Text(0, 0.5, 'Population (millions)')"
     },
     "execution_count": 6,
     "metadata": {},
     "output_type": "execute_result"
    },
    {
     "data": {
      "text/plain": "<Figure size 432x288 with 1 Axes>",
      "image/png": "[encoded data removed]"
     },
     "metadata": {
      "needs_background": "light"
     },
     "output_type": "display_data"
    }
   ],
   "source": [
    "ax = (data[\"Population\"]/1_000_000).plot.box()\n",
    "ax.set_ylabel(\"Population (millions)\")"
   ],
   "metadata": {
    "collapsed": false,
    "pycharm": {
     "name": "#%%\n"
    }
   }
  },
  {
   "cell_type": "code",
   "execution_count": 8,
   "outputs": [
    {
     "data": {
      "text/plain": "0.05     0.775927\n0.25     2.411422\n0.50     4.176916\n0.75     5.369901\n0.95    26.452277\nName: Population, dtype: float64"
     },
     "execution_count": 8,
     "metadata": {},
     "output_type": "execute_result"
    }
   ],
   "source": [
    "data[\"Population\"].quantile([0.05,0.25,0.5,0.75,0.95])/1_000_000"
   ],
   "metadata": {
    "collapsed": false,
    "pycharm": {
     "name": "#%%\n"
    }
   }
  },
  {
   "cell_type": "markdown",
   "source": [
    "# Tablas de frecuencia e histogramas\n",
    "- Tabla de frecuencia: Divide el rango de la variable en segmentos igualmente espciados y nos dice cuántos valores caén en cada segmento\n",
    "- Un histograma es la forma de visualizar la información anterior"
   ],
   "metadata": {
    "collapsed": false,
    "pycharm": {
     "name": "#%% md\n"
    }
   }
  },
  {
   "cell_type": "code",
   "execution_count": 10,
   "outputs": [
    {
     "name": "stdout",
     "output_type": "stream",
     "text": [
      "0      (4364603.5, 8018976.0]\n",
      "1     (673687.275, 4364603.5]\n",
      "2      (4364603.5, 8018976.0]\n",
      "3     (673687.275, 4364603.5]\n",
      "4    (33599583.5, 37253956.0]\n",
      "5      (4364603.5, 8018976.0]\n",
      "6     (673687.275, 4364603.5]\n",
      "7     (673687.275, 4364603.5]\n",
      "Name: Population, dtype: category\n",
      "Categories (10, interval[float64, right]): [(673687.275, 4364603.5] < (4364603.5, 8018976.0] < (8018976.0, 11673348.5] < (11673348.5, 15327721.0] ... (22636466.0, 26290838.5] < (26290838.5, 29945211.0] < (29945211.0, 33599583.5] < (33599583.5, 37253956.0]]\n"
     ]
    },
    {
     "data": {
      "text/plain": "(673687.275, 4364603.5]     4\n(4364603.5, 8018976.0]      3\n(33599583.5, 37253956.0]    1\n(8018976.0, 11673348.5]     0\n(11673348.5, 15327721.0]    0\n(15327721.0, 18982093.5]    0\n(18982093.5, 22636466.0]    0\n(22636466.0, 26290838.5]    0\n(26290838.5, 29945211.0]    0\n(29945211.0, 33599583.5]    0\nName: Population, dtype: int64"
     },
     "execution_count": 10,
     "metadata": {},
     "output_type": "execute_result"
    }
   ],
   "source": [
    "# Tabla de frecuencia\n",
    "binnedPopulation = pd.cut(data[\"Population\"],10)\n",
    "print(binnedPopulation)\n",
    "\n",
    "binnedPopulation.value_counts()"
   ],
   "metadata": {
    "collapsed": false,
    "pycharm": {
     "name": "#%%\n"
    }
   }
  },
  {
   "cell_type": "code",
   "execution_count": 14,
   "outputs": [
    {
     "data": {
      "text/plain": "Text(0.5, 0, 'Population (millions')"
     },
     "execution_count": 14,
     "metadata": {},
     "output_type": "execute_result"
    },
    {
     "data": {
      "text/plain": "<Figure size 576x576 with 1 Axes>",
      "image/png": "[encoded data removed]"
     },
     "metadata": {
      "needs_background": "light"
     },
     "output_type": "display_data"
    }
   ],
   "source": [
    "ax = (data[\"Population\"]/1_000_000).plot.hist(figsize=(8,8))\n",
    "ax.set_xlabel(\"Population (millions\")"
   ],
   "metadata": {
    "collapsed": false,
    "pycharm": {
     "name": "#%%\n"
    }
   }
  },
  {
   "cell_type": "code",
   "execution_count": null,
   "outputs": [],
   "source": [],
   "metadata": {
    "collapsed": false,
    "pycharm": {
     "name": "#%%\n"
    }
   }
  }
 ],
 "metadata": {
  "kernelspec": {
   "display_name": "Python 3",
   "language": "python",
   "name": "python3"
  },
  "language_info": {
   "codemirror_mode": {
    "name": "ipython",
    "version": 2
   },
   "file_extension": ".py",
   "mimetype": "text/x-python",
   "name": "python",
   "nbconvert_exporter": "python",
   "pygments_lexer": "ipython2",
   "version": "2.7.6"
  }
 },
 "nbformat": 4,
 "nbformat_minor": 0
}