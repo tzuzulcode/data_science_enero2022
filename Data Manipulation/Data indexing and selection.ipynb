{
 "cells": [
  {
   "cell_type": "code",
   "execution_count": 50,
   "metadata": {
    "collapsed": true
   },
   "outputs": [],
   "source": [
    "import pandas as pd\n",
    "import numpy as np"
   ]
  },
  {
   "cell_type": "code",
   "execution_count": 3,
   "outputs": [],
   "source": [
    "data = pd.Series([0.25,0.5,0.75,1],index=['a','b','c','d'])"
   ],
   "metadata": {
    "collapsed": false,
    "pycharm": {
     "name": "#%%\n"
    }
   }
  },
  {
   "cell_type": "code",
   "execution_count": 4,
   "outputs": [
    {
     "data": {
      "text/plain": "0.5"
     },
     "execution_count": 4,
     "metadata": {},
     "output_type": "execute_result"
    }
   ],
   "source": [
    "data['b']"
   ],
   "metadata": {
    "collapsed": false,
    "pycharm": {
     "name": "#%%\n"
    }
   }
  },
  {
   "cell_type": "code",
   "execution_count": 5,
   "outputs": [
    {
     "data": {
      "text/plain": "True"
     },
     "execution_count": 5,
     "metadata": {},
     "output_type": "execute_result"
    }
   ],
   "source": [
    "'a' in data"
   ],
   "metadata": {
    "collapsed": false,
    "pycharm": {
     "name": "#%%\n"
    }
   }
  },
  {
   "cell_type": "code",
   "execution_count": 6,
   "outputs": [
    {
     "data": {
      "text/plain": "Index(['a', 'b', 'c', 'd'], dtype='object')"
     },
     "execution_count": 6,
     "metadata": {},
     "output_type": "execute_result"
    }
   ],
   "source": [
    "data.keys()"
   ],
   "metadata": {
    "collapsed": false,
    "pycharm": {
     "name": "#%%\n"
    }
   }
  },
  {
   "cell_type": "code",
   "execution_count": 7,
   "outputs": [
    {
     "data": {
      "text/plain": "[('a', 0.25), ('b', 0.5), ('c', 0.75), ('d', 1.0)]"
     },
     "execution_count": 7,
     "metadata": {},
     "output_type": "execute_result"
    }
   ],
   "source": [
    "list(data.items())"
   ],
   "metadata": {
    "collapsed": false,
    "pycharm": {
     "name": "#%%\n"
    }
   }
  },
  {
   "cell_type": "code",
   "execution_count": 8,
   "outputs": [],
   "source": [
    "data['e'] = 1.25"
   ],
   "metadata": {
    "collapsed": false,
    "pycharm": {
     "name": "#%%\n"
    }
   }
  },
  {
   "cell_type": "code",
   "execution_count": 9,
   "outputs": [
    {
     "data": {
      "text/plain": "a    0.25\nb    0.50\nc    0.75\nd    1.00\ne    1.25\ndtype: float64"
     },
     "execution_count": 9,
     "metadata": {},
     "output_type": "execute_result"
    }
   ],
   "source": [
    "data"
   ],
   "metadata": {
    "collapsed": false,
    "pycharm": {
     "name": "#%%\n"
    }
   }
  },
  {
   "cell_type": "code",
   "execution_count": 10,
   "outputs": [
    {
     "data": {
      "text/plain": "a    0.25\nb    0.50\nc    0.75\ndtype: float64"
     },
     "execution_count": 10,
     "metadata": {},
     "output_type": "execute_result"
    }
   ],
   "source": [
    "data['a':'c']"
   ],
   "metadata": {
    "collapsed": false,
    "pycharm": {
     "name": "#%%\n"
    }
   }
  },
  {
   "cell_type": "code",
   "execution_count": 11,
   "outputs": [
    {
     "data": {
      "text/plain": "a    0.25\nb    0.50\ndtype: float64"
     },
     "execution_count": 11,
     "metadata": {},
     "output_type": "execute_result"
    }
   ],
   "source": [
    "data[0:2]"
   ],
   "metadata": {
    "collapsed": false,
    "pycharm": {
     "name": "#%%\n"
    }
   }
  },
  {
   "cell_type": "code",
   "execution_count": 14,
   "outputs": [
    {
     "data": {
      "text/plain": "b    0.50\nc    0.75\ndtype: float64"
     },
     "execution_count": 14,
     "metadata": {},
     "output_type": "execute_result"
    }
   ],
   "source": [
    "data[(data>0.3) & (data<0.8)]"
   ],
   "metadata": {
    "collapsed": false,
    "pycharm": {
     "name": "#%%\n"
    }
   }
  },
  {
   "cell_type": "markdown",
   "source": [
    "# Seleccion de datos en DataFrames"
   ],
   "metadata": {
    "collapsed": false,
    "pycharm": {
     "name": "#%% md\n"
    }
   }
  },
  {
   "cell_type": "code",
   "execution_count": 15,
   "outputs": [],
   "source": [
    "data_frame = pd.read_csv('../dataset/covid-variants.csv')"
   ],
   "metadata": {
    "collapsed": false,
    "pycharm": {
     "name": "#%%\n"
    }
   }
  },
  {
   "cell_type": "code",
   "execution_count": 16,
   "outputs": [
    {
     "data": {
      "text/plain": "        location        date         variant  num_sequences  perc_sequences  \\\n0         Angola  2020-07-06           Alpha              0             0.0   \n1         Angola  2020-07-06       B.1.1.277              0             0.0   \n2         Angola  2020-07-06       B.1.1.302              0             0.0   \n3         Angola  2020-07-06       B.1.1.519              0             0.0   \n4         Angola  2020-07-06         B.1.160              0             0.0   \n...          ...         ...             ...            ...             ...   \n100411  Zimbabwe  2021-11-01         Omicron              0             0.0   \n100412  Zimbabwe  2021-11-01   S:677H.Robin1              0             0.0   \n100413  Zimbabwe  2021-11-01  S:677P.Pelican              0             0.0   \n100414  Zimbabwe  2021-11-01          others              0             0.0   \n100415  Zimbabwe  2021-11-01         non_who              0             0.0   \n\n        num_sequences_total  \n0                         3  \n1                         3  \n2                         3  \n3                         3  \n4                         3  \n...                     ...  \n100411                    6  \n100412                    6  \n100413                    6  \n100414                    6  \n100415                    6  \n\n[100416 rows x 6 columns]",
      "text/html": "<div>\n<style scoped>\n    .dataframe tbody tr th:only-of-type {\n        vertical-align: middle;\n    }\n\n    .dataframe tbody tr th {\n        vertical-align: top;\n    }\n\n    .dataframe thead th {\n        text-align: right;\n    }\n</style>\n<table border=\"1\" class=\"dataframe\">\n  <thead>\n    <tr style=\"text-align: right;\">\n      <th></th>\n      <th>location</th>\n      <th>date</th>\n      <th>variant</th>\n      <th>num_sequences</th>\n      <th>perc_sequences</th>\n      <th>num_sequences_total</th>\n    </tr>\n  </thead>\n  <tbody>\n    <tr>\n      <th>0</th>\n      <td>Angola</td>\n      <td>2020-07-06</td>\n      <td>Alpha</td>\n      <td>0</td>\n      <td>0.0</td>\n      <td>3</td>\n    </tr>\n    <tr>\n      <th>1</th>\n      <td>Angola</td>\n      <td>2020-07-06</td>\n      <td>B.1.1.277</td>\n      <td>0</td>\n      <td>0.0</td>\n      <td>3</td>\n    </tr>\n    <tr>\n      <th>2</th>\n      <td>Angola</td>\n      <td>2020-07-06</td>\n      <td>B.1.1.302</td>\n      <td>0</td>\n      <td>0.0</td>\n      <td>3</td>\n    </tr>\n    <tr>\n      <th>3</th>\n      <td>Angola</td>\n      <td>2020-07-06</td>\n      <td>B.1.1.519</td>\n      <td>0</td>\n      <td>0.0</td>\n      <td>3</td>\n    </tr>\n    <tr>\n      <th>4</th>\n      <td>Angola</td>\n      <td>2020-07-06</td>\n      <td>B.1.160</td>\n      <td>0</td>\n      <td>0.0</td>\n      <td>3</td>\n    </tr>\n    <tr>\n      <th>...</th>\n      <td>...</td>\n      <td>...</td>\n      <td>...</td>\n      <td>...</td>\n      <td>...</td>\n      <td>...</td>\n    </tr>\n    <tr>\n      <th>100411</th>\n      <td>Zimbabwe</td>\n      <td>2021-11-01</td>\n      <td>Omicron</td>\n      <td>0</td>\n      <td>0.0</td>\n      <td>6</td>\n    </tr>\n    <tr>\n      <th>100412</th>\n      <td>Zimbabwe</td>\n      <td>2021-11-01</td>\n      <td>S:677H.Robin1</td>\n      <td>0</td>\n      <td>0.0</td>\n      <td>6</td>\n    </tr>\n    <tr>\n      <th>100413</th>\n      <td>Zimbabwe</td>\n      <td>2021-11-01</td>\n      <td>S:677P.Pelican</td>\n      <td>0</td>\n      <td>0.0</td>\n      <td>6</td>\n    </tr>\n    <tr>\n      <th>100414</th>\n      <td>Zimbabwe</td>\n      <td>2021-11-01</td>\n      <td>others</td>\n      <td>0</td>\n      <td>0.0</td>\n      <td>6</td>\n    </tr>\n    <tr>\n      <th>100415</th>\n      <td>Zimbabwe</td>\n      <td>2021-11-01</td>\n      <td>non_who</td>\n      <td>0</td>\n      <td>0.0</td>\n      <td>6</td>\n    </tr>\n  </tbody>\n</table>\n<p>100416 rows × 6 columns</p>\n</div>"
     },
     "execution_count": 16,
     "metadata": {},
     "output_type": "execute_result"
    }
   ],
   "source": [
    "data_frame"
   ],
   "metadata": {
    "collapsed": false,
    "pycharm": {
     "name": "#%%\n"
    }
   }
  },
  {
   "cell_type": "code",
   "execution_count": 17,
   "outputs": [
    {
     "data": {
      "text/plain": "0                  Alpha\n1              B.1.1.277\n2              B.1.1.302\n3              B.1.1.519\n4                B.1.160\n               ...      \n100411           Omicron\n100412     S:677H.Robin1\n100413    S:677P.Pelican\n100414            others\n100415           non_who\nName: variant, Length: 100416, dtype: object"
     },
     "execution_count": 17,
     "metadata": {},
     "output_type": "execute_result"
    }
   ],
   "source": [
    "data_frame['variant']"
   ],
   "metadata": {
    "collapsed": false,
    "pycharm": {
     "name": "#%%\n"
    }
   }
  },
  {
   "cell_type": "code",
   "execution_count": 18,
   "outputs": [
    {
     "data": {
      "text/plain": "0                  Alpha\n1              B.1.1.277\n2              B.1.1.302\n3              B.1.1.519\n4                B.1.160\n               ...      \n100411           Omicron\n100412     S:677H.Robin1\n100413    S:677P.Pelican\n100414            others\n100415           non_who\nName: variant, Length: 100416, dtype: object"
     },
     "execution_count": 18,
     "metadata": {},
     "output_type": "execute_result"
    }
   ],
   "source": [
    "data_frame.variant"
   ],
   "metadata": {
    "collapsed": false,
    "pycharm": {
     "name": "#%%\n"
    }
   }
  },
  {
   "cell_type": "code",
   "execution_count": 19,
   "outputs": [],
   "source": [
    "data_frame['percentage'] = (data_frame['num_sequences'] / data_frame['num_sequences_total']) * 100"
   ],
   "metadata": {
    "collapsed": false,
    "pycharm": {
     "name": "#%%\n"
    }
   }
  },
  {
   "cell_type": "code",
   "execution_count": 20,
   "outputs": [
    {
     "data": {
      "text/plain": "        location        date         variant  num_sequences  perc_sequences  \\\n0         Angola  2020-07-06           Alpha              0             0.0   \n1         Angola  2020-07-06       B.1.1.277              0             0.0   \n2         Angola  2020-07-06       B.1.1.302              0             0.0   \n3         Angola  2020-07-06       B.1.1.519              0             0.0   \n4         Angola  2020-07-06         B.1.160              0             0.0   \n...          ...         ...             ...            ...             ...   \n100411  Zimbabwe  2021-11-01         Omicron              0             0.0   \n100412  Zimbabwe  2021-11-01   S:677H.Robin1              0             0.0   \n100413  Zimbabwe  2021-11-01  S:677P.Pelican              0             0.0   \n100414  Zimbabwe  2021-11-01          others              0             0.0   \n100415  Zimbabwe  2021-11-01         non_who              0             0.0   \n\n        num_sequences_total  percentage  \n0                         3         0.0  \n1                         3         0.0  \n2                         3         0.0  \n3                         3         0.0  \n4                         3         0.0  \n...                     ...         ...  \n100411                    6         0.0  \n100412                    6         0.0  \n100413                    6         0.0  \n100414                    6         0.0  \n100415                    6         0.0  \n\n[100416 rows x 7 columns]",
      "text/html": "<div>\n<style scoped>\n    .dataframe tbody tr th:only-of-type {\n        vertical-align: middle;\n    }\n\n    .dataframe tbody tr th {\n        vertical-align: top;\n    }\n\n    .dataframe thead th {\n        text-align: right;\n    }\n</style>\n<table border=\"1\" class=\"dataframe\">\n  <thead>\n    <tr style=\"text-align: right;\">\n      <th></th>\n      <th>location</th>\n      <th>date</th>\n      <th>variant</th>\n      <th>num_sequences</th>\n      <th>perc_sequences</th>\n      <th>num_sequences_total</th>\n      <th>percentage</th>\n    </tr>\n  </thead>\n  <tbody>\n    <tr>\n      <th>0</th>\n      <td>Angola</td>\n      <td>2020-07-06</td>\n      <td>Alpha</td>\n      <td>0</td>\n      <td>0.0</td>\n      <td>3</td>\n      <td>0.0</td>\n    </tr>\n    <tr>\n      <th>1</th>\n      <td>Angola</td>\n      <td>2020-07-06</td>\n      <td>B.1.1.277</td>\n      <td>0</td>\n      <td>0.0</td>\n      <td>3</td>\n      <td>0.0</td>\n    </tr>\n    <tr>\n      <th>2</th>\n      <td>Angola</td>\n      <td>2020-07-06</td>\n      <td>B.1.1.302</td>\n      <td>0</td>\n      <td>0.0</td>\n      <td>3</td>\n      <td>0.0</td>\n    </tr>\n    <tr>\n      <th>3</th>\n      <td>Angola</td>\n      <td>2020-07-06</td>\n      <td>B.1.1.519</td>\n      <td>0</td>\n      <td>0.0</td>\n      <td>3</td>\n      <td>0.0</td>\n    </tr>\n    <tr>\n      <th>4</th>\n      <td>Angola</td>\n      <td>2020-07-06</td>\n      <td>B.1.160</td>\n      <td>0</td>\n      <td>0.0</td>\n      <td>3</td>\n      <td>0.0</td>\n    </tr>\n    <tr>\n      <th>...</th>\n      <td>...</td>\n      <td>...</td>\n      <td>...</td>\n      <td>...</td>\n      <td>...</td>\n      <td>...</td>\n      <td>...</td>\n    </tr>\n    <tr>\n      <th>100411</th>\n      <td>Zimbabwe</td>\n      <td>2021-11-01</td>\n      <td>Omicron</td>\n      <td>0</td>\n      <td>0.0</td>\n      <td>6</td>\n      <td>0.0</td>\n    </tr>\n    <tr>\n      <th>100412</th>\n      <td>Zimbabwe</td>\n      <td>2021-11-01</td>\n      <td>S:677H.Robin1</td>\n      <td>0</td>\n      <td>0.0</td>\n      <td>6</td>\n      <td>0.0</td>\n    </tr>\n    <tr>\n      <th>100413</th>\n      <td>Zimbabwe</td>\n      <td>2021-11-01</td>\n      <td>S:677P.Pelican</td>\n      <td>0</td>\n      <td>0.0</td>\n      <td>6</td>\n      <td>0.0</td>\n    </tr>\n    <tr>\n      <th>100414</th>\n      <td>Zimbabwe</td>\n      <td>2021-11-01</td>\n      <td>others</td>\n      <td>0</td>\n      <td>0.0</td>\n      <td>6</td>\n      <td>0.0</td>\n    </tr>\n    <tr>\n      <th>100415</th>\n      <td>Zimbabwe</td>\n      <td>2021-11-01</td>\n      <td>non_who</td>\n      <td>0</td>\n      <td>0.0</td>\n      <td>6</td>\n      <td>0.0</td>\n    </tr>\n  </tbody>\n</table>\n<p>100416 rows × 7 columns</p>\n</div>"
     },
     "execution_count": 20,
     "metadata": {},
     "output_type": "execute_result"
    }
   ],
   "source": [
    "data_frame"
   ],
   "metadata": {
    "collapsed": false,
    "pycharm": {
     "name": "#%%\n"
    }
   }
  },
  {
   "cell_type": "code",
   "execution_count": 21,
   "outputs": [
    {
     "data": {
      "text/plain": "array([['Angola', '2020-07-06', 'Alpha', ..., 0.0, 3, 0.0],\n       ['Angola', '2020-07-06', 'B.1.1.277', ..., 0.0, 3, 0.0],\n       ['Angola', '2020-07-06', 'B.1.1.302', ..., 0.0, 3, 0.0],\n       ...,\n       ['Zimbabwe', '2021-11-01', 'S:677P.Pelican', ..., 0.0, 6, 0.0],\n       ['Zimbabwe', '2021-11-01', 'others', ..., 0.0, 6, 0.0],\n       ['Zimbabwe', '2021-11-01', 'non_who', ..., 0.0, 6, 0.0]],\n      dtype=object)"
     },
     "execution_count": 21,
     "metadata": {},
     "output_type": "execute_result"
    }
   ],
   "source": [
    "data_frame.values"
   ],
   "metadata": {
    "collapsed": false,
    "pycharm": {
     "name": "#%%\n"
    }
   }
  },
  {
   "cell_type": "code",
   "execution_count": 22,
   "outputs": [
    {
     "data": {
      "text/plain": "                         0           1           2           3       \\\nlocation                 Angola      Angola      Angola      Angola   \ndate                 2020-07-06  2020-07-06  2020-07-06  2020-07-06   \nvariant                   Alpha   B.1.1.277   B.1.1.302   B.1.1.519   \nnum_sequences                 0           0           0           0   \nperc_sequences              0.0         0.0         0.0         0.0   \nnum_sequences_total           3           3           3           3   \npercentage                  0.0         0.0         0.0         0.0   \n\n                         4           5           6           7       \\\nlocation                 Angola      Angola      Angola      Angola   \ndate                 2020-07-06  2020-07-06  2020-07-06  2020-07-06   \nvariant                 B.1.160     B.1.177     B.1.221     B.1.258   \nnum_sequences                 0           0           0           0   \nperc_sequences              0.0         0.0         0.0         0.0   \nnum_sequences_total           3           3           3           3   \npercentage                  0.0         0.0         0.0         0.0   \n\n                         8           9       ...      100406      100407  \\\nlocation                 Angola      Angola  ...    Zimbabwe    Zimbabwe   \ndate                 2020-07-06  2020-07-06  ...  2021-11-01  2021-11-01   \nvariant                 B.1.367     B.1.620  ...       Gamma        Iota   \nnum_sequences                 0           0  ...           0           0   \nperc_sequences              0.0         0.0  ...         0.0         0.0   \nnum_sequences_total           3           3  ...           6           6   \npercentage                  0.0         0.0  ...         0.0         0.0   \n\n                         100408      100409      100410      100411  \\\nlocation               Zimbabwe    Zimbabwe    Zimbabwe    Zimbabwe   \ndate                 2021-11-01  2021-11-01  2021-11-01  2021-11-01   \nvariant                   Kappa      Lambda          Mu     Omicron   \nnum_sequences                 0           0           0           0   \nperc_sequences              0.0         0.0         0.0         0.0   \nnum_sequences_total           6           6           6           6   \npercentage                  0.0         0.0         0.0         0.0   \n\n                            100412          100413      100414      100415  \nlocation                  Zimbabwe        Zimbabwe    Zimbabwe    Zimbabwe  \ndate                    2021-11-01      2021-11-01  2021-11-01  2021-11-01  \nvariant              S:677H.Robin1  S:677P.Pelican      others     non_who  \nnum_sequences                    0               0           0           0  \nperc_sequences                 0.0             0.0         0.0         0.0  \nnum_sequences_total              6               6           6           6  \npercentage                     0.0             0.0         0.0         0.0  \n\n[7 rows x 100416 columns]",
      "text/html": "<div>\n<style scoped>\n    .dataframe tbody tr th:only-of-type {\n        vertical-align: middle;\n    }\n\n    .dataframe tbody tr th {\n        vertical-align: top;\n    }\n\n    .dataframe thead th {\n        text-align: right;\n    }\n</style>\n<table border=\"1\" class=\"dataframe\">\n  <thead>\n    <tr style=\"text-align: right;\">\n      <th></th>\n      <th>0</th>\n      <th>1</th>\n      <th>2</th>\n      <th>3</th>\n      <th>4</th>\n      <th>5</th>\n      <th>6</th>\n      <th>7</th>\n      <th>8</th>\n      <th>9</th>\n      <th>...</th>\n      <th>100406</th>\n      <th>100407</th>\n      <th>100408</th>\n      <th>100409</th>\n      <th>100410</th>\n      <th>100411</th>\n      <th>100412</th>\n      <th>100413</th>\n      <th>100414</th>\n      <th>100415</th>\n    </tr>\n  </thead>\n  <tbody>\n    <tr>\n      <th>location</th>\n      <td>Angola</td>\n      <td>Angola</td>\n      <td>Angola</td>\n      <td>Angola</td>\n      <td>Angola</td>\n      <td>Angola</td>\n      <td>Angola</td>\n      <td>Angola</td>\n      <td>Angola</td>\n      <td>Angola</td>\n      <td>...</td>\n      <td>Zimbabwe</td>\n      <td>Zimbabwe</td>\n      <td>Zimbabwe</td>\n      <td>Zimbabwe</td>\n      <td>Zimbabwe</td>\n      <td>Zimbabwe</td>\n      <td>Zimbabwe</td>\n      <td>Zimbabwe</td>\n      <td>Zimbabwe</td>\n      <td>Zimbabwe</td>\n    </tr>\n    <tr>\n      <th>date</th>\n      <td>2020-07-06</td>\n      <td>2020-07-06</td>\n      <td>2020-07-06</td>\n      <td>2020-07-06</td>\n      <td>2020-07-06</td>\n      <td>2020-07-06</td>\n      <td>2020-07-06</td>\n      <td>2020-07-06</td>\n      <td>2020-07-06</td>\n      <td>2020-07-06</td>\n      <td>...</td>\n      <td>2021-11-01</td>\n      <td>2021-11-01</td>\n      <td>2021-11-01</td>\n      <td>2021-11-01</td>\n      <td>2021-11-01</td>\n      <td>2021-11-01</td>\n      <td>2021-11-01</td>\n      <td>2021-11-01</td>\n      <td>2021-11-01</td>\n      <td>2021-11-01</td>\n    </tr>\n    <tr>\n      <th>variant</th>\n      <td>Alpha</td>\n      <td>B.1.1.277</td>\n      <td>B.1.1.302</td>\n      <td>B.1.1.519</td>\n      <td>B.1.160</td>\n      <td>B.1.177</td>\n      <td>B.1.221</td>\n      <td>B.1.258</td>\n      <td>B.1.367</td>\n      <td>B.1.620</td>\n      <td>...</td>\n      <td>Gamma</td>\n      <td>Iota</td>\n      <td>Kappa</td>\n      <td>Lambda</td>\n      <td>Mu</td>\n      <td>Omicron</td>\n      <td>S:677H.Robin1</td>\n      <td>S:677P.Pelican</td>\n      <td>others</td>\n      <td>non_who</td>\n    </tr>\n    <tr>\n      <th>num_sequences</th>\n      <td>0</td>\n      <td>0</td>\n      <td>0</td>\n      <td>0</td>\n      <td>0</td>\n      <td>0</td>\n      <td>0</td>\n      <td>0</td>\n      <td>0</td>\n      <td>0</td>\n      <td>...</td>\n      <td>0</td>\n      <td>0</td>\n      <td>0</td>\n      <td>0</td>\n      <td>0</td>\n      <td>0</td>\n      <td>0</td>\n      <td>0</td>\n      <td>0</td>\n      <td>0</td>\n    </tr>\n    <tr>\n      <th>perc_sequences</th>\n      <td>0.0</td>\n      <td>0.0</td>\n      <td>0.0</td>\n      <td>0.0</td>\n      <td>0.0</td>\n      <td>0.0</td>\n      <td>0.0</td>\n      <td>0.0</td>\n      <td>0.0</td>\n      <td>0.0</td>\n      <td>...</td>\n      <td>0.0</td>\n      <td>0.0</td>\n      <td>0.0</td>\n      <td>0.0</td>\n      <td>0.0</td>\n      <td>0.0</td>\n      <td>0.0</td>\n      <td>0.0</td>\n      <td>0.0</td>\n      <td>0.0</td>\n    </tr>\n    <tr>\n      <th>num_sequences_total</th>\n      <td>3</td>\n      <td>3</td>\n      <td>3</td>\n      <td>3</td>\n      <td>3</td>\n      <td>3</td>\n      <td>3</td>\n      <td>3</td>\n      <td>3</td>\n      <td>3</td>\n      <td>...</td>\n      <td>6</td>\n      <td>6</td>\n      <td>6</td>\n      <td>6</td>\n      <td>6</td>\n      <td>6</td>\n      <td>6</td>\n      <td>6</td>\n      <td>6</td>\n      <td>6</td>\n    </tr>\n    <tr>\n      <th>percentage</th>\n      <td>0.0</td>\n      <td>0.0</td>\n      <td>0.0</td>\n      <td>0.0</td>\n      <td>0.0</td>\n      <td>0.0</td>\n      <td>0.0</td>\n      <td>0.0</td>\n      <td>0.0</td>\n      <td>0.0</td>\n      <td>...</td>\n      <td>0.0</td>\n      <td>0.0</td>\n      <td>0.0</td>\n      <td>0.0</td>\n      <td>0.0</td>\n      <td>0.0</td>\n      <td>0.0</td>\n      <td>0.0</td>\n      <td>0.0</td>\n      <td>0.0</td>\n    </tr>\n  </tbody>\n</table>\n<p>7 rows × 100416 columns</p>\n</div>"
     },
     "execution_count": 22,
     "metadata": {},
     "output_type": "execute_result"
    }
   ],
   "source": [
    "data_frame.T"
   ],
   "metadata": {
    "collapsed": false,
    "pycharm": {
     "name": "#%%\n"
    }
   }
  },
  {
   "cell_type": "code",
   "execution_count": 36,
   "outputs": [
    {
     "data": {
      "text/plain": "      variant  num_sequences  perc_sequences  num_sequences_total  percentage\n0       Alpha              0             0.0                    3         0.0\n1   B.1.1.277              0             0.0                    3         0.0\n2   B.1.1.302              0             0.0                    3         0.0\n3   B.1.1.519              0             0.0                    3         0.0\n4     B.1.160              0             0.0                    3         0.0\n5     B.1.177              0             0.0                    3         0.0\n6     B.1.221              0             0.0                    3         0.0\n7     B.1.258              0             0.0                    3         0.0\n8     B.1.367              0             0.0                    3         0.0\n9     B.1.620              0             0.0                    3         0.0\n10       Beta              0             0.0                    3         0.0",
      "text/html": "<div>\n<style scoped>\n    .dataframe tbody tr th:only-of-type {\n        vertical-align: middle;\n    }\n\n    .dataframe tbody tr th {\n        vertical-align: top;\n    }\n\n    .dataframe thead th {\n        text-align: right;\n    }\n</style>\n<table border=\"1\" class=\"dataframe\">\n  <thead>\n    <tr style=\"text-align: right;\">\n      <th></th>\n      <th>variant</th>\n      <th>num_sequences</th>\n      <th>perc_sequences</th>\n      <th>num_sequences_total</th>\n      <th>percentage</th>\n    </tr>\n  </thead>\n  <tbody>\n    <tr>\n      <th>0</th>\n      <td>Alpha</td>\n      <td>0</td>\n      <td>0.0</td>\n      <td>3</td>\n      <td>0.0</td>\n    </tr>\n    <tr>\n      <th>1</th>\n      <td>B.1.1.277</td>\n      <td>0</td>\n      <td>0.0</td>\n      <td>3</td>\n      <td>0.0</td>\n    </tr>\n    <tr>\n      <th>2</th>\n      <td>B.1.1.302</td>\n      <td>0</td>\n      <td>0.0</td>\n      <td>3</td>\n      <td>0.0</td>\n    </tr>\n    <tr>\n      <th>3</th>\n      <td>B.1.1.519</td>\n      <td>0</td>\n      <td>0.0</td>\n      <td>3</td>\n      <td>0.0</td>\n    </tr>\n    <tr>\n      <th>4</th>\n      <td>B.1.160</td>\n      <td>0</td>\n      <td>0.0</td>\n      <td>3</td>\n      <td>0.0</td>\n    </tr>\n    <tr>\n      <th>5</th>\n      <td>B.1.177</td>\n      <td>0</td>\n      <td>0.0</td>\n      <td>3</td>\n      <td>0.0</td>\n    </tr>\n    <tr>\n      <th>6</th>\n      <td>B.1.221</td>\n      <td>0</td>\n      <td>0.0</td>\n      <td>3</td>\n      <td>0.0</td>\n    </tr>\n    <tr>\n      <th>7</th>\n      <td>B.1.258</td>\n      <td>0</td>\n      <td>0.0</td>\n      <td>3</td>\n      <td>0.0</td>\n    </tr>\n    <tr>\n      <th>8</th>\n      <td>B.1.367</td>\n      <td>0</td>\n      <td>0.0</td>\n      <td>3</td>\n      <td>0.0</td>\n    </tr>\n    <tr>\n      <th>9</th>\n      <td>B.1.620</td>\n      <td>0</td>\n      <td>0.0</td>\n      <td>3</td>\n      <td>0.0</td>\n    </tr>\n    <tr>\n      <th>10</th>\n      <td>Beta</td>\n      <td>0</td>\n      <td>0.0</td>\n      <td>3</td>\n      <td>0.0</td>\n    </tr>\n  </tbody>\n</table>\n</div>"
     },
     "execution_count": 36,
     "metadata": {},
     "output_type": "execute_result"
    }
   ],
   "source": [
    "data_frame.loc[0:10,'variant':]"
   ],
   "metadata": {
    "collapsed": false,
    "pycharm": {
     "name": "#%%\n"
    }
   }
  },
  {
   "cell_type": "code",
   "execution_count": 40,
   "outputs": [
    {
     "data": {
      "text/plain": "        location        date         variant  num_sequences  perc_sequences  \\\n2         Angola  2020-07-06       B.1.1.302              0             0.0   \n3         Angola  2020-07-06       B.1.1.519              0             0.0   \n4         Angola  2020-07-06         B.1.160              0             0.0   \n5         Angola  2020-07-06         B.1.177              0             0.0   \n6         Angola  2020-07-06         B.1.221              0             0.0   \n...          ...         ...             ...            ...             ...   \n100411  Zimbabwe  2021-11-01         Omicron              0             0.0   \n100412  Zimbabwe  2021-11-01   S:677H.Robin1              0             0.0   \n100413  Zimbabwe  2021-11-01  S:677P.Pelican              0             0.0   \n100414  Zimbabwe  2021-11-01          others              0             0.0   \n100415  Zimbabwe  2021-11-01         non_who              0             0.0   \n\n        num_sequences_total  percentage  \n2                         3         0.0  \n3                         3         0.0  \n4                         3         0.0  \n5                         3         0.0  \n6                         3         0.0  \n...                     ...         ...  \n100411                    6         0.0  \n100412                    6         0.0  \n100413                    6         0.0  \n100414                    6         0.0  \n100415                    6         0.0  \n\n[100414 rows x 7 columns]",
      "text/html": "<div>\n<style scoped>\n    .dataframe tbody tr th:only-of-type {\n        vertical-align: middle;\n    }\n\n    .dataframe tbody tr th {\n        vertical-align: top;\n    }\n\n    .dataframe thead th {\n        text-align: right;\n    }\n</style>\n<table border=\"1\" class=\"dataframe\">\n  <thead>\n    <tr style=\"text-align: right;\">\n      <th></th>\n      <th>location</th>\n      <th>date</th>\n      <th>variant</th>\n      <th>num_sequences</th>\n      <th>perc_sequences</th>\n      <th>num_sequences_total</th>\n      <th>percentage</th>\n    </tr>\n  </thead>\n  <tbody>\n    <tr>\n      <th>2</th>\n      <td>Angola</td>\n      <td>2020-07-06</td>\n      <td>B.1.1.302</td>\n      <td>0</td>\n      <td>0.0</td>\n      <td>3</td>\n      <td>0.0</td>\n    </tr>\n    <tr>\n      <th>3</th>\n      <td>Angola</td>\n      <td>2020-07-06</td>\n      <td>B.1.1.519</td>\n      <td>0</td>\n      <td>0.0</td>\n      <td>3</td>\n      <td>0.0</td>\n    </tr>\n    <tr>\n      <th>4</th>\n      <td>Angola</td>\n      <td>2020-07-06</td>\n      <td>B.1.160</td>\n      <td>0</td>\n      <td>0.0</td>\n      <td>3</td>\n      <td>0.0</td>\n    </tr>\n    <tr>\n      <th>5</th>\n      <td>Angola</td>\n      <td>2020-07-06</td>\n      <td>B.1.177</td>\n      <td>0</td>\n      <td>0.0</td>\n      <td>3</td>\n      <td>0.0</td>\n    </tr>\n    <tr>\n      <th>6</th>\n      <td>Angola</td>\n      <td>2020-07-06</td>\n      <td>B.1.221</td>\n      <td>0</td>\n      <td>0.0</td>\n      <td>3</td>\n      <td>0.0</td>\n    </tr>\n    <tr>\n      <th>...</th>\n      <td>...</td>\n      <td>...</td>\n      <td>...</td>\n      <td>...</td>\n      <td>...</td>\n      <td>...</td>\n      <td>...</td>\n    </tr>\n    <tr>\n      <th>100411</th>\n      <td>Zimbabwe</td>\n      <td>2021-11-01</td>\n      <td>Omicron</td>\n      <td>0</td>\n      <td>0.0</td>\n      <td>6</td>\n      <td>0.0</td>\n    </tr>\n    <tr>\n      <th>100412</th>\n      <td>Zimbabwe</td>\n      <td>2021-11-01</td>\n      <td>S:677H.Robin1</td>\n      <td>0</td>\n      <td>0.0</td>\n      <td>6</td>\n      <td>0.0</td>\n    </tr>\n    <tr>\n      <th>100413</th>\n      <td>Zimbabwe</td>\n      <td>2021-11-01</td>\n      <td>S:677P.Pelican</td>\n      <td>0</td>\n      <td>0.0</td>\n      <td>6</td>\n      <td>0.0</td>\n    </tr>\n    <tr>\n      <th>100414</th>\n      <td>Zimbabwe</td>\n      <td>2021-11-01</td>\n      <td>others</td>\n      <td>0</td>\n      <td>0.0</td>\n      <td>6</td>\n      <td>0.0</td>\n    </tr>\n    <tr>\n      <th>100415</th>\n      <td>Zimbabwe</td>\n      <td>2021-11-01</td>\n      <td>non_who</td>\n      <td>0</td>\n      <td>0.0</td>\n      <td>6</td>\n      <td>0.0</td>\n    </tr>\n  </tbody>\n</table>\n<p>100414 rows × 7 columns</p>\n</div>"
     },
     "execution_count": 40,
     "metadata": {},
     "output_type": "execute_result"
    }
   ],
   "source": [
    "data_frame[2:]"
   ],
   "metadata": {
    "collapsed": false,
    "pycharm": {
     "name": "#%%\n"
    }
   }
  },
  {
   "cell_type": "code",
   "execution_count": 48,
   "outputs": [
    {
     "data": {
      "text/plain": "             location  num_sequences_total\n96672  United Kingdom               112772\n96673  United Kingdom               112772\n96674  United Kingdom               112772\n96675  United Kingdom               112772\n96676  United Kingdom               112772\n...               ...                  ...\n97795   United States               102430\n97796   United States               102430\n97797   United States               102430\n97798   United States               102430\n97799   United States               102430\n\n[288 rows x 2 columns]",
      "text/html": "<div>\n<style scoped>\n    .dataframe tbody tr th:only-of-type {\n        vertical-align: middle;\n    }\n\n    .dataframe tbody tr th {\n        vertical-align: top;\n    }\n\n    .dataframe thead th {\n        text-align: right;\n    }\n</style>\n<table border=\"1\" class=\"dataframe\">\n  <thead>\n    <tr style=\"text-align: right;\">\n      <th></th>\n      <th>location</th>\n      <th>num_sequences_total</th>\n    </tr>\n  </thead>\n  <tbody>\n    <tr>\n      <th>96672</th>\n      <td>United Kingdom</td>\n      <td>112772</td>\n    </tr>\n    <tr>\n      <th>96673</th>\n      <td>United Kingdom</td>\n      <td>112772</td>\n    </tr>\n    <tr>\n      <th>96674</th>\n      <td>United Kingdom</td>\n      <td>112772</td>\n    </tr>\n    <tr>\n      <th>96675</th>\n      <td>United Kingdom</td>\n      <td>112772</td>\n    </tr>\n    <tr>\n      <th>96676</th>\n      <td>United Kingdom</td>\n      <td>112772</td>\n    </tr>\n    <tr>\n      <th>...</th>\n      <td>...</td>\n      <td>...</td>\n    </tr>\n    <tr>\n      <th>97795</th>\n      <td>United States</td>\n      <td>102430</td>\n    </tr>\n    <tr>\n      <th>97796</th>\n      <td>United States</td>\n      <td>102430</td>\n    </tr>\n    <tr>\n      <th>97797</th>\n      <td>United States</td>\n      <td>102430</td>\n    </tr>\n    <tr>\n      <th>97798</th>\n      <td>United States</td>\n      <td>102430</td>\n    </tr>\n    <tr>\n      <th>97799</th>\n      <td>United States</td>\n      <td>102430</td>\n    </tr>\n  </tbody>\n</table>\n<p>288 rows × 2 columns</p>\n</div>"
     },
     "execution_count": 48,
     "metadata": {},
     "output_type": "execute_result"
    }
   ],
   "source": [
    "data_frame.loc[data_frame.num_sequences_total>100000,['location','num_sequences_total']]"
   ],
   "metadata": {
    "collapsed": false,
    "pycharm": {
     "name": "#%%\n"
    }
   }
  },
  {
   "cell_type": "code",
   "execution_count": 49,
   "outputs": [
    {
     "data": {
      "text/plain": "             location        date         variant  num_sequences  \\\n96672  United Kingdom  2021-11-29           Alpha              3   \n96673  United Kingdom  2021-11-29       B.1.1.277              0   \n96674  United Kingdom  2021-11-29       B.1.1.302              0   \n96675  United Kingdom  2021-11-29       B.1.1.519              0   \n96676  United Kingdom  2021-11-29         B.1.160              0   \n...               ...         ...             ...            ...   \n97795   United States  2021-12-13         Omicron           3770   \n97796   United States  2021-12-13   S:677H.Robin1              0   \n97797   United States  2021-12-13  S:677P.Pelican              0   \n97798   United States  2021-12-13          others            202   \n97799   United States  2021-12-13         non_who            202   \n\n       perc_sequences  num_sequences_total  percentage  \n96672            0.00               112772    0.002660  \n96673            0.00               112772    0.000000  \n96674            0.00               112772    0.000000  \n96675            0.00               112772    0.000000  \n96676            0.00               112772    0.000000  \n...               ...                  ...         ...  \n97795            3.68               102430    3.680562  \n97796            0.00               102430    0.000000  \n97797            0.00               102430    0.000000  \n97798            0.21               102430    0.197208  \n97799            0.21               102430    0.197208  \n\n[288 rows x 7 columns]",
      "text/html": "<div>\n<style scoped>\n    .dataframe tbody tr th:only-of-type {\n        vertical-align: middle;\n    }\n\n    .dataframe tbody tr th {\n        vertical-align: top;\n    }\n\n    .dataframe thead th {\n        text-align: right;\n    }\n</style>\n<table border=\"1\" class=\"dataframe\">\n  <thead>\n    <tr style=\"text-align: right;\">\n      <th></th>\n      <th>location</th>\n      <th>date</th>\n      <th>variant</th>\n      <th>num_sequences</th>\n      <th>perc_sequences</th>\n      <th>num_sequences_total</th>\n      <th>percentage</th>\n    </tr>\n  </thead>\n  <tbody>\n    <tr>\n      <th>96672</th>\n      <td>United Kingdom</td>\n      <td>2021-11-29</td>\n      <td>Alpha</td>\n      <td>3</td>\n      <td>0.00</td>\n      <td>112772</td>\n      <td>0.002660</td>\n    </tr>\n    <tr>\n      <th>96673</th>\n      <td>United Kingdom</td>\n      <td>2021-11-29</td>\n      <td>B.1.1.277</td>\n      <td>0</td>\n      <td>0.00</td>\n      <td>112772</td>\n      <td>0.000000</td>\n    </tr>\n    <tr>\n      <th>96674</th>\n      <td>United Kingdom</td>\n      <td>2021-11-29</td>\n      <td>B.1.1.302</td>\n      <td>0</td>\n      <td>0.00</td>\n      <td>112772</td>\n      <td>0.000000</td>\n    </tr>\n    <tr>\n      <th>96675</th>\n      <td>United Kingdom</td>\n      <td>2021-11-29</td>\n      <td>B.1.1.519</td>\n      <td>0</td>\n      <td>0.00</td>\n      <td>112772</td>\n      <td>0.000000</td>\n    </tr>\n    <tr>\n      <th>96676</th>\n      <td>United Kingdom</td>\n      <td>2021-11-29</td>\n      <td>B.1.160</td>\n      <td>0</td>\n      <td>0.00</td>\n      <td>112772</td>\n      <td>0.000000</td>\n    </tr>\n    <tr>\n      <th>...</th>\n      <td>...</td>\n      <td>...</td>\n      <td>...</td>\n      <td>...</td>\n      <td>...</td>\n      <td>...</td>\n      <td>...</td>\n    </tr>\n    <tr>\n      <th>97795</th>\n      <td>United States</td>\n      <td>2021-12-13</td>\n      <td>Omicron</td>\n      <td>3770</td>\n      <td>3.68</td>\n      <td>102430</td>\n      <td>3.680562</td>\n    </tr>\n    <tr>\n      <th>97796</th>\n      <td>United States</td>\n      <td>2021-12-13</td>\n      <td>S:677H.Robin1</td>\n      <td>0</td>\n      <td>0.00</td>\n      <td>102430</td>\n      <td>0.000000</td>\n    </tr>\n    <tr>\n      <th>97797</th>\n      <td>United States</td>\n      <td>2021-12-13</td>\n      <td>S:677P.Pelican</td>\n      <td>0</td>\n      <td>0.00</td>\n      <td>102430</td>\n      <td>0.000000</td>\n    </tr>\n    <tr>\n      <th>97798</th>\n      <td>United States</td>\n      <td>2021-12-13</td>\n      <td>others</td>\n      <td>202</td>\n      <td>0.21</td>\n      <td>102430</td>\n      <td>0.197208</td>\n    </tr>\n    <tr>\n      <th>97799</th>\n      <td>United States</td>\n      <td>2021-12-13</td>\n      <td>non_who</td>\n      <td>202</td>\n      <td>0.21</td>\n      <td>102430</td>\n      <td>0.197208</td>\n    </tr>\n  </tbody>\n</table>\n<p>288 rows × 7 columns</p>\n</div>"
     },
     "execution_count": 49,
     "metadata": {},
     "output_type": "execute_result"
    }
   ],
   "source": [
    "data_frame[data_frame.num_sequences_total>100000]"
   ],
   "metadata": {
    "collapsed": false,
    "pycharm": {
     "name": "#%%\n"
    }
   }
  },
  {
   "cell_type": "code",
   "execution_count": 79,
   "outputs": [],
   "source": [
    "A = pd.DataFrame(np.random.randint(0,20,(2,2)))"
   ],
   "metadata": {
    "collapsed": false,
    "pycharm": {
     "name": "#%%\n"
    }
   }
  },
  {
   "cell_type": "code",
   "execution_count": 80,
   "outputs": [
    {
     "data": {
      "text/plain": "   0   1\n0  8  11\n1  9   7",
      "text/html": "<div>\n<style scoped>\n    .dataframe tbody tr th:only-of-type {\n        vertical-align: middle;\n    }\n\n    .dataframe tbody tr th {\n        vertical-align: top;\n    }\n\n    .dataframe thead th {\n        text-align: right;\n    }\n</style>\n<table border=\"1\" class=\"dataframe\">\n  <thead>\n    <tr style=\"text-align: right;\">\n      <th></th>\n      <th>0</th>\n      <th>1</th>\n    </tr>\n  </thead>\n  <tbody>\n    <tr>\n      <th>0</th>\n      <td>8</td>\n      <td>11</td>\n    </tr>\n    <tr>\n      <th>1</th>\n      <td>9</td>\n      <td>7</td>\n    </tr>\n  </tbody>\n</table>\n</div>"
     },
     "execution_count": 80,
     "metadata": {},
     "output_type": "execute_result"
    }
   ],
   "source": [
    "A"
   ],
   "metadata": {
    "collapsed": false,
    "pycharm": {
     "name": "#%%\n"
    }
   }
  },
  {
   "cell_type": "code",
   "execution_count": 53,
   "outputs": [],
   "source": [
    "B = pd.DataFrame(np.random.randint(0,10,(3,3)))"
   ],
   "metadata": {
    "collapsed": false,
    "pycharm": {
     "name": "#%%\n"
    }
   }
  },
  {
   "cell_type": "code",
   "execution_count": 54,
   "outputs": [
    {
     "data": {
      "text/plain": "   0  1  2\n0  6  3  9\n1  3  7  8\n2  7  2  8",
      "text/html": "<div>\n<style scoped>\n    .dataframe tbody tr th:only-of-type {\n        vertical-align: middle;\n    }\n\n    .dataframe tbody tr th {\n        vertical-align: top;\n    }\n\n    .dataframe thead th {\n        text-align: right;\n    }\n</style>\n<table border=\"1\" class=\"dataframe\">\n  <thead>\n    <tr style=\"text-align: right;\">\n      <th></th>\n      <th>0</th>\n      <th>1</th>\n      <th>2</th>\n    </tr>\n  </thead>\n  <tbody>\n    <tr>\n      <th>0</th>\n      <td>6</td>\n      <td>3</td>\n      <td>9</td>\n    </tr>\n    <tr>\n      <th>1</th>\n      <td>3</td>\n      <td>7</td>\n      <td>8</td>\n    </tr>\n    <tr>\n      <th>2</th>\n      <td>7</td>\n      <td>2</td>\n      <td>8</td>\n    </tr>\n  </tbody>\n</table>\n</div>"
     },
     "execution_count": 54,
     "metadata": {},
     "output_type": "execute_result"
    }
   ],
   "source": [
    "B"
   ],
   "metadata": {
    "collapsed": false,
    "pycharm": {
     "name": "#%%\n"
    }
   }
  },
  {
   "cell_type": "code",
   "execution_count": 55,
   "outputs": [
    {
     "data": {
      "text/plain": "      0     1   2\n0  23.0  11.0 NaN\n1  21.0  13.0 NaN\n2   NaN   NaN NaN",
      "text/html": "<div>\n<style scoped>\n    .dataframe tbody tr th:only-of-type {\n        vertical-align: middle;\n    }\n\n    .dataframe tbody tr th {\n        vertical-align: top;\n    }\n\n    .dataframe thead th {\n        text-align: right;\n    }\n</style>\n<table border=\"1\" class=\"dataframe\">\n  <thead>\n    <tr style=\"text-align: right;\">\n      <th></th>\n      <th>0</th>\n      <th>1</th>\n      <th>2</th>\n    </tr>\n  </thead>\n  <tbody>\n    <tr>\n      <th>0</th>\n      <td>23.0</td>\n      <td>11.0</td>\n      <td>NaN</td>\n    </tr>\n    <tr>\n      <th>1</th>\n      <td>21.0</td>\n      <td>13.0</td>\n      <td>NaN</td>\n    </tr>\n    <tr>\n      <th>2</th>\n      <td>NaN</td>\n      <td>NaN</td>\n      <td>NaN</td>\n    </tr>\n  </tbody>\n</table>\n</div>"
     },
     "execution_count": 55,
     "metadata": {},
     "output_type": "execute_result"
    }
   ],
   "source": [
    "A + B"
   ],
   "metadata": {
    "collapsed": false,
    "pycharm": {
     "name": "#%%\n"
    }
   }
  },
  {
   "cell_type": "code",
   "execution_count": 83,
   "outputs": [],
   "source": [
    "A[2] = 0"
   ],
   "metadata": {
    "collapsed": false,
    "pycharm": {
     "name": "#%%\n"
    }
   }
  },
  {
   "cell_type": "code",
   "execution_count": 81,
   "outputs": [
    {
     "name": "stdout",
     "output_type": "stream",
     "text": [
      "[0. 0. 0.]\n"
     ]
    },
    {
     "name": "stderr",
     "output_type": "stream",
     "text": [
      "/var/folders/sb/30311bq16l911lpqttfpzgdw0000gn/T/ipykernel_14035/395730836.py:3: FutureWarning: The frame.append method is deprecated and will be removed from pandas in a future version. Use pandas.concat instead.\n",
      "  A = A.append(pd.Series(np.zeros(3)),ignore_index=True)\n"
     ]
    }
   ],
   "source": [
    "print(np.zeros(3))\n",
    "\n",
    "A = A.append(pd.Series(np.zeros(3)),ignore_index=True)\n",
    "#pd.concat(A,pd.Series(np.zeros(3)))"
   ],
   "metadata": {
    "collapsed": false,
    "pycharm": {
     "name": "#%%\n"
    }
   }
  },
  {
   "cell_type": "code",
   "execution_count": 84,
   "outputs": [
    {
     "data": {
      "text/plain": "     0     1  2\n0  8.0  11.0  0\n1  9.0   7.0  0\n2  0.0   0.0  0",
      "text/html": "<div>\n<style scoped>\n    .dataframe tbody tr th:only-of-type {\n        vertical-align: middle;\n    }\n\n    .dataframe tbody tr th {\n        vertical-align: top;\n    }\n\n    .dataframe thead th {\n        text-align: right;\n    }\n</style>\n<table border=\"1\" class=\"dataframe\">\n  <thead>\n    <tr style=\"text-align: right;\">\n      <th></th>\n      <th>0</th>\n      <th>1</th>\n      <th>2</th>\n    </tr>\n  </thead>\n  <tbody>\n    <tr>\n      <th>0</th>\n      <td>8.0</td>\n      <td>11.0</td>\n      <td>0</td>\n    </tr>\n    <tr>\n      <th>1</th>\n      <td>9.0</td>\n      <td>7.0</td>\n      <td>0</td>\n    </tr>\n    <tr>\n      <th>2</th>\n      <td>0.0</td>\n      <td>0.0</td>\n      <td>0</td>\n    </tr>\n  </tbody>\n</table>\n</div>"
     },
     "execution_count": 84,
     "metadata": {},
     "output_type": "execute_result"
    }
   ],
   "source": [
    "A"
   ],
   "metadata": {
    "collapsed": false,
    "pycharm": {
     "name": "#%%\n"
    }
   }
  },
  {
   "cell_type": "code",
   "execution_count": 85,
   "outputs": [
    {
     "data": {
      "text/plain": "      0     1  2\n0  14.0  14.0  9\n1  12.0  14.0  8\n2   7.0   2.0  8",
      "text/html": "<div>\n<style scoped>\n    .dataframe tbody tr th:only-of-type {\n        vertical-align: middle;\n    }\n\n    .dataframe tbody tr th {\n        vertical-align: top;\n    }\n\n    .dataframe thead th {\n        text-align: right;\n    }\n</style>\n<table border=\"1\" class=\"dataframe\">\n  <thead>\n    <tr style=\"text-align: right;\">\n      <th></th>\n      <th>0</th>\n      <th>1</th>\n      <th>2</th>\n    </tr>\n  </thead>\n  <tbody>\n    <tr>\n      <th>0</th>\n      <td>14.0</td>\n      <td>14.0</td>\n      <td>9</td>\n    </tr>\n    <tr>\n      <th>1</th>\n      <td>12.0</td>\n      <td>14.0</td>\n      <td>8</td>\n    </tr>\n    <tr>\n      <th>2</th>\n      <td>7.0</td>\n      <td>2.0</td>\n      <td>8</td>\n    </tr>\n  </tbody>\n</table>\n</div>"
     },
     "execution_count": 85,
     "metadata": {},
     "output_type": "execute_result"
    }
   ],
   "source": [
    "A + B"
   ],
   "metadata": {
    "collapsed": false,
    "pycharm": {
     "name": "#%%\n"
    }
   }
  },
  {
   "cell_type": "markdown",
   "source": [
    "# Handling Missing Data"
   ],
   "metadata": {
    "collapsed": false,
    "pycharm": {
     "name": "#%% md\n"
    }
   }
  },
  {
   "cell_type": "code",
   "execution_count": null,
   "outputs": [],
   "source": [],
   "metadata": {
    "collapsed": false,
    "pycharm": {
     "name": "#%%\n"
    }
   }
  }
 ],
 "metadata": {
  "kernelspec": {
   "display_name": "Python 3",
   "language": "python",
   "name": "python3"
  },
  "language_info": {
   "codemirror_mode": {
    "name": "ipython",
    "version": 2
   },
   "file_extension": ".py",
   "mimetype": "text/x-python",
   "name": "python",
   "nbconvert_exporter": "python",
   "pygments_lexer": "ipython2",
   "version": "2.7.6"
  }
 },
 "nbformat": 4,
 "nbformat_minor": 0
}