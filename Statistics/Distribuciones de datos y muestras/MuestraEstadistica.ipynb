{
 "cells": [
  {
   "cell_type": "code",
   "execution_count": 8,
   "metadata": {
    "collapsed": true
   },
   "outputs": [],
   "source": [
    "import pandas as pd\n",
    "import seaborn as sns\n",
    "import matplotlib.pyplot as plt"
   ]
  },
  {
   "cell_type": "code",
   "execution_count": 2,
   "outputs": [
    {
     "data": {
      "text/plain": "       income\n0       67000\n1       52000\n2      100000\n3       78762\n4       37041\n...       ...\n49995   40000\n49996   54000\n49997   50000\n49998   82000\n49999   70000\n\n[50000 rows x 1 columns]",
      "text/html": "<div>\n<style scoped>\n    .dataframe tbody tr th:only-of-type {\n        vertical-align: middle;\n    }\n\n    .dataframe tbody tr th {\n        vertical-align: top;\n    }\n\n    .dataframe thead th {\n        text-align: right;\n    }\n</style>\n<table border=\"1\" class=\"dataframe\">\n  <thead>\n    <tr style=\"text-align: right;\">\n      <th></th>\n      <th>income</th>\n    </tr>\n  </thead>\n  <tbody>\n    <tr>\n      <th>0</th>\n      <td>67000</td>\n    </tr>\n    <tr>\n      <th>1</th>\n      <td>52000</td>\n    </tr>\n    <tr>\n      <th>2</th>\n      <td>100000</td>\n    </tr>\n    <tr>\n      <th>3</th>\n      <td>78762</td>\n    </tr>\n    <tr>\n      <th>4</th>\n      <td>37041</td>\n    </tr>\n    <tr>\n      <th>...</th>\n      <td>...</td>\n    </tr>\n    <tr>\n      <th>49995</th>\n      <td>40000</td>\n    </tr>\n    <tr>\n      <th>49996</th>\n      <td>54000</td>\n    </tr>\n    <tr>\n      <th>49997</th>\n      <td>50000</td>\n    </tr>\n    <tr>\n      <th>49998</th>\n      <td>82000</td>\n    </tr>\n    <tr>\n      <th>49999</th>\n      <td>70000</td>\n    </tr>\n  </tbody>\n</table>\n<p>50000 rows × 1 columns</p>\n</div>"
     },
     "execution_count": 2,
     "metadata": {},
     "output_type": "execute_result"
    }
   ],
   "source": [
    "sample_data = pd.read_csv(\"../../dataset/loans_income.csv\")\n",
    "sample_data"
   ],
   "metadata": {
    "collapsed": false,
    "pycharm": {
     "name": "#%%\n"
    }
   }
  },
  {
   "cell_type": "code",
   "execution_count": 5,
   "outputs": [
    {
     "data": {
      "text/plain": "       income  type\n38652   49000  Data\n47709   80000  Data\n4542   110000  Data\n32471   40000  Data\n14344   52500  Data\n...       ...   ...\n34470   96000  Data\n3314    70000  Data\n24270  155000  Data\n43052   64000  Data\n25790   25000  Data\n\n[1000 rows x 2 columns]",
      "text/html": "<div>\n<style scoped>\n    .dataframe tbody tr th:only-of-type {\n        vertical-align: middle;\n    }\n\n    .dataframe tbody tr th {\n        vertical-align: top;\n    }\n\n    .dataframe thead th {\n        text-align: right;\n    }\n</style>\n<table border=\"1\" class=\"dataframe\">\n  <thead>\n    <tr style=\"text-align: right;\">\n      <th></th>\n      <th>income</th>\n      <th>type</th>\n    </tr>\n  </thead>\n  <tbody>\n    <tr>\n      <th>38652</th>\n      <td>49000</td>\n      <td>Data</td>\n    </tr>\n    <tr>\n      <th>47709</th>\n      <td>80000</td>\n      <td>Data</td>\n    </tr>\n    <tr>\n      <th>4542</th>\n      <td>110000</td>\n      <td>Data</td>\n    </tr>\n    <tr>\n      <th>32471</th>\n      <td>40000</td>\n      <td>Data</td>\n    </tr>\n    <tr>\n      <th>14344</th>\n      <td>52500</td>\n      <td>Data</td>\n    </tr>\n    <tr>\n      <th>...</th>\n      <td>...</td>\n      <td>...</td>\n    </tr>\n    <tr>\n      <th>34470</th>\n      <td>96000</td>\n      <td>Data</td>\n    </tr>\n    <tr>\n      <th>3314</th>\n      <td>70000</td>\n      <td>Data</td>\n    </tr>\n    <tr>\n      <th>24270</th>\n      <td>155000</td>\n      <td>Data</td>\n    </tr>\n    <tr>\n      <th>43052</th>\n      <td>64000</td>\n      <td>Data</td>\n    </tr>\n    <tr>\n      <th>25790</th>\n      <td>25000</td>\n      <td>Data</td>\n    </tr>\n  </tbody>\n</table>\n<p>1000 rows × 2 columns</p>\n</div>"
     },
     "execution_count": 5,
     "metadata": {},
     "output_type": "execute_result"
    }
   ],
   "source": [
    "sample = pd.DataFrame({\n",
    "    'income':sample_data.sample(1000).income,\n",
    "    'type':\"Data\"\n",
    "})\n",
    "sample"
   ],
   "metadata": {
    "collapsed": false,
    "pycharm": {
     "name": "#%%\n"
    }
   }
  },
  {
   "cell_type": "code",
   "execution_count": 6,
   "outputs": [
    {
     "data": {
      "text/plain": "      income       type\n0    72300.0  Mean of 5\n1    99394.8  Mean of 5\n2    73600.0  Mean of 5\n3    80088.0  Mean of 5\n4    68000.8  Mean of 5\n..       ...        ...\n995  74000.0  Mean of 5\n996  54800.0  Mean of 5\n997  74679.4  Mean of 5\n998  67600.0  Mean of 5\n999  65080.0  Mean of 5\n\n[1000 rows x 2 columns]",
      "text/html": "<div>\n<style scoped>\n    .dataframe tbody tr th:only-of-type {\n        vertical-align: middle;\n    }\n\n    .dataframe tbody tr th {\n        vertical-align: top;\n    }\n\n    .dataframe thead th {\n        text-align: right;\n    }\n</style>\n<table border=\"1\" class=\"dataframe\">\n  <thead>\n    <tr style=\"text-align: right;\">\n      <th></th>\n      <th>income</th>\n      <th>type</th>\n    </tr>\n  </thead>\n  <tbody>\n    <tr>\n      <th>0</th>\n      <td>72300.0</td>\n      <td>Mean of 5</td>\n    </tr>\n    <tr>\n      <th>1</th>\n      <td>99394.8</td>\n      <td>Mean of 5</td>\n    </tr>\n    <tr>\n      <th>2</th>\n      <td>73600.0</td>\n      <td>Mean of 5</td>\n    </tr>\n    <tr>\n      <th>3</th>\n      <td>80088.0</td>\n      <td>Mean of 5</td>\n    </tr>\n    <tr>\n      <th>4</th>\n      <td>68000.8</td>\n      <td>Mean of 5</td>\n    </tr>\n    <tr>\n      <th>...</th>\n      <td>...</td>\n      <td>...</td>\n    </tr>\n    <tr>\n      <th>995</th>\n      <td>74000.0</td>\n      <td>Mean of 5</td>\n    </tr>\n    <tr>\n      <th>996</th>\n      <td>54800.0</td>\n      <td>Mean of 5</td>\n    </tr>\n    <tr>\n      <th>997</th>\n      <td>74679.4</td>\n      <td>Mean of 5</td>\n    </tr>\n    <tr>\n      <th>998</th>\n      <td>67600.0</td>\n      <td>Mean of 5</td>\n    </tr>\n    <tr>\n      <th>999</th>\n      <td>65080.0</td>\n      <td>Mean of 5</td>\n    </tr>\n  </tbody>\n</table>\n<p>1000 rows × 2 columns</p>\n</div>"
     },
     "execution_count": 6,
     "metadata": {},
     "output_type": "execute_result"
    }
   ],
   "source": [
    "sample_mean_5 = pd.DataFrame({\n",
    "    'income':[sample_data.income.sample(5).mean() for _ in range(1000)],\n",
    "    'type':\"Mean of 5\"\n",
    "})\n",
    "sample_mean_5"
   ],
   "metadata": {
    "collapsed": false,
    "pycharm": {
     "name": "#%%\n"
    }
   }
  },
  {
   "cell_type": "code",
   "execution_count": 10,
   "outputs": [
    {
     "data": {
      "text/plain": "<seaborn.axisgrid.FacetGrid at 0x159aa1b80>"
     },
     "execution_count": 10,
     "metadata": {},
     "output_type": "execute_result"
    },
    {
     "data": {
      "text/plain": "<Figure size 288x288 with 2 Axes>",
      "image/png": "[encoded data removed]"
     },
     "metadata": {
      "needs_background": "light"
     },
     "output_type": "display_data"
    }
   ],
   "source": [
    "results = pd.concat([sample,sample_mean_5])\n",
    "g = sns.FacetGrid(results,col=\"type\",col_wrap=1,height=2,aspect=2)\n",
    "g.map(plt.hist,\"income\",range=[0,200000],bins=40)\n",
    "g.set_axis_labels(\"Income\",\"Count\")\n",
    "#g.set_titles(\"\")"
   ],
   "metadata": {
    "collapsed": false,
    "pycharm": {
     "name": "#%%\n"
    }
   }
  },
  {
   "cell_type": "code",
   "execution_count": null,
   "outputs": [],
   "source": [],
   "metadata": {
    "collapsed": false,
    "pycharm": {
     "name": "#%%\n"
    }
   }
  }
 ],
 "metadata": {
  "kernelspec": {
   "display_name": "Python 3",
   "language": "python",
   "name": "python3"
  },
  "language_info": {
   "codemirror_mode": {
    "name": "ipython",
    "version": 2
   },
   "file_extension": ".py",
   "mimetype": "text/x-python",
   "name": "python",
   "nbconvert_exporter": "python",
   "pygments_lexer": "ipython2",
   "version": "2.7.6"
  }
 },
 "nbformat": 4,
 "nbformat_minor": 0
}